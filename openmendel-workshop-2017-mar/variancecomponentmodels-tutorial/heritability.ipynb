{
 "cells": [
  {
   "cell_type": "markdown",
   "metadata": {},
   "source": [
    "# Heritability Analysis\n",
    "\n",
    "##### [OpenMendel Programming Workshop](http://www.genetics.ucla.edu/courses/statgene/Mendel/)\n",
    "##### Dr. Hua Zhou, [huazhou@ucla.edu](mailto: huazhou@ucla.edu)\n",
    "##### Department of Biostatistics, UCLA\n",
    "##### Mar 9, 2017"
   ]
  },
  {
   "cell_type": "markdown",
   "metadata": {},
   "source": [
    "As an application of the variance component model, this note demonstrates the workflow for heritability analysis in genetics, using a sample data set `cg10k` with **6,670** individuals and **630,860** SNPs. Person IDs and phenotype names are masked for privacy. `cg10k.bed`, `cg10k.bim`, and `cg10k.fam` is a set of Plink files in binary format. `cg10k_traits.txt` contains 13 phenotypes of the 6,670 individuals."
   ]
  },
  {
   "cell_type": "code",
   "execution_count": 1,
   "metadata": {
    "collapsed": false
   },
   "outputs": [
    {
     "name": "stdout",
     "output_type": "stream",
     "text": [
      "cg10k.bed\n",
      "cg10k.bim\n",
      "cg10k.fam\n",
      "cg10k.jld\n",
      "cg10k_traits.txt\n"
     ]
    }
   ],
   "source": [
    ";ls cg10k*.*"
   ]
  },
  {
   "cell_type": "markdown",
   "metadata": {},
   "source": [
    "Machine information:"
   ]
  },
  {
   "cell_type": "code",
   "execution_count": 2,
   "metadata": {
    "collapsed": false
   },
   "outputs": [
    {
     "name": "stdout",
     "output_type": "stream",
     "text": [
      "Julia Version 0.5.1\n",
      "Commit 6445c82 (2017-03-05 13:25 UTC)\n",
      "Platform Info:\n",
      "  OS: macOS (x86_64-apple-darwin13.4.0)\n",
      "  CPU: Intel(R) Core(TM) i7-6920HQ CPU @ 2.90GHz\n",
      "  WORD_SIZE: 64\n",
      "  BLAS: libopenblas (USE64BITINT DYNAMIC_ARCH NO_AFFINITY Haswell)\n",
      "  LAPACK: libopenblas64_\n",
      "  LIBM: libopenlibm\n",
      "  LLVM: libLLVM-3.7.1 (ORCJIT, broadwell)\n"
     ]
    }
   ],
   "source": [
    "versioninfo()"
   ]
  },
  {
   "cell_type": "markdown",
   "metadata": {},
   "source": [
    "## Read in binary SNP data"
   ]
  },
  {
   "cell_type": "markdown",
   "metadata": {},
   "source": [
    "We will use the [`SnpArrays.jl`](https://github.com/Hua-Zhou/SnpArrays.jl) package to read in binary SNP data and compute the empirical kinship matrix. Issue `Pkg.clone(\"git@github.com:OpenMendel/SnpArrays.jl.git\")` within `Julia` to install the `SnpArrays` package."
   ]
  },
  {
   "cell_type": "code",
   "execution_count": 3,
   "metadata": {
    "collapsed": false
   },
   "outputs": [],
   "source": [
    "#Pkg.clone(\"git@github.com:OpenMendel/SnpArrays.jl.git\")\n",
    "using SnpArrays"
   ]
  },
  {
   "cell_type": "code",
   "execution_count": 4,
   "metadata": {
    "collapsed": false
   },
   "outputs": [
    {
     "name": "stdout",
     "output_type": "stream",
     "text": [
      " 35.414072 seconds (299.11 k allocations: 1015.674 MB, 0.27% gc time)\n"
     ]
    }
   ],
   "source": [
    "# read in genotype data from Plink binary file (~40 secs on my laptop)\n",
    "@time cg10k = SnpArray(\"cg10k\")"
   ]
  },
  {
   "cell_type": "markdown",
   "metadata": {},
   "source": [
    "## Summary statistics of SNP data"
   ]
  },
  {
   "cell_type": "code",
   "execution_count": 5,
   "metadata": {
    "collapsed": false
   },
   "outputs": [
    {
     "data": {
      "text/plain": [
       "(6670,630860)"
      ]
     },
     "execution_count": 5,
     "metadata": {},
     "output_type": "execute_result"
    }
   ],
   "source": [
    "people, snps = size(cg10k)"
   ]
  },
  {
   "cell_type": "code",
   "execution_count": 6,
   "metadata": {
    "collapsed": false
   },
   "outputs": [
    {
     "name": "stdout",
     "output_type": "stream",
     "text": [
      " 25"
     ]
    }
   ],
   "source": [
    "# summary statistics (~26 secs on my laptop)\n",
    "@time maf, _, missings_by_snp, = summarize(cg10k);"
   ]
  },
  {
   "cell_type": "code",
   "execution_count": 7,
   "metadata": {
    "collapsed": false
   },
   "outputs": [
    {
     "data": {
      "text/plain": [
       "(\n",
       "[0.00841726 0.124063 … 0.364253 0.5],\n",
       "\n",
       "0.24536516625042462)"
      ]
     },
     "execution_count": 7,
     "metadata": {},
     "output_type": "execute_result"
    }
   ],
   "source": [
    "# 5 number summary and average MAF (minor allele frequencies)\n",
    "quantile(maf, [0.0 .25 .5 .75 1.0]), mean(maf)"
   ]
  },
  {
   "cell_type": "code",
   "execution_count": 8,
   "metadata": {
    "collapsed": false
   },
   "outputs": [
    {
     "data": {
      "text/html": [
       "<img src=\"data:image/png;base64,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\" />"
      ]
     },
     "execution_count": 8,
     "metadata": {},
     "output_type": "execute_result"
    },
    {
     "name": "stderr",
     "output_type": "stream",
     "text": [
      "sys:1: MatplotlibDeprecationWarning: The set_axis_bgcolor function was deprecated in version 2.0. Use set_facecolor instead.\n"
     ]
    }
   ],
   "source": [
    "using Plots\n",
    "pyplot()\n",
    "\n",
    "histogram(maf, xlab = \"Minor Allele Frequency (MAF)\", label = \"MAF\")"
   ]
  },
  {
   "cell_type": "code",
   "execution_count": 9,
   "metadata": {
    "collapsed": false
   },
   "outputs": [
    {
     "data": {
      "text/plain": [
       "0.0013128198764010824"
      ]
     },
     "execution_count": 9,
     "metadata": {},
     "output_type": "execute_result"
    }
   ],
   "source": [
    "# proportion of missing genotypes\n",
    "sum(missings_by_snp) / length(cg10k)"
   ]
  },
  {
   "cell_type": "code",
   "execution_count": 10,
   "metadata": {
    "collapsed": false
   },
   "outputs": [
    {
     "data": {
      "text/plain": [
       "0.07228069619249913"
      ]
     },
     "execution_count": 10,
     "metadata": {},
     "output_type": "execute_result"
    }
   ],
   "source": [
    "# proportion of rare SNPs with maf < 0.05\n",
    "countnz(maf .< 0.05) / length(maf)"
   ]
  },
  {
   "cell_type": "markdown",
   "metadata": {},
   "source": [
    "## Empirical kinship matrix\n",
    "\n",
    "We estimate empirical kinship based on all SNPs by the genetic relation matrix (GRM). Missing genotypes are imputed on the fly by drawing according to the minor allele frequencies."
   ]
  },
  {
   "cell_type": "code",
   "execution_count": null,
   "metadata": {
    "collapsed": false
   },
   "outputs": [],
   "source": [
    "# GRM using all SNPs (~10 mins on my laptop)\n",
    "srand(123)\n",
    "@time Φgrm = grm(cg10k; method = :GRM)"
   ]
  },
  {
   "cell_type": "markdown",
   "metadata": {
    "collapsed": false
   },
   "source": [
    "## Phenotypes"
   ]
  },
  {
   "cell_type": "markdown",
   "metadata": {},
   "source": [
    "Read in the phenotype data and compute descriptive statistics."
   ]
  },
  {
   "cell_type": "code",
   "execution_count": null,
   "metadata": {
    "collapsed": false
   },
   "outputs": [],
   "source": [
    "using DataFrames\n",
    "\n",
    "cg10k_trait = readtable(\n",
    "    \"cg10k_traits.txt\"; \n",
    "    separator = ' ',\n",
    "    names = [:FID; :IID; :Trait1; :Trait2; :Trait3; :Trait4; :Trait5; :Trait6; \n",
    "             :Trait7; :Trait8; :Trait9; :Trait10; :Trait11; :Trait12; :Trait13],  \n",
    "    eltypes = [String; String; Float64; Float64; Float64; Float64; Float64; \n",
    "               Float64; Float64; Float64; Float64; Float64; Float64; Float64; Float64]\n",
    "    )"
   ]
  },
  {
   "cell_type": "code",
   "execution_count": null,
   "metadata": {
    "collapsed": false
   },
   "outputs": [],
   "source": [
    "describe(cg10k_trait)"
   ]
  },
  {
   "cell_type": "code",
   "execution_count": null,
   "metadata": {
    "collapsed": false
   },
   "outputs": [],
   "source": [
    "Y = convert(Matrix{Float64}, cg10k_trait[:, 3:15])\n",
    "histogram(Y, layout = 13)"
   ]
  },
  {
   "cell_type": "markdown",
   "metadata": {},
   "source": [
    "## Pre-processing data for heritability analysis"
   ]
  },
  {
   "cell_type": "markdown",
   "metadata": {},
   "source": [
    "To prepare variance component model fitting, we form an instance of `VarianceComponentVariate`. The two variance components are $(2\\Phi, I)$."
   ]
  },
  {
   "cell_type": "code",
   "execution_count": null,
   "metadata": {
    "collapsed": false
   },
   "outputs": [],
   "source": [
    "using VarianceComponentModels\n",
    "\n",
    "# form data as VarianceComponentVariate\n",
    "cg10kdata = VarianceComponentVariate(Y, (2Φgrm, eye(size(Y, 1))))\n",
    "fieldnames(cg10kdata)"
   ]
  },
  {
   "cell_type": "code",
   "execution_count": null,
   "metadata": {
    "collapsed": false
   },
   "outputs": [],
   "source": [
    "cg10kdata"
   ]
  },
  {
   "cell_type": "markdown",
   "metadata": {},
   "source": [
    "Before fitting the variance component model, we pre-compute the eigen-decomposition of $2\\Phi_{\\text{GRM}}$, the rotated responses, and the constant part in log-likelihood, and store them as a `TwoVarCompVariateRotate` instance, which is re-used in various variane component estimation procedures."
   ]
  },
  {
   "cell_type": "code",
   "execution_count": null,
   "metadata": {
    "collapsed": false
   },
   "outputs": [],
   "source": [
    "# pre-compute eigen-decomposition (~50 secs on my laptop)\n",
    "@time cg10kdata_rotated = TwoVarCompVariateRotate(cg10kdata)\n",
    "fieldnames(cg10kdata_rotated)"
   ]
  },
  {
   "cell_type": "markdown",
   "metadata": {},
   "source": [
    "## Save intermediate results\n",
    "\n",
    "We don't want to re-compute SnpArray and empirical kinship matrices again and again for heritibility analysis."
   ]
  },
  {
   "cell_type": "code",
   "execution_count": null,
   "metadata": {
    "collapsed": false,
    "scrolled": true
   },
   "outputs": [],
   "source": [
    "#using JLD\n",
    "#@save \"cg10k.jld\""
   ]
  },
  {
   "cell_type": "markdown",
   "metadata": {},
   "source": [
    "To load workspace"
   ]
  },
  {
   "cell_type": "code",
   "execution_count": 1,
   "metadata": {
    "collapsed": false,
    "scrolled": true
   },
   "outputs": [
    {
     "name": "stdout",
     "output_type": "stream",
     "text": [
      "                          Base  40288 KB     Module\n",
      "                       BinDeps    218 KB     Module\n",
      "                         Blosc     59 KB     Module\n"
     ]
    },
    {
     "name": "stderr",
     "output_type": "stream",
     "text": [
      "WARNING: imported binding for ans overwritten in module Main\n"
     ]
    },
    {
     "name": "stdout",
     "output_type": "stream",
     "text": [
      "                    ColorTypes   6642 KB     Module\n",
      "                        Colors   6589 KB     Module\n",
      "                        Compat   6312 KB     Module\n",
      "                         Conda   6688 KB     Module\n",
      "                          Core  15924 KB     Module\n",
      "                    DataArrays   6603 KB     Module\n",
      "                    DataFrames    646 KB     Module\n",
      "                DataStructures    234 KB     Module\n",
      "                        FileIO   7178 KB     Module\n",
      "             FixedPointNumbers   6790 KB     Module\n",
      "               FixedSizeArrays   6437 KB     Module\n",
      "                          GZip   6217 KB     Module\n",
      "                          HDF5   6875 KB     Module\n",
      "                        Hiccup     84 KB     Module\n",
      "                        IJulia   7414 KB     Module\n",
      "                         Ipopt     32 KB     Module\n",
      "              IterativeSolvers    333 KB     Module\n",
      "                     Iterators     44 KB     Module\n",
      "                           JLD   7052 KB     Module\n",
      "                          JSON   6380 KB     Module\n",
      "                          Juno     78 KB     Module\n",
      "                        KNITRO    218 KB     Module\n",
      "                  LaTeXStrings   4622 bytes  Module\n",
      "                 LegacyStrings     68 KB     Module\n",
      "                    MacroTools   6414 KB     Module\n",
      "                          Main 2491583 KB     Module\n",
      "                  MathProgBase    272 KB     Module\n",
      "                      Measures     21 KB     Module\n",
      "                         Media   6280 KB     Module\n",
      "                        Nettle   6284 KB     Module\n",
      "                    PlotThemes   6231 KB     Module\n",
      "                     PlotUtils   6389 KB     Module\n",
      "                         Plots   9434 KB     Module\n",
      "                        PyCall   7615 KB     Module\n",
      "                        PyPlot   7952 KB     Module\n",
      "                   RecipesBase    179 KB     Module\n",
      "                      Reexport   6178 bytes  Module\n",
      "                           SHA     71 KB     Module\n",
      "                       Showoff     27 KB     Module\n",
      "                     SnpArrays     96 KB     Module\n",
      "             SortingAlgorithms     28 KB     Module\n",
      "              SpecialFunctions   6492 KB     Module\n",
      "                     StatsBase    573 KB     Module\n",
      "                     URIParser   6300 KB     Module\n",
      "       VarianceComponentModels    189 KB     Module\n",
      "                             Y    677 KB     6670×13 Array{Float64,2}\n",
      "                           ZMQ   6292 KB     Module\n",
      "                           ans    978 KB     6670×15 DataFrames.DataFrame\n",
      "                         cg10k 1027303 KB     6670×630860 SnpArrays.SnpArray{2}\n",
      "                   cg10k_trait    978 KB     6670×15 DataFrames.DataFrame\n",
      "                     cg10kdata 695816 KB     VarianceComponentModels.VarianceCo…\n",
      "             cg10kdata_rotated 348299 KB     VarianceComponentModels.TwoVarComp…\n",
      "                           maf   4928 KB     630860-element Array{Float64,1}\n",
      "               missings_by_snp   4928 KB     630860-element Array{Int64,1}\n",
      "                        people      8 bytes  Int64\n",
      "                          snps      8 bytes  Int64\n",
      "                          Φgrm 347569 KB     6670×6670 Array{Float64,2}\n"
     ]
    }
   ],
   "source": [
    "using SnpArrays, JLD, DataFrames, VarianceComponentModels, Plots\n",
    "pyplot()\n",
    "@load \"cg10k.jld\"\n",
    "whos()"
   ]
  },
  {
   "cell_type": "markdown",
   "metadata": {},
   "source": [
    "## Heritability of single traits"
   ]
  },
  {
   "cell_type": "markdown",
   "metadata": {},
   "source": [
    "We use Fisher scoring algorithm to fit variance component model for each single trait."
   ]
  },
  {
   "cell_type": "code",
   "execution_count": 2,
   "metadata": {
    "collapsed": false
   },
   "outputs": [
    {
     "data": {
      "text/plain": [
       "5-element Array{Symbol,1}:\n",
       " :Yrot    \n",
       " :Xrot    \n",
       " :eigval  \n",
       " :eigvec  \n",
       " :logdetV2"
      ]
     },
     "execution_count": 2,
     "metadata": {},
     "output_type": "execute_result"
    }
   ],
   "source": [
    "fieldnames(cg10kdata_rotated)"
   ]
  },
  {
   "cell_type": "code",
   "execution_count": 3,
   "metadata": {
    "collapsed": false,
    "scrolled": true
   },
   "outputs": [
    {
     "name": "stdout",
     "output_type": "stream",
     "text": [
      "Trait1\n",
      "\n",
      "******************************************************************************\n",
      "This program contains Ipopt, a library for large-scale nonlinear optimization.\n",
      " Ipopt is released as open source code under the Eclipse Public License (EPL).\n",
      "         For more information visit http://projects.coin-or.org/Ipopt\n",
      "******************************************************************************\n",
      "\n",
      "(σ2a[trait],σ2e[trait]) = (0.2601054897250638,0.7366255055516774)\n",
      "Trait2\n",
      "(σ2a[trait],σ2e[trait]) = (0.18750033519555293,0.8119291657468009)\n",
      "Trait3\n",
      "(σ2a[trait],σ2e[trait]) = (0.3177969661633715,0.6809244802788776)\n",
      "Trait4\n",
      "(σ2a[trait],σ2e[trait]) = (0.2652293671680357,0.7307038643393429)\n",
      "Trait5\n",
      "(σ2a[trait],σ2e[trait]) = (0.280571149161586,0.717462282804148)\n",
      "Trait6\n",
      "(σ2a[trait],σ2e[trait]) = (0.2834863902688827,0.7160258905739828)\n",
      "Trait7\n",
      "(σ2a[trait],σ2e[trait]) = (0.2158076416950094,0.7812541089294298)\n",
      "Trait8\n",
      "(σ2a[trait],σ2e[trait]) = (0.19536796311404603,0.804286383544094)\n",
      "Trait9\n",
      "(σ2a[trait],σ2e[trait]) = (0.2474092678620962,0.7509480522612377)\n",
      "Trait10\n",
      "(σ2a[trait],σ2e[trait]) = (0.10165748883461966,0.8982341821542119)\n",
      "Trait11\n",
      "(σ2a[trait],σ2e[trait]) = (0.16639297017894325,0.8322762986666571)\n",
      "Trait12\n",
      "(σ2a[trait],σ2e[trait]) = (0.08321275536833583,0.91557777635981)\n",
      "Trait13\n",
      "(σ2a[trait],σ2e[trait]) = (0.059291910293454805,0.9399178149345769)\n",
      "  4.796625 seconds (4.93 M allocations: 195.751 MB, 1.81% gc time)\n"
     ]
    }
   ],
   "source": [
    "# heritability from single trait analysis\n",
    "hST = zeros(13)\n",
    "# standard errors of estimated heritability\n",
    "hST_se = zeros(13)\n",
    "# additive genetic effects\n",
    "σ2a = zeros(13)\n",
    "# enviromental effects\n",
    "σ2e = zeros(13)\n",
    "\n",
    "@time for trait in 1:13\n",
    "    println(names(cg10k_trait)[trait + 2])\n",
    "    # form data set for trait j\n",
    "    traitj_data = TwoVarCompVariateRotate(cg10kdata_rotated.Yrot[:, trait], cg10kdata_rotated.Xrot, \n",
    "        cg10kdata_rotated.eigval, cg10kdata_rotated.eigvec, cg10kdata_rotated.logdetV2)\n",
    "    # initialize model parameters\n",
    "    traitj_model = VarianceComponentModel(traitj_data)\n",
    "    # estimate variance components\n",
    "    _, _, _, Σcov, _, _ = mle_fs!(traitj_model, traitj_data; solver=:Ipopt, verbose=false)\n",
    "    σ2a[trait] = traitj_model.Σ[1][1]\n",
    "    σ2e[trait] = traitj_model.Σ[2][1]\n",
    "    @show σ2a[trait], σ2e[trait]\n",
    "    #h, hse = heritability(traitj_model.Σ, Σcov)\n",
    "    #heritability(traitj_model.Σ, Σcov)\n",
    "    #hST[trait] = h[1]\n",
    "    #hST_se[trait] = hse[1]\n",
    "end"
   ]
  },
  {
   "cell_type": "code",
   "execution_count": null,
   "metadata": {
    "collapsed": false
   },
   "outputs": [],
   "source": [
    "# heritability and standard errors\n",
    "#[hST'; hST_se']"
   ]
  },
  {
   "cell_type": "markdown",
   "metadata": {},
   "source": [
    "## Pairwise traits\n",
    "\n",
    "Joint analysis of multiple traits is subject to intensive research recently. Following code snippet does joint analysis of all pairs of traits, a total of 78 bivariate variane component models."
   ]
  },
  {
   "cell_type": "code",
   "execution_count": 4,
   "metadata": {
    "collapsed": false
   },
   "outputs": [
    {
     "name": "stdout",
     "output_type": "stream",
     "text": [
      "Trait1Trait2\n",
      "(Σa[i,j],Σe[i,j]) = (\n",
      "[0.259171 0.175207; 0.175207 0.186147],\n",
      "\n",
      "[0.737539 0.5849; 0.5849 0.813261])\n",
      "Trait1Trait3\n",
      "(Σa[i,j],Σe[i,j]) = (\n",
      "[0.260591 -0.0130762; -0.0130762 0.318234],\n",
      "\n",
      "[0.736153 -0.121185; -0.121185 0.680504])\n",
      "Trait1Trait4\n",
      "(Σa[i,j],Σe[i,j]) = (\n",
      "[0.259948 0.222108; 0.222108 0.265239],\n",
      "\n",
      "[0.736779 0.599945; 0.599945 0.730695])\n",
      "Trait1Trait5\n",
      "(Σa[i,j],Σe[i,j]) = (\n",
      "[0.259864 -0.146217; -0.146217 0.28122],\n",
      "\n",
      "[0.736858 -0.255381; -0.255381 0.716835])\n",
      "Trait1Trait6\n",
      "(Σa[i,j],Σe[i,j]) = (\n",
      "[0.259772 -0.128829; -0.128829 0.283718],\n",
      "\n",
      "[0.736949 -0.231891; -0.231891 0.715802])\n",
      "Trait1Trait7\n",
      "(Σa[i,j],Σe[i,j]) = (\n",
      "[0.259386 -0.139502; -0.139502 0.215469],\n",
      "\n",
      "[0.737329 -0.198563; -0.198563 0.781599])\n",
      "Trait1Trait8\n",
      "(Σa[i,j],Σe[i,j]) = (\n",
      "[0.2601 -0.0336227; -0.0336227 0.195384],\n",
      "\n",
      "[0.736631 -0.12618; -0.12618 0.804271])\n",
      "Trait1Trait9\n",
      "(Σa[i,j],Σe[i,j]) = (\n",
      "[0.262141 -0.204978; -0.204978 0.246352],\n",
      "\n",
      "[0.734673 -0.307339; -0.307339 0.75199])\n",
      "Trait1Trait10\n",
      "(Σa[i,j],Σe[i,j]) = (\n",
      "[0.259973 -0.100191; -0.100191 0.0987687],\n",
      "\n",
      "[0.736755 -0.303237; -0.303237 0.90111])\n",
      "Trait1Trait11\n",
      "(Σa[i,j],Σe[i,j]) = (\n",
      "[0.259772 -0.139729; -0.139729 0.164661],\n",
      "\n",
      "[0.73695 -0.358431; -0.358431 0.833998])\n",
      "Trait1Trait12\n",
      "(Σa[i,j],Σe[i,j]) = (\n",
      "[0.262168 -0.145526; -0.145526 0.0807797],\n",
      "\n",
      "[0.734684 -0.0417086; -0.0417086 0.918094])\n",
      "Trait1Trait13\n",
      "(Σa[i,j],Σe[i,j]) = (\n",
      "[0.261482 -0.108682; -0.108682 0.0543542],\n",
      "\n",
      "[0.735314 -0.114214; -0.114214 0.944882])\n",
      "Trait2Trait3\n",
      "(Σa[i,j],Σe[i,j]) = (\n",
      "[0.187597 0.145238; 0.145238 0.319616],\n",
      "\n",
      "[0.811832 0.098414; 0.098414 0.679183])\n",
      "Trait2Trait4\n",
      "(Σa[i,j],Σe[i,j]) = (\n",
      "[0.187165 0.0747949; 0.0747949 0.265217],\n",
      "\n",
      "[0.812259 0.220916; 0.220916 0.730716])\n",
      "Trait2Trait5\n",
      "(Σa[i,j],Σe[i,j]) = (\n",
      "[0.187477 -0.0112377; -0.0112377 0.280583],\n",
      "\n",
      "[0.811952 -0.0370889; -0.0370889 0.71745])\n",
      "Trait2Trait6\n",
      "(Σa[i,j],Σe[i,j]) = (\n",
      "[0.187529 -0.00320323; -0.00320323 0.28355],\n",
      "\n",
      "[0.811901 -0.0210877; -0.0210877 0.715964])\n",
      "Trait2Trait7\n",
      "(Σa[i,j],Σe[i,j]) = (\n",
      "[0.18713 -0.0297752; -0.0297752 0.215575],\n",
      "\n",
      "[0.812292 -0.00155374; -0.00155374 0.781484])\n",
      "Trait2Trait8\n",
      "(Σa[i,j],Σe[i,j]) = (\n",
      "[0.188024 0.0327434; 0.0327434 0.195912],\n",
      "\n",
      "[0.811418 -0.0322018; -0.0322018 0.803759])\n",
      "Trait2Trait9\n",
      "(Σa[i,j],Σe[i,j]) = (\n",
      "[0.186062 -0.0859391; -0.0859391 0.24625],\n",
      "\n",
      "[0.813355 -0.0803575; -0.0803575 0.752087])\n",
      "Trait2Trait10\n",
      "(Σa[i,j],Σe[i,j]) = (\n",
      "[0.187763 -0.125138; -0.125138 0.101777],\n",
      "\n",
      "[0.811699 -0.271252; -0.271252 0.898194])\n",
      "Trait2Trait11\n",
      "(Σa[i,j],Σe[i,j]) = (\n",
      "[0.186518 -0.118681; -0.118681 0.167789],\n",
      "\n",
      "[0.812895 -0.295347; -0.295347 0.830923])\n",
      "Trait2Trait12\n",
      "(Σa[i,j],Σe[i,j]) = (\n",
      "[0.187007 -0.0912292; -0.0912292 0.0825514],\n",
      "\n",
      "[0.812455 0.046111; 0.046111 0.916301])\n",
      "Trait2Trait13\n",
      "(Σa[i,j],Σe[i,j]) = (\n",
      "[0.187141 -0.071139; -0.071139 0.0573862],\n",
      "\n",
      "[0.812337 0.074229; 0.074229 0.941861])\n",
      "Trait3Trait4\n",
      "(Σa[i,j],Σe[i,j]) = (\n",
      "[0.31776 -0.153721; -0.153721 0.264462],\n",
      "\n",
      "[0.680961 -0.304065; -0.304065 0.73145])\n",
      "Trait3Trait5\n",
      "(Σa[i,j],Σe[i,j]) = (\n",
      "[0.318184 0.183278; 0.183278 0.281829],\n",
      "\n",
      "[0.680549 0.33749; 0.33749 0.716238])\n",
      "Trait3Trait6\n",
      "(Σa[i,j],Σe[i,j]) = (\n",
      "[0.318788 0.166068; 0.166068 0.285532],\n",
      "\n",
      "[0.679965 0.298274; 0.298274 0.714037])\n",
      "Trait3Trait7\n",
      "(Σa[i,j],Σe[i,j]) = (\n",
      "[0.3178 0.166061; 0.166061 0.215601],\n",
      "\n",
      "[0.680922 0.347931; 0.347931 0.781457])\n",
      "Trait3Trait8\n",
      "(Σa[i,j],Σe[i,j]) = (\n",
      "[0.319751 0.0575912; 0.0575912 0.198502],\n",
      "\n",
      "[0.679036 0.0442044; 0.0442044 0.801217])\n",
      "Trait3Trait9\n",
      "(Σa[i,j],Σe[i,j]) = (\n",
      "[0.317947 0.136877; 0.136877 0.246522],\n",
      "\n",
      "[0.68078 0.267524; 0.267524 0.751812])\n",
      "Trait3Trait10\n",
      "(Σa[i,j],Σe[i,j]) = (\n",
      "[0.318101 -0.0779769; -0.0779769 0.102514],\n",
      "\n",
      "[0.680631 -0.141444; -0.141444 0.897388])\n",
      "Trait3Trait11\n",
      "(Σa[i,j],Σe[i,j]) = (\n",
      "[0.317075 -0.0174654; -0.0174654 0.166253],\n",
      "\n",
      "[0.681623 -0.11468; -0.11468 0.832414])\n",
      "Trait3Trait12\n",
      "(Σa[i,j],Σe[i,j]) = (\n",
      "[0.320032 0.0832773; 0.0832773 0.087114],\n",
      "\n",
      "[0.678771 0.0352612; 0.0352612 0.911714])\n",
      "Trait3Trait13\n",
      "(Σa[i,j],Σe[i,j]) = (\n",
      "[0.322158 0.109695; 0.109695 0.0636259],\n",
      "\n",
      "[0.676752 -0.00630453; -0.00630453 0.935623])\n",
      "Trait4Trait5\n",
      "(Σa[i,j],Σe[i,j]) = (\n",
      "[0.265299 -0.214973; -0.214973 0.282268],\n",
      "\n",
      "[0.730627 -0.377553; -0.377553 0.715816])\n",
      "Trait4Trait6\n",
      "(Σa[i,j],Σe[i,j]) = (\n",
      "[0.265758 -0.200061; -0.200061 0.284943],\n",
      "\n",
      "[0.730184 -0.347379; -0.347379 0.714614])\n",
      "Trait4Trait7\n",
      "(Σa[i,j],Σe[i,j]) = (\n",
      "[0.264134 -0.181971; -0.181971 0.214517],\n",
      "\n",
      "[0.731775 -0.326955; -0.326955 0.782538])\n",
      "Trait4Trait8\n",
      "(Σa[i,j],Σe[i,j]) = (\n",
      "[0.266351 -0.0976871; -0.0976871 0.197359],\n",
      "\n",
      "[0.729613 -0.150311; -0.150311 0.802339])\n",
      "Trait4Trait9\n",
      "(Σa[i,j],Σe[i,j]) = (\n",
      "[0.269682 -0.227226; -0.227226 0.247603],\n",
      "\n",
      "[0.726383 -0.415785; -0.415785 0.750742])\n",
      "Trait4Trait10\n",
      "(Σa[i,j],Σe[i,j]) = (\n",
      "[0.265129 -0.0347579; -0.0347579 0.101187],\n",
      "\n",
      "[0.730812 -0.226781; -0.226781 0.8987])\n",
      "Trait4Trait11\n",
      "(Σa[i,j],Σe[i,j]) = (\n",
      "[0.265244 -0.0979009; -0.0979009 0.164842],\n",
      "\n",
      "[0.730689 -0.271455; -0.271455 0.833806])\n",
      "Trait4Trait12\n",
      "(Σa[i,j],Σe[i,j]) = (\n",
      "[0.267766 -0.140849; -0.140849 0.0806845],\n",
      "\n",
      "[0.728284 -0.0836124; -0.0836124 0.918158])\n",
      "Trait4Trait13\n",
      "(Σa[i,j],Σe[i,j]) = (\n",
      "[0.265823 -0.0978071; -0.0978071 0.0567742],\n",
      "\n",
      "[0.730128 -0.22533; -0.22533 0.942442])\n",
      "Trait5Trait6\n",
      "(Σa[i,j],Σe[i,j]) = (\n",
      "[0.280975 0.280855; 0.280855 0.282836],\n",
      "\n",
      "[0.717075 0.660414; 0.660414 0.71666])\n",
      "Trait5Trait7\n",
      "(Σa[i,j],Σe[i,j]) = (\n",
      "[0.280133 0.231698; 0.231698 0.212057],\n",
      "\n",
      "[0.7179 0.674706; 0.674706 0.784949])\n",
      "Trait5Trait8\n",
      "(Σa[i,j],Σe[i,j]) = (\n",
      "[0.280695 0.16432; 0.16432 0.193991],\n",
      "\n",
      "[0.717348 0.220661; 0.220661 0.805635])\n",
      "Trait5Trait9\n",
      "(Σa[i,j],Σe[i,j]) = (\n",
      "[0.283218 0.24387; 0.24387 0.240876],\n",
      "\n",
      "[0.714905 0.509081; 0.509081 0.757314])\n",
      "Trait5Trait10\n",
      "(Σa[i,j],Σe[i,j]) = (\n",
      "[0.281148 -0.0469277; -0.0469277 0.103005],\n",
      "\n",
      "[0.716905 -0.056494; -0.056494 0.896901])\n",
      "Trait5Trait11\n",
      "(Σa[i,j],Σe[i,j]) = (\n",
      "[0.279793 0.0201009; 0.0201009 0.165562],\n",
      "\n",
      "[0.718218 -0.0350922; -0.0350922 0.833092])\n",
      "Trait5Trait12\n",
      "(Σa[i,j],Σe[i,j]) = (\n",
      "[0.280757 0.0607943; 0.0607943 0.0829461],\n",
      "\n",
      "[0.717286 0.0537477; 0.0537477 0.915845])\n",
      "Trait5Trait13\n",
      "(Σa[i,j],Σe[i,j]) = (\n",
      "[0.281629 0.0699707; 0.0699707 0.0594759],\n",
      "\n",
      "[0.716446 0.0532916; 0.0532916 0.939741])\n",
      "Trait6Trait7\n",
      "(Σa[i,j],Σe[i,j]) = (\n",
      "[0.283499 0.220867; 0.220867 0.214265],\n",
      "\n",
      "[0.716014 0.580875; 0.580875 0.782773])\n",
      "Trait6Trait8\n",
      "(Σa[i,j],Σe[i,j]) = (\n",
      "[0.283499 0.184705; 0.184705 0.19367],\n",
      "\n",
      "[0.716014 0.435974; 0.435974 0.805956])\n",
      "Trait6Trait9\n",
      "(Σa[i,j],Σe[i,j]) = (\n",
      "[0.285486 0.234153; 0.234153 0.242792],\n",
      "\n",
      "[0.714095 0.477112; 0.477112 0.755445])\n",
      "Trait6Trait10\n",
      "(Σa[i,j],Σe[i,j]) = (\n",
      "[0.284205 -0.0442486; -0.0442486 0.103576],\n",
      "\n",
      "[0.715331 -0.0584687; -0.0584687 0.896337])\n",
      "Trait6Trait11\n",
      "(Σa[i,j],Σe[i,j]) = (\n",
      "[0.282107 0.0278556; 0.0278556 0.165],\n",
      "\n",
      "[0.717366 -0.0522645; -0.0522645 0.833645])\n",
      "Trait6Trait12\n",
      "(Σa[i,j],Σe[i,j]) = (\n",
      "[0.28363 0.0563248; 0.0563248 0.0828837],\n",
      "\n",
      "[0.71589 0.0487347; 0.0487347 0.915907])\n",
      "Trait6Trait13\n",
      "(Σa[i,j],Σe[i,j]) = (\n",
      "[0.284322 0.0603187; 0.0603187 0.0595614],\n",
      "\n",
      "[0.715221 0.0540745; 0.0540745 0.939655])\n",
      "Trait7Trait8\n",
      "(Σa[i,j],Σe[i,j]) = (\n",
      "[0.214265 0.0882715; 0.0882715 0.193664],\n",
      "\n",
      "[0.782772 -0.0566478; -0.0566478 0.805962])\n",
      "Trait7Trait9\n",
      "(Σa[i,j],Σe[i,j]) = (\n",
      "[0.219055 0.216581; 0.216581 0.243672],\n",
      "\n",
      "[0.778133 0.463363; 0.463363 0.754596])\n",
      "Trait7Trait10\n",
      "(Σa[i,j],Σe[i,j]) = (\n",
      "[0.21668 -0.0432261; -0.0432261 0.103672],\n",
      "\n",
      "[0.780404 -0.0847969; -0.0847969 0.896242])\n",
      "Trait7Trait11\n",
      "(Σa[i,j],Σe[i,j]) = (\n",
      "[0.214472 0.0204926; 0.0204926 0.165035],\n",
      "\n",
      "[0.782561 -0.047943; -0.047943 0.833611])\n",
      "Trait7Trait12\n",
      "(Σa[i,j],Σe[i,j]) = (\n",
      "[0.215291 0.0750266; 0.0750266 0.0811131],\n",
      "\n",
      "[0.781774 0.0354565; 0.0354565 0.917675])\n",
      "Trait7Trait13\n",
      "(Σa[i,j],Σe[i,j]) = (\n",
      "[0.216341 0.0746554; 0.0746554 0.0572127],\n",
      "\n",
      "[0.780758 0.0391903; 0.0391903 0.942004])\n",
      "Trait8Trait9\n",
      "(Σa[i,j],Σe[i,j]) = (\n",
      "[0.195853 0.112921; 0.112921 0.246794],\n",
      "\n",
      "[0.803827 0.184676; 0.184676 0.751549])\n",
      "Trait8Trait10\n",
      "(Σa[i,j],Σe[i,j]) = (\n",
      "[0.195672 -0.0154192; -0.0154192 0.101998],\n",
      "\n",
      "[0.803991 0.0117675; 0.0117675 0.897898])\n",
      "Trait8Trait11\n",
      "(Σa[i,j],Σe[i,j]) = (\n",
      "[0.195115 0.0224741; 0.0224741 0.166212],\n",
      "\n",
      "[0.804535 -0.0272148; -0.0272148 0.832455])\n",
      "Trait8Trait12\n",
      "(Σa[i,j],Σe[i,j]) = (\n",
      "[0.195191 -0.0032191; -0.0032191 0.0830783],\n",
      "\n",
      "[0.80446 0.0339554; 0.0339554 0.915711])\n",
      "Trait8Trait13\n",
      "(Σa[i,j],Σe[i,j]) = (\n",
      "[0.195187 0.00307147; 0.00307147 0.0593137],\n",
      "\n",
      "[0.804464 0.0388888; 0.0388888 0.939896])\n",
      "Trait9Trait10\n",
      "(Σa[i,j],Σe[i,j]) = (\n",
      "[0.246761 -0.0030455; -0.0030455 0.101375],\n",
      "\n",
      "[0.751583 0.0748104; 0.0748104 0.898514])\n",
      "Trait9Trait11\n",
      "(Σa[i,j],Σe[i,j]) = (\n",
      "[0.247333 0.0318526; 0.0318526 0.166412],\n",
      "\n",
      "[0.751022 0.152257; 0.152257 0.832258])\n",
      "Trait9Trait12\n",
      "(Σa[i,j],Σe[i,j]) = (\n",
      "[0.249756 0.0837035; 0.0837035 0.0888301],\n",
      "\n",
      "[0.748667 0.108622; 0.108622 0.910035])\n",
      "Trait9Trait13\n",
      "(Σa[i,j],Σe[i,j]) = (\n",
      "[0.24891 0.0925502; 0.0925502 0.0604213],\n",
      "\n",
      "[0.749505 0.0991547; 0.0991547 0.938845])\n",
      "Trait10Trait11\n",
      "(Σa[i,j],Σe[i,j]) = (\n",
      "[0.0948082 0.101006; 0.101006 0.166482],\n",
      "\n",
      "[0.905036 0.473455; 0.473455 0.832189])\n",
      "Trait10Trait12\n",
      "(Σa[i,j],Σe[i,j]) = (\n",
      "[0.0983311 0.0574591; 0.0574591 0.0796641],\n",
      "\n",
      "[0.901546 0.0842701; 0.0842701 0.919124])\n",
      "Trait10Trait13\n",
      "(Σa[i,j],Σe[i,j]) = (\n",
      "[0.102472 -0.0271519; -0.0271519 0.0601931],\n",
      "\n",
      "[0.897449 0.16521; 0.16521 0.939035])\n",
      "Trait11Trait12\n",
      "(Σa[i,j],Σe[i,j]) = (\n",
      "[0.16539 0.0573037; 0.0573037 0.0794656],\n",
      "\n",
      "[0.833266 0.145325; 0.145325 0.919302])\n",
      "Trait11Trait13\n",
      "(Σa[i,j],Σe[i,j]) = (\n",
      "[0.166376 -0.00201275; -0.00201275 0.0599558],\n",
      "\n",
      "[0.832306 0.20104; 0.20104 0.939259])\n",
      "Trait12Trait13\n",
      "(Σa[i,j],Σe[i,j]) = (\n",
      "[0.0847543 0.0692439; 0.0692439 0.056572],\n",
      "\n",
      "[0.914056 0.572415; 0.572415 0.94264])\n",
      "  4.519395 seconds (5.25 M allocations: 344.979 MB, 2.20% gc time)\n"
     ]
    }
   ],
   "source": [
    "# additive genetic effects (2x2 psd matrices) from bavariate trait analysis;\n",
    "Σa = Array{Matrix{Float64}}(13, 13)\n",
    "# environmental effects (2x2 psd matrices) from bavariate trait analysis;\n",
    "Σe = Array{Matrix{Float64}}(13, 13)\n",
    "\n",
    "@time for i in 1:13\n",
    "    for j in (i+1):13\n",
    "        println(names(cg10k_trait)[i + 2], names(cg10k_trait)[j + 2])\n",
    "        # form data set for (trait1, trait2)\n",
    "        traitij_data = TwoVarCompVariateRotate(cg10kdata_rotated.Yrot[:, [i;j]], cg10kdata_rotated.Xrot, \n",
    "            cg10kdata_rotated.eigval, cg10kdata_rotated.eigvec, cg10kdata_rotated.logdetV2)\n",
    "        # initialize model parameters\n",
    "        traitij_model = VarianceComponentModel(traitij_data)\n",
    "        # estimate variance components\n",
    "        mle_fs!(traitij_model, traitij_data; solver=:Ipopt, verbose=false)\n",
    "        Σa[i, j] = traitij_model.Σ[1]\n",
    "        Σe[i, j] = traitij_model.Σ[2]\n",
    "        @show Σa[i, j], Σe[i, j]\n",
    "    end\n",
    "end"
   ]
  },
  {
   "cell_type": "markdown",
   "metadata": {},
   "source": [
    "## 3-trait analysis\n",
    "\n",
    "Researchers want to jointly analyze traits 5-7. Our strategy is to try both Fisher scoring and MM algorithm with different starting point, and choose the best local optimum. We first form the data set and run Fisher scoring, which yields a final objective value -1.4700991+04."
   ]
  },
  {
   "cell_type": "code",
   "execution_count": 5,
   "metadata": {
    "collapsed": false
   },
   "outputs": [
    {
     "name": "stdout",
     "output_type": "stream",
     "text": [
      "This is Ipopt version 3.12.4, running with linear solver mumps.\n",
      "NOTE: Other linear solvers might be more efficient (see Ipopt documentation).\n",
      "\n",
      "Number of nonzeros in equality constraint Jacobian...:        0\n",
      "Number of nonzeros in inequality constraint Jacobian.:        0\n",
      "Number of nonzeros in Lagrangian Hessian.............:       78\n",
      "\n",
      "Total number of variables............................:       12\n",
      "                     variables with only lower bounds:        0\n",
      "                variables with lower and upper bounds:        0\n",
      "                     variables with only upper bounds:        0\n",
      "Total number of equality constraints.................:        0\n",
      "Total number of inequality constraints...............:        0\n",
      "        inequality constraints with only lower bounds:        0\n",
      "   inequality constraints with lower and upper bounds:        0\n",
      "        inequality constraints with only upper bounds:        0\n",
      "\n",
      "iter    objective    inf_pr   inf_du lg(mu)  ||d||  lg(rg) alpha_du alpha_pr  ls\n",
      "   0  3.0247494e+04 0.00e+00 1.00e+02   0.0 0.00e+00    -  0.00e+00 0.00e+00   0 \n",
      "   5  1.6834318e+04 0.00e+00 4.07e+02 -11.0 3.65e-01    -  1.00e+00 1.00e+00f  1 MaxS\n",
      "  10  1.4744337e+04 0.00e+00 1.12e+02 -11.0 2.27e-01    -  1.00e+00 1.00e+00f  1 MaxS\n",
      "  15  1.4701390e+04 0.00e+00 1.23e+01 -11.0 1.00e-01  -4.5 1.00e+00 1.00e+00f  1 MaxS\n",
      "  20  1.4700947e+04 0.00e+00 6.24e-01 -11.0 1.63e-04  -6.9 1.00e+00 1.00e+00f  1 MaxS\n",
      "  25  1.4700946e+04 0.00e+00 2.59e-02 -11.0 6.89e-06  -9.2 1.00e+00 1.00e+00f  1 MaxS\n",
      "  30  1.4700946e+04 0.00e+00 1.07e-03 -11.0 2.85e-07 -11.6 1.00e+00 1.00e+00f  1 MaxS\n",
      "  35  1.4700946e+04 0.00e+00 4.40e-05 -11.0 1.17e-08 -14.0 1.00e+00 1.00e+00h  1 MaxS\n",
      "  40  1.4700946e+04 0.00e+00 1.82e-06 -11.0 4.85e-10 -16.4 1.00e+00 1.00e+00h  1 MaxSA\n",
      "  45  1.4700946e+04 0.00e+00 7.49e-08 -11.0 2.00e-11 -18.8 1.00e+00 1.00e+00h  1 MaxSA\n",
      "iter    objective    inf_pr   inf_du lg(mu)  ||d||  lg(rg) alpha_du alpha_pr  ls\n",
      "\n",
      "Number of Iterations....: 49\n",
      "\n",
      "                                   (scaled)                 (unscaled)\n",
      "Objective...............:   4.4723939614791323e+02    1.4700946029211926e+04\n",
      "Dual infeasibility......:   5.9551646971735890e-09    1.9574875460940672e-07\n",
      "Constraint violation....:   0.0000000000000000e+00    0.0000000000000000e+00\n",
      "Complementarity.........:   0.0000000000000000e+00    0.0000000000000000e+00\n",
      "Overall NLP error.......:   5.9551646971735890e-09    1.9574875460940672e-07\n",
      "\n",
      "\n",
      "Number of objective function evaluations             = 50\n",
      "Number of objective gradient evaluations             = 50\n",
      "Number of equality constraint evaluations            = 0\n",
      "Number of inequality constraint evaluations          = 0\n",
      "Number of equality constraint Jacobian evaluations   = 0\n",
      "Number of inequality constraint Jacobian evaluations = 0\n",
      "Number of Lagrangian Hessian evaluations             = 49\n",
      "Total CPU secs in IPOPT (w/o function evaluations)   =      0.018\n",
      "Total CPU secs in NLP function evaluations           =      0.074\n",
      "\n",
      "EXIT: Optimal Solution Found.\n",
      "  0.099202 seconds (66.82 k allocations: 6.250 MB)\n"
     ]
    },
    {
     "data": {
      "text/plain": [
       "VarianceComponentModels.VarianceComponentModel{Float64,2,Array{Float64,2},Array{Float64,2}}(,(\n",
       "[0.280544 0.279847 0.232004; 0.279847 0.285108 0.220219; 0.232004 0.220219 0.212951],\n",
       "\n",
       "[0.717495 0.661418 0.674407; 0.661418 0.714393 0.5815; 0.674407 0.5815 0.784061]),,Char[],Float64[],-Inf,Inf)"
      ]
     },
     "execution_count": 5,
     "metadata": {},
     "output_type": "execute_result"
    }
   ],
   "source": [
    "traitidx = 5:7\n",
    "# form data set\n",
    "trait57_data = TwoVarCompVariateRotate(cg10kdata_rotated.Yrot[:, traitidx], cg10kdata_rotated.Xrot, \n",
    "    cg10kdata_rotated.eigval, cg10kdata_rotated.eigvec, cg10kdata_rotated.logdetV2)\n",
    "# initialize model parameters\n",
    "trait57_model = VarianceComponentModel(trait57_data)\n",
    "# estimate variance components\n",
    "@time mle_fs!(trait57_model, trait57_data; solver=:Ipopt, verbose=true)\n",
    "trait57_model"
   ]
  },
  {
   "cell_type": "markdown",
   "metadata": {},
   "source": [
    "We then run the MM algorithm, starting from the Fisher scoring answer. MM finds an improved solution with objective value 8.955397e+03."
   ]
  },
  {
   "cell_type": "code",
   "execution_count": 6,
   "metadata": {
    "collapsed": false
   },
   "outputs": [
    {
     "name": "stdout",
     "output_type": "stream",
     "text": [
      "\n",
      "     MM Algorithm\n",
      "  Iter      Objective  \n",
      "--------  -------------\n",
      "       0  -1.470095e+04\n",
      "       1  -1.470095e+04\n",
      "\n",
      "  0.445660 seconds (554.52 k allocations: 21.096 MB, 1.56% gc time)\n"
     ]
    },
    {
     "data": {
      "text/plain": [
       "VarianceComponentModels.VarianceComponentModel{Float64,2,Array{Float64,2},Array{Float64,2}}(,(\n",
       "[0.280544 0.279847 0.232004; 0.279847 0.285108 0.220219; 0.232004 0.220219 0.212951],\n",
       "\n",
       "[0.717495 0.661418 0.674407; 0.661418 0.714393 0.5815; 0.674407 0.5815 0.784061]),,Char[],Float64[],-Inf,Inf)"
      ]
     },
     "execution_count": 6,
     "metadata": {},
     "output_type": "execute_result"
    }
   ],
   "source": [
    "# trait59_model contains the fitted model by Fisher scoring now\n",
    "@time mle_mm!(trait57_model, trait57_data; verbose=true)\n",
    "trait57_model"
   ]
  },
  {
   "cell_type": "markdown",
   "metadata": {},
   "source": [
    "Do another run of MM algorithm from default starting point. It leads to a slightly better local optimum -1.470104e+04, slighly worse than the Fisher scoring result. Follow up anlaysis should use the Fisher scoring result."
   ]
  },
  {
   "cell_type": "code",
   "execution_count": 7,
   "metadata": {
    "collapsed": false
   },
   "outputs": [
    {
     "name": "stdout",
     "output_type": "stream",
     "text": [
      "\n",
      "     MM Algorithm\n",
      "  Iter      Objective  \n",
      "--------  -------------\n",
      "       0  -3.024749e+04\n",
      "       1  -2.040298e+04\n",
      "       2  -1.656069e+04\n",
      "       3  -1.528529e+04\n",
      "       4  -1.490986e+04\n",
      "       5  -1.480637e+04\n",
      "       6  -1.477810e+04\n",
      "       7  -1.476967e+04\n",
      "       8  -1.476638e+04\n",
      "       9  -1.476443e+04\n",
      "      10  -1.476284e+04\n",
      "      20  -1.474997e+04\n",
      "      30  -1.474007e+04\n",
      "      40  -1.473244e+04\n",
      "      50  -1.472654e+04\n",
      "      60  -1.472195e+04\n",
      "      70  -1.471835e+04\n",
      "      80  -1.471550e+04\n",
      "      90  -1.471323e+04\n",
      "     100  -1.471140e+04\n",
      "     110  -1.470991e+04\n",
      "     120  -1.470869e+04\n",
      "     130  -1.470769e+04\n",
      "     140  -1.470685e+04\n",
      "     150  -1.470615e+04\n",
      "     160  -1.470556e+04\n",
      "     170  -1.470505e+04\n",
      "     180  -1.470462e+04\n",
      "     190  -1.470425e+04\n",
      "     200  -1.470393e+04\n",
      "     210  -1.470365e+04\n",
      "     220  -1.470341e+04\n",
      "     230  -1.470320e+04\n",
      "     240  -1.470301e+04\n",
      "     250  -1.470284e+04\n",
      "     260  -1.470270e+04\n",
      "     270  -1.470256e+04\n",
      "     280  -1.470245e+04\n",
      "     290  -1.470234e+04\n",
      "     300  -1.470224e+04\n",
      "     310  -1.470216e+04\n",
      "     320  -1.470208e+04\n",
      "     330  -1.470201e+04\n",
      "     340  -1.470194e+04\n",
      "     350  -1.470188e+04\n",
      "     360  -1.470183e+04\n",
      "     370  -1.470178e+04\n",
      "     380  -1.470173e+04\n",
      "     390  -1.470169e+04\n",
      "     400  -1.470165e+04\n",
      "     410  -1.470161e+04\n",
      "     420  -1.470158e+04\n",
      "     430  -1.470154e+04\n",
      "     440  -1.470151e+04\n",
      "     450  -1.470149e+04\n",
      "     460  -1.470146e+04\n",
      "     470  -1.470144e+04\n",
      "     480  -1.470141e+04\n",
      "     490  -1.470139e+04\n",
      "     500  -1.470137e+04\n",
      "     510  -1.470135e+04\n",
      "     520  -1.470134e+04\n",
      "     530  -1.470132e+04\n",
      "     540  -1.470130e+04\n",
      "     550  -1.470129e+04\n",
      "     560  -1.470127e+04\n",
      "     570  -1.470126e+04\n",
      "     580  -1.470125e+04\n",
      "     590  -1.470124e+04\n",
      "     600  -1.470122e+04\n",
      "     610  -1.470121e+04\n",
      "     620  -1.470120e+04\n",
      "     630  -1.470119e+04\n",
      "     640  -1.470118e+04\n",
      "     650  -1.470118e+04\n",
      "     660  -1.470117e+04\n",
      "     670  -1.470116e+04\n",
      "     680  -1.470115e+04\n",
      "     690  -1.470114e+04\n",
      "     700  -1.470114e+04\n",
      "     710  -1.470113e+04\n",
      "     720  -1.470112e+04\n",
      "     730  -1.470112e+04\n",
      "     740  -1.470111e+04\n",
      "     750  -1.470110e+04\n",
      "     760  -1.470110e+04\n",
      "     770  -1.470109e+04\n",
      "     780  -1.470109e+04\n",
      "     790  -1.470108e+04\n",
      "     800  -1.470108e+04\n",
      "     810  -1.470107e+04\n",
      "     820  -1.470107e+04\n",
      "     830  -1.470107e+04\n",
      "     840  -1.470106e+04\n",
      "     850  -1.470106e+04\n",
      "     860  -1.470105e+04\n",
      "     870  -1.470105e+04\n",
      "     880  -1.470105e+04\n",
      "     890  -1.470104e+04\n",
      "     900  -1.470104e+04\n",
      "     910  -1.470104e+04\n",
      "     920  -1.470103e+04\n",
      "     930  -1.470103e+04\n",
      "     940  -1.470103e+04\n",
      "     950  -1.470103e+04\n",
      "     960  -1.470102e+04\n",
      "     970  -1.470102e+04\n",
      "     980  -1.470102e+04\n",
      "     990  -1.470102e+04\n",
      "    1000  -1.470101e+04\n",
      "    1010  -1.470101e+04\n",
      "    1020  -1.470101e+04\n",
      "    1030  -1.470101e+04\n",
      "    1040  -1.470101e+04\n",
      "    1050  -1.470100e+04\n",
      "    1060  -1.470100e+04\n",
      "    1070  -1.470100e+04\n",
      "    1080  -1.470100e+04\n",
      "    1090  -1.470100e+04\n",
      "    1100  -1.470100e+04\n",
      "    1110  -1.470099e+04\n",
      "\n",
      "  0.777307 seconds (155.00 k allocations: 15.586 MB)\n"
     ]
    },
    {
     "data": {
      "text/plain": [
       "VarianceComponentModels.VarianceComponentModel{Float64,2,Array{Float64,2},Array{Float64,2}}(,(\n",
       "[0.280565 0.279866 0.232051; 0.279866 0.285208 0.220372; 0.232051 0.220372 0.213169],\n",
       "\n",
       "[0.717474 0.661399 0.67436; 0.661399 0.714293 0.581348; 0.67436 0.581348 0.783846]),,Char[],Float64[],-Inf,Inf)"
      ]
     },
     "execution_count": 7,
     "metadata": {},
     "output_type": "execute_result"
    }
   ],
   "source": [
    "# default starting point\n",
    "trait57_model = VarianceComponentModel(trait57_data)\n",
    "@time _, _, _, Σcov, = mle_mm!(trait57_model, trait57_data; verbose=true)\n",
    "trait57_model"
   ]
  },
  {
   "cell_type": "markdown",
   "metadata": {},
   "source": [
    "Heritability from 3-variate estimate and their standard errors."
   ]
  },
  {
   "cell_type": "code",
   "execution_count": 8,
   "metadata": {
    "collapsed": false
   },
   "outputs": [
    {
     "data": {
      "text/plain": [
       "2×3 Array{Float64,2}:\n",
       " 0.281116   0.28535    0.213808 \n",
       " 0.0778631  0.0773179  0.0841043"
      ]
     },
     "execution_count": 8,
     "metadata": {},
     "output_type": "execute_result"
    }
   ],
   "source": [
    "h, hse = heritability(trait57_model.Σ, Σcov)\n",
    "[h'; hse']"
   ]
  },
  {
   "cell_type": "markdown",
   "metadata": {},
   "source": [
    "## Save analysis results"
   ]
  },
  {
   "cell_type": "code",
   "execution_count": null,
   "metadata": {
    "collapsed": false
   },
   "outputs": [],
   "source": [
    "#using JLD\n",
    "#@save \"copd.jld\"\n",
    "#whos()"
   ]
  }
 ],
 "metadata": {
  "anaconda-cloud": {},
  "kernelspec": {
   "display_name": "Julia 0.5.1",
   "language": "julia",
   "name": "julia-0.5"
  },
  "language_info": {
   "file_extension": ".jl",
   "mimetype": "application/julia",
   "name": "julia",
   "version": "0.5.1"
  }
 },
 "nbformat": 4,
 "nbformat_minor": 0
}
