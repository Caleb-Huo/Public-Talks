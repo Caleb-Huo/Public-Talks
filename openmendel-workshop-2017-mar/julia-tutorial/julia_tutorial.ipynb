{
 "cells": [
  {
   "cell_type": "markdown",
   "metadata": {
    "slideshow": {
     "slide_type": "skip"
    }
   },
   "source": [
    "$$\n",
    "\\newcommand{\\ba}{\\boldsymbol{a}}\n",
    "\\newcommand{\\bb}{\\boldsymbol{b}}\n",
    "\\newcommand{\\bc}{\\boldsymbol{c}}\n",
    "\\newcommand{\\bd}{\\boldsymbol{d}}\n",
    "\\newcommand{\\be}{\\boldsymbol{e}}\n",
    "\\newcommand{\\bff}{\\boldsymbol{f}}\n",
    "\\newcommand{\\bg}{\\boldsymbol{g}}\n",
    "\\newcommand{\\bh}{\\boldsymbol{h}}\n",
    "\\newcommand{\\bi}{\\boldsymbol{i}}\n",
    "\\newcommand{\\bj}{\\boldsymbol{j}}\n",
    "\\newcommand{\\bk}{\\boldsymbol{k}}\n",
    "\\newcommand{\\bl}{\\boldsymbol{l}}\n",
    "\\newcommand{\\bm}{\\boldsymbol{m}}\n",
    "\\newcommand{\\bn}{\\boldsymbol{n}}\n",
    "\\newcommand{\\bo}{\\boldsymbol{o}}\n",
    "\\newcommand{\\bp}{\\boldsymbol{p}}\n",
    "\\newcommand{\\bq}{\\boldsymbol{q}}\n",
    "\\newcommand{\\br}{\\boldsymbol{r}}\n",
    "\\newcommand{\\bs}{\\boldsymbol{s}}\n",
    "\\newcommand{\\bt}{\\boldsymbol{t}}\n",
    "\\newcommand{\\bu}{\\boldsymbol{u}}\n",
    "\\newcommand{\\bv}{\\boldsymbol{v}}\n",
    "\\newcommand{\\bw}{\\boldsymbol{w}}\n",
    "\\newcommand{\\bx}{\\boldsymbol{x}}\n",
    "\\newcommand{\\by}{\\boldsymbol{y}}\n",
    "\\newcommand{\\bz}{\\boldsymbol{z}}\n",
    "\\newcommand{\\bA}{\\boldsymbol{A}}\n",
    "\\newcommand{\\bB}{\\boldsymbol{B}}\n",
    "\\newcommand{\\bC}{\\boldsymbol{C}}\n",
    "\\newcommand{\\bD}{\\boldsymbol{D}}\n",
    "\\newcommand{\\bE}{\\boldsymbol{E}}\n",
    "\\newcommand{\\bF}{\\boldsymbol{F}}\n",
    "\\newcommand{\\bG}{\\boldsymbol{G}}\n",
    "\\newcommand{\\bH}{\\boldsymbol{H}}\n",
    "\\newcommand{\\bI}{\\boldsymbol{I}}\n",
    "\\newcommand{\\bJ}{\\boldsymbol{J}}\n",
    "\\newcommand{\\bK}{\\boldsymbol{K}}\n",
    "\\newcommand{\\bL}{\\boldsymbol{L}}\n",
    "\\newcommand{\\bM}{\\boldsymbol{M}}\n",
    "\\newcommand{\\bN}{\\boldsymbol{N}}\n",
    "\\newcommand{\\bO}{\\boldsymbol{O}}\n",
    "\\newcommand{\\bP}{\\boldsymbol{P}}\n",
    "\\newcommand{\\bQ}{\\boldsymbol{Q}}\n",
    "\\newcommand{\\bR}{\\boldsymbol{R}}\n",
    "\\newcommand{\\bS}{\\boldsymbol{S}}\n",
    "\\newcommand{\\bT}{\\boldsymbol{T}}\n",
    "\\newcommand{\\bU}{\\boldsymbol{U}}\n",
    "\\newcommand{\\bV}{\\boldsymbol{V}}\n",
    "\\newcommand{\\bW}{\\boldsymbol{W}}\n",
    "\\newcommand{\\bX}{\\boldsymbol{X}}\n",
    "\\newcommand{\\bY}{\\boldsymbol{Y}}\n",
    "\\newcommand{\\bZ}{\\boldsymbol{Z}}\n",
    "\\newcommand{\\balpha}{\\boldsymbol{\\alpha}}\n",
    "\\newcommand{\\bbeta}{\\boldsymbol{\\beta}}\n",
    "\\newcommand{\\bgamma}{\\boldsymbol{\\gamma}}\n",
    "\\newcommand{\\bdelta}{\\boldsymbol{\\delta}}\n",
    "\\newcommand{\\bepsilon}{\\boldsymbol{\\epsilon}}\n",
    "\\newcommand{\\blambda}{\\boldsymbol{\\lambda}}\n",
    "\\newcommand{\\bmu}{\\boldsymbol{\\mu}}\n",
    "\\newcommand{\\bnu}{\\boldsymbol{\\nu}}\n",
    "\\newcommand{\\bphi}{\\boldsymbol{\\phi}}\n",
    "\\newcommand{\\bpi}{\\boldsymbol{\\pi}}\n",
    "\\newcommand{\\bsigma}{\\boldsymbol{\\sigma}}\n",
    "\\newcommand{\\btheta}{\\boldsymbol{\\theta}}\n",
    "\\newcommand{\\bomega}{\\boldsymbol{\\omega}}\n",
    "\\newcommand{\\bxi}{\\boldsymbol{\\xi}}\n",
    "\\newcommand{\\bGamma}{\\boldsymbol{\\Gamma}}\n",
    "\\newcommand{\\bDelta}{\\boldsymbol{\\Delta}}\n",
    "\\newcommand{\\bTheta}{\\boldsymbol{\\Theta}}\n",
    "\\newcommand{\\bLambda}{\\boldsymbol{\\Lambda}}\n",
    "\\newcommand{\\bXi}{\\boldsymbol{\\Xi}}\n",
    "\\newcommand{\\bPi}{\\boldsymbol{\\Pi}}\n",
    "\\newcommand{\\bSigma}{\\boldsymbol{\\Sigma}}\n",
    "\\newcommand{\\bUpsilon}{\\boldsymbol{\\Upsilon}}\n",
    "\\newcommand{\\bPhi}{\\boldsymbol{\\Phi}}\n",
    "\\newcommand{\\bPsi}{\\boldsymbol{\\Psi}}\n",
    "\\newcommand{\\bOmega}{\\boldsymbol{\\Omega}}\n",
    "$$"
   ]
  },
  {
   "cell_type": "markdown",
   "metadata": {
    "slideshow": {
     "slide_type": "slide"
    }
   },
   "source": [
    "# Julia Tutorial\n",
    "\n",
    "##### [OpenMendel Programming Workshop](http://www.genetics.ucla.edu/courses/statgene/Mendel/)\n",
    "##### Dr. Hua Zhou, [huazhou@ucla.edu](mailto: huazhou@ucla.edu)\n",
    "##### Department of Biostatistics, UCLA\n",
    "##### Mar 9, 2017"
   ]
  },
  {
   "cell_type": "markdown",
   "metadata": {
    "slideshow": {
     "slide_type": "slide"
    }
   },
   "source": [
    "This Jupyter notebook can be located at [http://github.com/Hua-Zhou/Public-Talks/blob/master/openmendel-workshop-2017-mar/julia-tutorial/julia_tutorial.ipynb](http://github.com/Hua-Zhou/Public-Talks/blob/master/openmendel-workshop-2017-mar/julia-tutorial/julia_tutorial.ipynb) or [http://tinyurl.com/z63on23](http://tinyurl.com/z63on23)"
   ]
  },
  {
   "cell_type": "markdown",
   "metadata": {},
   "source": [
    "# Some resources for learning Julia\n",
    "\n",
    "0. Read a cheat sheet by Ian Hellstrom, [*The Fast Track to Julia*](https://dl.dropboxusercontent.com/u/8252984/julia.html).  \n",
    "0. Browse the `Julia` [documentation](http://docs.julialang.org/en/release-0.4/).  \n",
    "0. The tutorials [*Hands-on Julia*](https://github.com/dpsanders/hands_on_julia) by Dr. David P. Sanders, available at [https://github.com/dpsanders/hands_on_julia](https://github.com/dpsanders/hands_on_julia), are excellent.  \n",
    "0. For `Matlab` users, read [*Noteworthy Differences From Matlab*](http://docs.julialang.org/en/release-0.4/manual/noteworthy-differences/#noteworthy-differences-from-matlab). For `R` users, read [*Noteworthy Differences From R*](http://docs.julialang.org/en/release-0.4/manual/noteworthy-differences/#noteworthy-differences-from-r).  \n",
    "0. The [Learning page](http://julialang.org/learning/) on Julia's website has pointers to many other learning resources."
   ]
  },
  {
   "cell_type": "markdown",
   "metadata": {
    "slideshow": {
     "slide_type": "slide"
    }
   },
   "source": [
    "# Why Julia?"
   ]
  },
  {
   "cell_type": "markdown",
   "metadata": {
    "slideshow": {
     "slide_type": "slide"
    }
   },
   "source": [
    "## Language features of R, Matlab and Julia\n",
    "\n",
    "|        Features       |             R            |     Matlab     |        Julia        |\n",
    "|:---------------------:|:------------------------:|:--------------:|:-------------------:|\n",
    "|      Open source      |           👍         |      👎      |         👍        |\n",
    "|          IDE          |    RStudio 👍 👍     | 👍 👍 👍 |    Atom+Juno 👎   |\n",
    "|    Dynamic document   | RMarkdown 👍 👍 👍 |    👍 👍   |   IJulia 👍 👍  |\n",
    "|    Multi-threading    |    `parallel` 👎  |      👍      |  👍 👍 [see docs](http://docs.julialang.org/en/release-0.4/manual/parallel-computing/)  |\n",
    "|          JIT          |    `compiler` 👎  |    👍 👍   |    👍 👍 👍   |\n",
    "|     Call C/Fortran    |      wrapper, `Rcpp`     |     wrapper    | [no glue code needed](http://docs.julialang.org/en/release-0.4/manual/calling-c-and-fortran-code/#calling-c-and-fortran-code) |\n",
    "|  Call shared library  |          wrapper         |     wrapper    | [no glue code needed](http://docs.julialang.org/en/release-0.4/manual/calling-c-and-fortran-code/#calling-c-and-fortran-code) |\n",
    "|         Typing        |           👎           |    👍 👍   |    👍 👍 👍   |\n",
    "|   Pass by reference   |           👎           |      👎      |    👍 👍 👍   |\n",
    "|     Linear algebra    |           👎           |   MKL, Arpack  |  OpenBLAS, eigpack  |\n",
    "| Distributed computing |           👎           |      👍      |    👍 👍 👍   |\n",
    "| Sparse linear algebra |  `Matrix` package 👎   | 👍 👍 👍 |    👍 👍 👍   |\n",
    "|     Documentation     |           👎           | 👍 👍 👍 |      👍 👍      |\n",
    "|        Profiler       |           👎           | 👍 👍 👍 |    👍 👍 👍   |"
   ]
  },
  {
   "cell_type": "markdown",
   "metadata": {
    "slideshow": {
     "slide_type": "slide"
    }
   },
   "source": [
    "###### Benchmark\n",
    "\n",
    "Benchmark code `R-benchmark-25.R` from [http://r.research.att.com/benchmarks/R-benchmark-25.R](http://r.research.att.com/benchmarks/R-benchmark-25.R) covers many commonly used numerical operations used in statistics. We ported (literally) to [Matlab](./benchmark/benchmark_matlab.m) and [Julia](./benchmark/benchmark_julia.jl) and report the run times (averaged over 5 runs) here.\n",
    "\n",
    "|                        Test                        | R 3.3.2 | Matlab R2016b | Julia 0.5.1 |\n",
    "|:-------------------------------------------------- |:-------:|:-------------:|:-----------:|\n",
    "| Matrix creation, trans., deform. (2500 x 2500) |   0.70  |      **0.14**     |   0.22  |\n",
    "|      Power of matrix (2500 x 2500, `A.^1000`)      |   0.17  |    **0.10**   |     0.11    |\n",
    "|          Quick sort ($n = 7 \\times 10^6$)          |   0.69  |    **0.31**   |     0.62    |\n",
    "|         Cross product (2800 x 2800, $A^TA$)        |  13.49  |    **0.16**   |  0.21  |\n",
    "|            LS solution ($n = p = 2000$)            |   6.42  |    **0.04**   |     0.07    |\n",
    "|                FFT ($n = 2,400,000$)               |   0.25  |    **0.03**   |     0.16    |\n",
    "|           Eigen-values ($600 \\times 600$)          |   0.71  |    **0.20**   |     0.51    |\n",
    "|          Determinant ($2500 \\times 2500$)          |   3.49  |      0.18     |   **0.14**  |\n",
    "|            Cholesky ($3000 \\times 3000$)           |   5.03  |    **0.08**   |     0.16    |\n",
    "|         Matrix inverse ($1600 \\times 1600$)        |   2.83  |    **0.10**   |     0.18    |\n",
    "|           Fibonacci (vector calculation)           |   0.22  |    **0.16**   |     0.58    |\n",
    "|            Hilbert (matrix calculation)            |   0.21  |      0.07     |   **0.06**  |\n",
    "|                   GCD (recursion)                  |   0.33  |    **0.09**     |   0.13  |\n",
    "|               Toeplitz matrix (loops)              |   0.28  |     0.0018    |  **0.0007** |\n",
    "|                 Escoufiers (mixed)                 |   0.33  |      0.14     |   **0.14**  |\n",
    "\n",
    "Machine specs: Intel i7 @ 2.9GHz (4 physical cores, 8 threads), 16G RAM, Mac OS 10.12.3."
   ]
  },
  {
   "cell_type": "markdown",
   "metadata": {},
   "source": [
    "## Gibbs sampler example by Doug Bates\n",
    "\n",
    "Gibbs sampler example taken from Doug Bates’s slides\n",
    "> As some of you may know, I have had a (rather late) mid-life crisis and run off with another language called Julia.\n",
    "\n",
    "[Link to Jupyter Notebook](./benchmark/gibbs_julia.ipynb)"
   ]
  },
  {
   "cell_type": "code",
   "execution_count": null,
   "metadata": {
    "collapsed": true
   },
   "outputs": [],
   "source": []
  }
 ],
 "metadata": {
  "kernelspec": {
   "display_name": "Julia 0.5.0",
   "language": "julia",
   "name": "julia-0.5"
  },
  "language_info": {
   "file_extension": ".jl",
   "mimetype": "application/julia",
   "name": "julia",
   "version": "0.5.1"
  }
 },
 "nbformat": 4,
 "nbformat_minor": 0
}
