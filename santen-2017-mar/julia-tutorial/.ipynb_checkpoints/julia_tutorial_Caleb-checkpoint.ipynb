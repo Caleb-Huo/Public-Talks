{
 "cells": [
  {
   "cell_type": "markdown",
   "metadata": {
    "deletable": true,
    "editable": true,
    "slideshow": {
     "slide_type": "skip"
    }
   },
   "source": [
    "$$\n",
    "\\newcommand{\\ba}{\\boldsymbol{a}}\n",
    "\\newcommand{\\bb}{\\boldsymbol{b}}\n",
    "\\newcommand{\\bc}{\\boldsymbol{c}}\n",
    "\\newcommand{\\bd}{\\boldsymbol{d}}\n",
    "\\newcommand{\\be}{\\boldsymbol{e}}\n",
    "\\newcommand{\\bff}{\\boldsymbol{f}}\n",
    "\\newcommand{\\bg}{\\boldsymbol{g}}\n",
    "\\newcommand{\\bh}{\\boldsymbol{h}}\n",
    "\\newcommand{\\bi}{\\boldsymbol{i}}\n",
    "\\newcommand{\\bj}{\\boldsymbol{j}}\n",
    "\\newcommand{\\bk}{\\boldsymbol{k}}\n",
    "\\newcommand{\\bl}{\\boldsymbol{l}}\n",
    "\\newcommand{\\bm}{\\boldsymbol{m}}\n",
    "\\newcommand{\\bn}{\\boldsymbol{n}}\n",
    "\\newcommand{\\bo}{\\boldsymbol{o}}\n",
    "\\newcommand{\\bp}{\\boldsymbol{p}}\n",
    "\\newcommand{\\bq}{\\boldsymbol{q}}\n",
    "\\newcommand{\\br}{\\boldsymbol{r}}\n",
    "\\newcommand{\\bs}{\\boldsymbol{s}}\n",
    "\\newcommand{\\bt}{\\boldsymbol{t}}\n",
    "\\newcommand{\\bu}{\\boldsymbol{u}}\n",
    "\\newcommand{\\bv}{\\boldsymbol{v}}\n",
    "\\newcommand{\\bw}{\\boldsymbol{w}}\n",
    "\\newcommand{\\bx}{\\boldsymbol{x}}\n",
    "\\newcommand{\\by}{\\boldsymbol{y}}\n",
    "\\newcommand{\\bz}{\\boldsymbol{z}}\n",
    "\\newcommand{\\bA}{\\boldsymbol{A}}\n",
    "\\newcommand{\\bB}{\\boldsymbol{B}}\n",
    "\\newcommand{\\bC}{\\boldsymbol{C}}\n",
    "\\newcommand{\\bD}{\\boldsymbol{D}}\n",
    "\\newcommand{\\bE}{\\boldsymbol{E}}\n",
    "\\newcommand{\\bF}{\\boldsymbol{F}}\n",
    "\\newcommand{\\bG}{\\boldsymbol{G}}\n",
    "\\newcommand{\\bH}{\\boldsymbol{H}}\n",
    "\\newcommand{\\bI}{\\boldsymbol{I}}\n",
    "\\newcommand{\\bJ}{\\boldsymbol{J}}\n",
    "\\newcommand{\\bK}{\\boldsymbol{K}}\n",
    "\\newcommand{\\bL}{\\boldsymbol{L}}\n",
    "\\newcommand{\\bM}{\\boldsymbol{M}}\n",
    "\\newcommand{\\bN}{\\boldsymbol{N}}\n",
    "\\newcommand{\\bO}{\\boldsymbol{O}}\n",
    "\\newcommand{\\bP}{\\boldsymbol{P}}\n",
    "\\newcommand{\\bQ}{\\boldsymbol{Q}}\n",
    "\\newcommand{\\bR}{\\boldsymbol{R}}\n",
    "\\newcommand{\\bS}{\\boldsymbol{S}}\n",
    "\\newcommand{\\bT}{\\boldsymbol{T}}\n",
    "\\newcommand{\\bU}{\\boldsymbol{U}}\n",
    "\\newcommand{\\bV}{\\boldsymbol{V}}\n",
    "\\newcommand{\\bW}{\\boldsymbol{W}}\n",
    "\\newcommand{\\bX}{\\boldsymbol{X}}\n",
    "\\newcommand{\\bY}{\\boldsymbol{Y}}\n",
    "\\newcommand{\\bZ}{\\boldsymbol{Z}}\n",
    "\\newcommand{\\balpha}{\\boldsymbol{\\alpha}}\n",
    "\\newcommand{\\bbeta}{\\boldsymbol{\\beta}}\n",
    "\\newcommand{\\bgamma}{\\boldsymbol{\\gamma}}\n",
    "\\newcommand{\\bdelta}{\\boldsymbol{\\delta}}\n",
    "\\newcommand{\\bepsilon}{\\boldsymbol{\\epsilon}}\n",
    "\\newcommand{\\blambda}{\\boldsymbol{\\lambda}}\n",
    "\\newcommand{\\bmu}{\\boldsymbol{\\mu}}\n",
    "\\newcommand{\\bnu}{\\boldsymbol{\\nu}}\n",
    "\\newcommand{\\bphi}{\\boldsymbol{\\phi}}\n",
    "\\newcommand{\\bpi}{\\boldsymbol{\\pi}}\n",
    "\\newcommand{\\bsigma}{\\boldsymbol{\\sigma}}\n",
    "\\newcommand{\\btheta}{\\boldsymbol{\\theta}}\n",
    "\\newcommand{\\bomega}{\\boldsymbol{\\omega}}\n",
    "\\newcommand{\\bxi}{\\boldsymbol{\\xi}}\n",
    "\\newcommand{\\bGamma}{\\boldsymbol{\\Gamma}}\n",
    "\\newcommand{\\bDelta}{\\boldsymbol{\\Delta}}\n",
    "\\newcommand{\\bTheta}{\\boldsymbol{\\Theta}}\n",
    "\\newcommand{\\bLambda}{\\boldsymbol{\\Lambda}}\n",
    "\\newcommand{\\bXi}{\\boldsymbol{\\Xi}}\n",
    "\\newcommand{\\bPi}{\\boldsymbol{\\Pi}}\n",
    "\\newcommand{\\bSigma}{\\boldsymbol{\\Sigma}}\n",
    "\\newcommand{\\bUpsilon}{\\boldsymbol{\\Upsilon}}\n",
    "\\newcommand{\\bPhi}{\\boldsymbol{\\Phi}}\n",
    "\\newcommand{\\bPsi}{\\boldsymbol{\\Psi}}\n",
    "\\newcommand{\\bOmega}{\\boldsymbol{\\Omega}}\n",
    "$$"
   ]
  },
  {
   "cell_type": "markdown",
   "metadata": {
    "deletable": true,
    "editable": true,
    "slideshow": {
     "slide_type": "slide"
    }
   },
   "source": [
    "\n",
    "# Data Science and Statistical Computing with Julia\n",
    "\n",
    "##### Dr. Hua Zhou, [huazhou@ucla.edu](mailto: huazhou@ucla.edu)\n",
    "##### Department of Biostatistics, UCLA\n",
    "##### Mar 20, 2017 @ Santen Pharmaceutical"
   ]
  },
  {
   "cell_type": "markdown",
   "metadata": {
    "deletable": true,
    "editable": true
   },
   "source": [
    "<img src=\"https://a248.e.akamai.net/secure.meetupstatic.com/photos/event/7/c/8/0/highres_328291872.jpeg\" alt=\"Mountain View\" style=\"width:200px;\">"
   ]
  },
  {
   "cell_type": "markdown",
   "metadata": {
    "deletable": true,
    "editable": true,
    "slideshow": {
     "slide_type": "slide"
    }
   },
   "source": [
    "This Jupyter notebook can be located at [https://github.com/Hua-Zhou/Public-Talks/blob/master/santen-2017-mar/julia-tutorial/julia_tutorial.ipynb](https://github.com/Hua-Zhou/Public-Talks/blob/master/santen-2017-mar/julia-tutorial/julia_tutorial.ipynb) or [http://tinyurl.com/lnoubdl](http://tinyurl.com/lnoubdl)\n",
    "\n",
    "# Preparation\n",
    "\n",
    "To run the examples in this tutorial:\n",
    "\n",
    "0. Download current release of `Julia` (v0.5.1) from [http://julialang.org/downloads/](http://julialang.org/downloads/) and install on your computer.  \n",
    "0. In `Julia` command line, install packages needed for this tutorial by running following commands.\n",
    "```Julia\n",
    "Pkg.add(\"DataTables\")\n",
    "Pkg.add(\"Distributions\")\n",
    "Pkg.add(\"ForwardDiff\")\n",
    "Pkg.add(\"Roots\")\n",
    "Pkg.add(\"RCall\")\n",
    "Pkg.add(\"Convex\")\n",
    "Pkg.add(\"CUBLAS\") # requires Nvidia GPU and drivers\n",
    "Pkg.add(\"SCS\")\n",
    "Pkg.add(\"DataFrames\")\n",
    "Pkg.add(\"Gadfly\")\n",
    "Pkg.add(\"GR\")\n",
    "Pkg.add(\"Images\")\n",
    "Pkg.add(\"JuMP\")\n",
    "Pkg.add(\"Ipopt\")\n",
    "```\n",
    "0. Follow the instructions at https://github.com/JuliaLang/IJulia.jl to install `IJulia.jl`, so that you can use Jupyter Notebook.  \n"
   ]
  },
  {
   "cell_type": "markdown",
   "metadata": {
    "deletable": true,
    "editable": true,
    "slideshow": {
     "slide_type": "slide"
    }
   },
   "source": [
    "There are at least two ways to run examples in this tutorial.  \n",
    "* Copy code into `Julia` REPL and run.  \n",
    "* Install [`IJulia` package](https://github.com/JuliaLang/IJulia.jl) or [`Jupyter`](http://jupyter.org) and run the notebook directly."
   ]
  },
  {
   "cell_type": "markdown",
   "metadata": {
    "deletable": true,
    "editable": true
   },
   "source": [
    "# Some resources for learning Julia\n",
    "\n",
    "0. Read a cheat sheet by Ian Hellstrom, [*The Fast Track to Julia*](https://dl.dropboxusercontent.com/u/8252984/julia.html).  \n",
    "0. Browse the `Julia` [documentation](http://docs.julialang.org/en/release-0.4/).  \n",
    "0. The tutorials [*Hands-on Julia*](https://github.com/dpsanders/hands_on_julia) by Dr. David P. Sanders, available at [https://github.com/dpsanders/hands_on_julia](https://github.com/dpsanders/hands_on_julia), are excellent.  \n",
    "0. For `Matlab` users, read [*Noteworthy Differences From Matlab*](http://docs.julialang.org/en/release-0.4/manual/noteworthy-differences/#noteworthy-differences-from-matlab). For `R` users, read [*Noteworthy Differences From R*](http://docs.julialang.org/en/release-0.4/manual/noteworthy-differences/#noteworthy-differences-from-r).  \n",
    "0. The [Learning page](http://julialang.org/learning/) on Julia's website has pointers to many other learning resources.  \n",
    "0. Tons of slides/notebooks at http://ucidatascienceinitiative.github.io/IntroToJulia/"
   ]
  },
  {
   "cell_type": "markdown",
   "metadata": {
    "deletable": true,
    "editable": true,
    "slideshow": {
     "slide_type": "slide"
    }
   },
   "source": [
    "# Why Julia?\n",
    "\n",
    "> Julia is a high-level, high-performance dynamic programming language for technical computing, with syntax that is familiar to users of other technical computing environments\n",
    "\n",
    "#### Aims to solve the \"two language problem\"\n",
    "- Prototype code goes into high-level language like R/Python, production code goes into low-level language like C/C++\n",
    "\n",
    "#### Write high-level, abstract code that closely resembles mathematical formulas\n",
    "- yet produces fast, low-level machine code that has traditionally only been generated by static languages.\n",
    "\n",
    "#### Julia is more than just \"Fast R\" or \"Fast Matlab\"\n",
    "- Performance comes from features that work well together.  \n",
    "- You can't just take the magic dust that makes Julia fast and sprinkle it on [language of choice]"
   ]
  },
  {
   "cell_type": "markdown",
   "metadata": {
    "deletable": true,
    "editable": true
   },
   "source": [
    "# R is great, but...\n",
    "\n",
    "### It's not meant for high performance computing\n",
    "- http://adv-r.had.co.nz/Performance.html\n",
    "    - Section on performance starts with \"Why is R slow?\" \n",
    "\n",
    "### Deficiencies in the core language \n",
    "- Some fixed with packages (`devtools`, `roxygen2`, `Matrix`)\n",
    "- Others harder to fix (R uses an old version of BLAS)\n",
    "- Some impossible to fix (clunky syntax, poor design choices)\n",
    "\n",
    "### Only 6 active developers left (out of 20 R-Core members)\n",
    "- JuliaLang organization has 74 members, with 567 total contributors (as of 3/3/17)\n",
    "    - https://github.com/JuliaLang/julia/graphs/contributors\n",
    "\n",
    "   \n",
    "### Doug Bates (`Matrix` and `lme4`, member of R-Core)\n",
    "\n",
    "- \"As some of you may know, I have had a (rather late) mid-life crisis and run off with another language called Julia\" - Doug Bates in the knitr google group\n",
    "\n",
    "- Getting Doug on board was a big win for statistics with Julia, as he brought a lot of knowledge about the history of R development and design choices.\n",
    "    - https://github.com/dmbates/MixedModels.jl"
   ]
  },
  {
   "cell_type": "markdown",
   "metadata": {
    "deletable": true,
    "editable": true,
    "slideshow": {
     "slide_type": "slide"
    }
   },
   "source": [
    "## Language features of R, Matlab and Julia\n",
    "\n",
    "|        Features       |             R            |     Matlab     |        Julia        |\n",
    "|:---------------------:|:------------------------:|:--------------:|:-------------------:|\n",
    "|      Open source      |           👍         |      👎      |         👍        |\n",
    "|          IDE          |    RStudio 👍 👍     | 👍 👍 👍 |    Atom+Juno 👎   |\n",
    "|    Dynamic document   | RMarkdown 👍 👍 👍 |    👍 👍   |   IJulia 👍 👍  |\n",
    "|    Multi-threading    |    `parallel` 👎  |      👍      |  👍 👍 [see docs](http://docs.julialang.org/en/release-0.4/manual/parallel-computing/)  |\n",
    "|          JIT          |    `compiler` 👎  |    👍 👍   |    👍 👍 👍   |\n",
    "|     Call C/Fortran    |      wrapper, `Rcpp`     |     wrapper    | [no glue code needed](http://docs.julialang.org/en/release-0.4/manual/calling-c-and-fortran-code/#calling-c-and-fortran-code) |\n",
    "|  Call shared library  |          wrapper         |     wrapper    | [no glue code needed](http://docs.julialang.org/en/release-0.4/manual/calling-c-and-fortran-code/#calling-c-and-fortran-code) |\n",
    "|         Typing        |           👎           |    👍 👍   |    👍 👍 👍   |\n",
    "|   Pass by reference   |           👎           |      👎      |    👍 👍 👍   |\n",
    "|     Linear algebra    |           👎           |   MKL, Arpack  |  OpenBLAS, eigpack  |\n",
    "| Distributed computing |           👎           |      👍      |    👍 👍 👍   |\n",
    "| Sparse linear algebra |  `Matrix` package 👎   | 👍 👍 👍 |    👍 👍 👍   |\n",
    "|     Documentation     |           👎           | 👍 👍 👍 |      👍 👍      |\n",
    "|        Profiler       |           👎           | 👍 👍 👍 |    👍 👍 👍   |"
   ]
  },
  {
   "cell_type": "markdown",
   "metadata": {
    "deletable": true,
    "editable": true
   },
   "source": [
    "# Benchmarks, Time Relative to C\n",
    "![](benchmarks.png)"
   ]
  },
  {
   "cell_type": "markdown",
   "metadata": {
    "deletable": true,
    "editable": true,
    "slideshow": {
     "slide_type": "slide"
    }
   },
   "source": [
    "## Benchmark\n",
    "\n",
    "Benchmark code `R-benchmark-25.R` from [http://r.research.att.com/benchmarks/R-benchmark-25.R](http://r.research.att.com/benchmarks/R-benchmark-25.R) covers many commonly used numerical operations used in statistics. We ported (literally) to [Matlab](./benchmark/benchmark_matlab.m) and [Julia](./benchmark/benchmark_julia.jl) and report the run times (averaged over 5 runs) here.\n",
    "\n",
    "|                        Test                        | R 3.3.2 | Matlab R2017a | Julia 0.5.1 |\n",
    "|:-------------------------------------------------- |:-------:|:-------------:|:-----------:|\n",
    "| Matrix creation, trans., deform. (2500 x 2500) |   0.70  |      **0.13**     |   0.22  |\n",
    "|      Power of matrix (2500 x 2500, `A.^1000`)      |   0.17  |    **0.10**   |     0.11    |\n",
    "|          Quick sort ($n = 7 \\times 10^6$)          |   0.69  |    **0.30**   |     0.62    |\n",
    "|         Cross product (2800 x 2800, $A^TA$)        |  13.49  |    **0.18**   |  0.21  |\n",
    "|            LS solution ($n = p = 2000$)            |   6.42  |    **0.07**   |     0.07    |\n",
    "|                FFT ($n = 2,400,000$)               |   0.25  |    **0.03**   |     0.16    |\n",
    "|           Eigen-values ($600 \\times 600$)          |   0.71  |    **0.22**   |     0.51    |\n",
    "|          Determinant ($2500 \\times 2500$)          |   3.49  |      0.19     |   **0.14**  |\n",
    "|            Cholesky ($3000 \\times 3000$)           |   5.03  |    **0.08**   |     0.16    |\n",
    "|         Matrix inverse ($1600 \\times 1600$)        |   2.83  |    **0.11**   |     0.18    |\n",
    "|           Fibonacci (vector calculation)           |   0.22  |    **0.16**   |     0.58    |\n",
    "|            Hilbert (matrix calculation)            |   0.21  |      0.07     |   **0.06**  |\n",
    "|                   GCD (recursion)                  |   0.33  |    **0.09**     |   0.13  |\n",
    "|               Toeplitz matrix (loops)              |   0.28  |     0.0012    |  **0.0007** |\n",
    "|                 Escoufiers (mixed)                 |   0.33  |      0.15     |   **0.14**  |\n",
    "\n",
    "Machine specs: Intel i7 @ 2.9GHz (4 physical cores, 8 threads), 16G RAM, Mac OS 10.12.3."
   ]
  },
  {
   "cell_type": "markdown",
   "metadata": {
    "deletable": true,
    "editable": true
   },
   "source": [
    "## Gibbs sampler example by Doug Bates\n",
    "\n",
    "Gibbs sampler example taken from Doug Bates’s slides\n",
    "> As some of you may know, I have had a (rather late) mid-life crisis and run off with another language called Julia.\n",
    "\n",
    "[Link to Jupyter Notebook](./benchmark/gibbs_julia.ipynb)"
   ]
  },
  {
   "cell_type": "markdown",
   "metadata": {
    "deletable": true,
    "editable": true
   },
   "source": [
    "## Brownian motion example by John Myles White\n",
    "\n",
    "This example is taken from John Myles White talk at [Multithreaded Data event](http://multithreaded.stitchfix.com/blog/2015/03/05/john-myles-white-on-julia/).\n",
    "\n",
    "[Link to Jupyter Notebook](./benchmark/brownianmotion_julia.ipynb)"
   ]
  },
  {
   "cell_type": "markdown",
   "metadata": {
    "deletable": true,
    "editable": true
   },
   "source": [
    "# Julia's Growth\n",
    "\n",
    "- http://pkg.julialang.org/pulse.html\n",
    "\n",
    "![](http://pkg.julialang.org/img/allver.svg)\n",
    "\n",
    "![](http://pkg.julialang.org/img/stars.svg)\n",
    "\n",
    "- Screenshot taken 3/3/17:\n",
    "<img src=toppackages.png style=\"width:250px;\">"
   ]
  },
  {
   "cell_type": "markdown",
   "metadata": {
    "deletable": true,
    "editable": true
   },
   "source": [
    "# Getting started"
   ]
  },
  {
   "cell_type": "markdown",
   "metadata": {
    "deletable": true,
    "editable": true
   },
   "source": [
    "## Julia REPL (Read-Evaluation-Print-Loop)\n",
    "\n",
    "The `Julia` REPL has four main modes.\n",
    "\n",
    "* Default mode is the Julian prompt `julia>`. Type backspace in other modes to enter defualt mode.    \n",
    "* Help mode `help?>`. Type `?` to enter help mode. `?search_term` does a fuzzy search for `search_term`.  \n",
    "* Shell mode `shell>`. Type `;` to enter shell mode.  \n",
    "* Search mode `(reverse-i-search)`. Press `ctrl+R` to enter search model. \n",
    "\n",
    "With `RCall.jl` package installed, we can enter the `R` mode by typing `$` at Julia REPL."
   ]
  },
  {
   "cell_type": "markdown",
   "metadata": {
    "deletable": true,
    "editable": true
   },
   "source": [
    "## Calling R from Julia\n",
    "\n",
    "- Suppose you don't want to learn a new plotting library given the hours you've put into ggplot2.\n",
    "\n",
    "\n",
    "- The `RCall` package allows you embed R code inside of Julia\n",
    "    - There is also a `PyCall`"
   ]
  },
  {
   "cell_type": "code",
   "execution_count": 1,
   "metadata": {
    "collapsed": false,
    "deletable": true,
    "editable": true
   },
   "outputs": [
    {
     "ename": "LoadError",
     "evalue": "UndefVarError: library not defined",
     "output_type": "error",
     "traceback": [
      "UndefVarError: library not defined",
      ""
     ]
    }
   ],
   "source": [
    "using RCall\n",
    "using RDatasets\n",
    "mtcars = dataset(\"datasets\",\"mtcars\")\n",
    "\n",
    "## Press $ to activate the R REPL mode and the R prompt will be shown. \n",
    "## in Julia R, \n",
    "library(ggplot2)\n",
    "ggplot($mtcars, aes(x = WT, y=MPG)) + geom_point()\n"
   ]
  },
  {
   "cell_type": "code",
   "execution_count": 1,
   "metadata": {
    "collapsed": false,
    "deletable": true,
    "editable": true
   },
   "outputs": [
    {
     "data": {
      "image/png": "[encoded data removed]"
     },
     "metadata": {},
     "output_type": "display_data"
    }
   ],
   "source": [
    "using RCall\n",
    "x = randn(1000)\n",
    "\n",
    "R\"\"\"hist($x, main=\"I'm plotting a Julia vector\")\"\"\";"
   ]
  },
  {
   "cell_type": "code",
   "execution_count": 2,
   "metadata": {
    "collapsed": false,
    "deletable": true,
    "editable": true
   },
   "outputs": [
    {
     "data": {
      "image/png": "[encoded data removed]"
     },
     "metadata": {},
     "output_type": "display_data"
    },
    {
     "data": {
      "text/plain": [
       "RCall.RObject{RCall.VecSxp}\n"
      ]
     },
     "execution_count": 2,
     "metadata": {},
     "output_type": "execute_result"
    },
    {
     "name": "stderr",
     "output_type": "stream",
     "text": [
      "\u001b[1m\u001b[31mWARNING: `stat_bin()` using `bins = 30`. Pick better value with `binwidth`.\u001b[0m\n"
     ]
    }
   ],
   "source": [
    "x = randn(1000)\n",
    "\n",
    "using RCall\n",
    "\n",
    "R\"\"\"\n",
    "library(ggplot2)\n",
    "qplot($x) \n",
    "\"\"\""
   ]
  },
  {
   "cell_type": "code",
   "execution_count": 3,
   "metadata": {
    "collapsed": false,
    "deletable": true,
    "editable": true
   },
   "outputs": [
    {
     "data": {
      "text/plain": [
       "RCall.RObject{RCall.RealSxp}\n",
       " [1]  1.61320575 -0.90734815 -0.98251296  0.02576434  0.32888396  1.47234277\n",
       " [7]  0.37458314 -0.32628843  0.79193188  0.49646294\n"
      ]
     },
     "execution_count": 3,
     "metadata": {},
     "output_type": "execute_result"
    }
   ],
   "source": [
    "x = R\"\"\"\n",
    "rnorm(10)\n",
    "\"\"\""
   ]
  },
  {
   "cell_type": "code",
   "execution_count": 4,
   "metadata": {
    "collapsed": false,
    "deletable": true,
    "editable": true
   },
   "outputs": [
    {
     "data": {
      "text/plain": [
       "10-element Array{Any,1}:\n",
       "  1.61321  \n",
       " -0.907348 \n",
       " -0.982513 \n",
       "  0.0257643\n",
       "  0.328884 \n",
       "  1.47234  \n",
       "  0.374583 \n",
       " -0.326288 \n",
       "  0.791932 \n",
       "  0.496463 "
      ]
     },
     "execution_count": 4,
     "metadata": {},
     "output_type": "execute_result"
    }
   ],
   "source": [
    "collect(x)"
   ]
  },
  {
   "cell_type": "markdown",
   "metadata": {
    "deletable": true,
    "editable": true
   },
   "source": [
    "## Package system\n",
    "\n",
    "Each Julia package is a git repository. For example, the package called `Distributions.jl` is added with"
   ]
  },
  {
   "cell_type": "code",
   "execution_count": 5,
   "metadata": {
    "collapsed": false,
    "deletable": true,
    "editable": true
   },
   "outputs": [],
   "source": [
    "#Pkg.add(\"Distributions\")   # no .jl "
   ]
  },
  {
   "cell_type": "markdown",
   "metadata": {
    "deletable": true,
    "editable": true
   },
   "source": [
    "and \"removed\" (although not completely deleted) with"
   ]
  },
  {
   "cell_type": "code",
   "execution_count": 6,
   "metadata": {
    "collapsed": false,
    "deletable": true,
    "editable": true
   },
   "outputs": [],
   "source": [
    "#Pkg.rm(\"Distributions\")"
   ]
  },
  {
   "cell_type": "markdown",
   "metadata": {
    "deletable": true,
    "editable": true
   },
   "source": [
    "The package manager actually provides a dependency solver that determines which packages are actually required to be installed.\n",
    "\n",
    "The package ecosystem is rapidly maturing; a complete list of registered packages (which are required to have a certain level of testing and documentation) is at [http://pkg.julialang.org/](http://pkg.julialang.org/). Non-registered packages are added by cloning the relevant git repository."
   ]
  },
  {
   "cell_type": "code",
   "execution_count": 7,
   "metadata": {
    "collapsed": false,
    "deletable": true,
    "editable": true
   },
   "outputs": [],
   "source": [
    "#Pkg.clone(\"git@github.com:OpenMendel/SnpArrays.jl.git\")"
   ]
  },
  {
   "cell_type": "markdown",
   "metadata": {
    "deletable": true,
    "editable": true
   },
   "source": [
    "A package need only be added once, at which point it is downloaded into your local .julia directory in your home directory, in a subdirectory v0.4 or v0.5, depending on your Julia version. If you start having problems with packages that seem to be unsolvable, you can try just deleting your .julia directory and reinstalling all your packages. Periodically, you should run `Pkg.update()` which checks for, downloads and installs updated versions of all the packages you currently have installed."
   ]
  },
  {
   "cell_type": "code",
   "execution_count": 8,
   "metadata": {
    "collapsed": true,
    "deletable": true,
    "editable": true
   },
   "outputs": [],
   "source": [
    "using Distributions"
   ]
  },
  {
   "cell_type": "markdown",
   "metadata": {
    "deletable": true,
    "editable": true
   },
   "source": [
    "This pulls all of the *exported* functions in the module into your local namespace, as you can check using the `whos()` command. An alternative is"
   ]
  },
  {
   "cell_type": "code",
   "execution_count": 9,
   "metadata": {
    "collapsed": true,
    "deletable": true,
    "editable": true
   },
   "outputs": [],
   "source": [
    "import Distributions"
   ]
  },
  {
   "cell_type": "markdown",
   "metadata": {
    "deletable": true,
    "editable": true
   },
   "source": [
    "Now, the functions from the `Distributions` package are available only using `Distributions.<NAME>`. All functions, not only exported functions, are always available like this."
   ]
  },
  {
   "cell_type": "markdown",
   "metadata": {
    "deletable": true,
    "editable": true
   },
   "source": [
    "### [JuliaStats](http://juliastats.github.io)\n",
    "\n",
    "Organization for many statistical packages in Julia\n",
    "\n",
    "- [StatsBase.jl](https://github.com/JuliaStats/StatsBase.jl)\n",
    "- [Distributions.jl](https://github.com/JuliaStats/Distributions.jl)\n",
    "- [DataTables.jl](https://github.com/JuliaData/DataTables.jl)\n",
    "- [GLM.jl](https://github.com/JuliaStats/GLM.jl)"
   ]
  },
  {
   "cell_type": "markdown",
   "metadata": {
    "deletable": true,
    "editable": true
   },
   "source": [
    "#### StatsBase.jl\n",
    "\n",
    "- Provides many common functions in base R that are not in base Julia (sampling, weighted statistics etc.).\n",
    "\n",
    "- Also provides many function names (`coef`, `coeftable`, `predict`, etc.) to help packages avoid name conflicts"
   ]
  },
  {
   "cell_type": "code",
   "execution_count": 10,
   "metadata": {
    "collapsed": false,
    "deletable": true,
    "editable": true
   },
   "outputs": [
    {
     "data": {
      "text/plain": [
       "5-element Array{Int64,1}:\n",
       " 3\n",
       " 1\n",
       " 4\n",
       " 5\n",
       " 2"
      ]
     },
     "execution_count": 10,
     "metadata": {},
     "output_type": "execute_result"
    }
   ],
   "source": [
    "using StatsBase\n",
    "\n",
    "sample(1:5, 5, replace = false)"
   ]
  },
  {
   "cell_type": "markdown",
   "metadata": {
    "deletable": true,
    "editable": true
   },
   "source": [
    "#### DataTables.jl\n",
    "\n",
    "- For working with tabular data with possibly missing values\n",
    "- A fork of DataFrames.jl\n",
    "    - The difference is the Array type used on the backend (DistributedArrays vs. NullableArrays) for handling missing data"
   ]
  },
  {
   "cell_type": "code",
   "execution_count": 11,
   "metadata": {
    "collapsed": false,
    "deletable": true,
    "editable": true
   },
   "outputs": [
    {
     "name": "stderr",
     "output_type": "stream",
     "text": [
      "WARNING: Method definition describe(AbstractArray) in module DataFrames at /Users/huazhou/.julia/v0.5/DataFrames/src/abstractdataframe/abstractdataframe.jl:407 overwritten in module DataTables at /Users/huazhou/.julia/v0.5/DataTables/src/abstractdatatable/abstractdatatable.jl:381.\n",
      "WARNING: Method definition describe(Any, AbstractArray{#T<:Number, N<:Any}) in module DataFrames at /Users/huazhou/.julia/v0.5/DataFrames/src/abstractdataframe/abstractdataframe.jl:409 overwritten in module DataTables at /Users/huazhou/.julia/v0.5/DataTables/src/abstractdatatable/abstractdatatable.jl:383.\n",
      "WARNING: Method definition describe(Any, AbstractArray{#T<:Any, N<:Any}) in module DataFrames at /Users/huazhou/.julia/v0.5/DataFrames/src/abstractdataframe/abstractdataframe.jl:426 overwritten in module DataTables at /Users/huazhou/.julia/v0.5/DataTables/src/abstractdatatable/abstractdatatable.jl:400.\n",
      "WARNING: Method definition vcat(Array{Void, 1}) in module DataFrames at /Users/huazhou/.julia/v0.5/DataFrames/src/abstractdataframe/abstractdataframe.jl:695 overwritten in module DataTables at /Users/huazhou/.julia/v0.5/DataTables/src/abstractdatatable/abstractdatatable.jl:717.\n"
     ]
    },
    {
     "data": {
      "text/html": [
       "<table class=\"data-frame\"><tr><th></th><th>SepalLength</th><th>SepalWidth</th><th>PetalLength</th><th>PetalWidth</th><th>Species</th></tr><tr><th>1</th><td>5.1</td><td>3.5</td><td>1.4</td><td>0.2</td><td>setosa</td></tr><tr><th>2</th><td>4.9</td><td>3.0</td><td>1.4</td><td>0.2</td><td>setosa</td></tr><tr><th>3</th><td>4.7</td><td>3.2</td><td>1.3</td><td>0.2</td><td>setosa</td></tr><tr><th>4</th><td>4.6</td><td>3.1</td><td>1.5</td><td>0.2</td><td>setosa</td></tr><tr><th>5</th><td>5.0</td><td>3.6</td><td>1.4</td><td>0.2</td><td>setosa</td></tr><tr><th>6</th><td>5.4</td><td>3.9</td><td>1.7</td><td>0.4</td><td>setosa</td></tr></table>"
      ],
      "text/plain": [
       "6×5 DataTables.DataTable\n",
       "│ Row │ SepalLength │ SepalWidth │ PetalLength │ PetalWidth │ Species │\n",
       "├─────┼─────────────┼────────────┼─────────────┼────────────┼─────────┤\n",
       "│ 1   │ 5.1         │ 3.5        │ 1.4         │ 0.2        │ setosa  │\n",
       "│ 2   │ 4.9         │ 3.0        │ 1.4         │ 0.2        │ setosa  │\n",
       "│ 3   │ 4.7         │ 3.2        │ 1.3         │ 0.2        │ setosa  │\n",
       "│ 4   │ 4.6         │ 3.1        │ 1.5         │ 0.2        │ setosa  │\n",
       "│ 5   │ 5.0         │ 3.6        │ 1.4         │ 0.2        │ setosa  │\n",
       "│ 6   │ 5.4         │ 3.9        │ 1.7         │ 0.4        │ setosa  │"
      ]
     },
     "execution_count": 11,
     "metadata": {},
     "output_type": "execute_result"
    }
   ],
   "source": [
    "using DataTables\n",
    "\n",
    "iris = readtable(joinpath(Pkg.dir(\"DataTables\"), \"test/data/iris.csv\"))\n",
    "head(iris)"
   ]
  },
  {
   "cell_type": "markdown",
   "metadata": {
    "deletable": true,
    "editable": true
   },
   "source": [
    "#### Query.jl\n",
    "\n",
    "- Query just about any data source"
   ]
  },
  {
   "cell_type": "code",
   "execution_count": 12,
   "metadata": {
    "collapsed": false,
    "deletable": true,
    "editable": true
   },
   "outputs": [
    {
     "name": "stderr",
     "output_type": "stream",
     "text": [
      "WARNING: Method definition require(Symbol) in module Base at loading.jl:345 overwritten in module Query at /Users/huazhou/.julia/v0.5/Requires/src/require.jl:12.\n",
      "WARNING: Method definition ==(Base.Nullable{#T<:Any}, Base.Nullable{Union{}}) in module NullableArrays at /Users/huazhou/.julia/v0.5/NullableArrays/src/operators.jl:138 overwritten in module Query at /Users/huazhou/.julia/v0.5/Query/src/operators.jl:8.\n",
      "WARNING: Method definition ==(Base.Nullable{Union{}}, Base.Nullable{#T<:Any}) in module NullableArrays at /Users/huazhou/.julia/v0.5/NullableArrays/src/operators.jl:137 overwritten in module Query at /Users/huazhou/.julia/v0.5/Query/src/operators.jl:9.\n",
      "WARNING: Method definition ==(Base.Nullable{#T1<:Any}, Base.Nullable{#T2<:Any}) in module NullableArrays at /Users/huazhou/.julia/v0.5/NullableArrays/src/operators.jl:128 overwritten in module Query at /Users/huazhou/.julia/v0.5/Query/src/operators.jl:77.\n"
     ]
    },
    {
     "data": {
      "text/html": [
       "<table class=\"data-frame\"><tr><th></th><th>SepalLength</th><th>SepalWidth</th><th>PetalLength</th><th>PetalWidth</th><th>Species</th></tr><tr><th>1</th><td>4.8</td><td>3.4</td><td>1.9</td><td>0.2</td><td>setosa</td></tr><tr><th>2</th><td>5.1</td><td>3.8</td><td>1.9</td><td>0.4</td><td>setosa</td></tr></table>"
      ],
      "text/plain": [
       "2×5 DataTables.DataTable\n",
       "│ Row │ SepalLength │ SepalWidth │ PetalLength │ PetalWidth │ Species │\n",
       "├─────┼─────────────┼────────────┼─────────────┼────────────┼─────────┤\n",
       "│ 1   │ 4.8         │ 3.4        │ 1.9         │ 0.2        │ setosa  │\n",
       "│ 2   │ 5.1         │ 3.8        │ 1.9         │ 0.4        │ setosa  │"
      ]
     },
     "execution_count": 12,
     "metadata": {},
     "output_type": "execute_result"
    }
   ],
   "source": [
    "using Query\n",
    "\n",
    "x = @from i in iris begin\n",
    "    @where i.Species == \"setosa\" && i.PetalLength > 1.7\n",
    "    @select i\n",
    "    @collect DataTable\n",
    "end"
   ]
  },
  {
   "cell_type": "markdown",
   "metadata": {
    "deletable": true,
    "editable": true
   },
   "source": [
    "## Which IDE?\n",
    "\n",
    "I'm using the editor [Atom](https://atom.io) with packages `julia-client`, `language-julia`, and `latex-completions` installed. \n",
    "\n",
    "If you want a RStudio- or Matlab- like IDE, add the `uber-juno` package to Atom. Follow instructions at [https://github.com/JunoLab/uber-juno/blob/master/setup.md](https://github.com/JunoLab/uber-juno/blob/master/setup.md)."
   ]
  },
  {
   "cell_type": "markdown",
   "metadata": {
    "deletable": true,
    "editable": true
   },
   "source": [
    "## Some basic code"
   ]
  },
  {
   "cell_type": "code",
   "execution_count": 13,
   "metadata": {
    "collapsed": false,
    "deletable": true,
    "editable": true
   },
   "outputs": [
    {
     "data": {
      "text/plain": [
       "1.0"
      ]
     },
     "execution_count": 13,
     "metadata": {},
     "output_type": "execute_result"
    }
   ],
   "source": [
    "y = 1.0"
   ]
  },
  {
   "cell_type": "code",
   "execution_count": 14,
   "metadata": {
    "collapsed": false,
    "deletable": true,
    "editable": true
   },
   "outputs": [
    {
     "data": {
      "text/plain": [
       "Float64"
      ]
     },
     "execution_count": 14,
     "metadata": {},
     "output_type": "execute_result"
    }
   ],
   "source": [
    "typeof(y)"
   ]
  },
  {
   "cell_type": "code",
   "execution_count": 15,
   "metadata": {
    "collapsed": false,
    "deletable": true,
    "editable": true
   },
   "outputs": [
    {
     "data": {
      "text/plain": [
       "4.141592653589793"
      ]
     },
     "execution_count": 15,
     "metadata": {},
     "output_type": "execute_result"
    }
   ],
   "source": [
    "# Greek letters!  `\\pi<tab>`\n",
    "θ = y + π"
   ]
  },
  {
   "cell_type": "markdown",
   "metadata": {
    "deletable": true,
    "editable": true
   },
   "source": [
    "## Linear Algebra\n",
    "\n",
    "Basic indexing"
   ]
  },
  {
   "cell_type": "code",
   "execution_count": 55,
   "metadata": {
    "collapsed": false,
    "deletable": true,
    "editable": true
   },
   "outputs": [
    {
     "data": {
      "text/plain": [
       "5×5 Array{Float64,2}:\n",
       "  1.06973   -2.56405    -0.0351528   0.110149    0.573066\n",
       "  2.15127    0.0978775   0.952308    0.905212   -3.01798 \n",
       "  1.00736    0.429767    0.315611   -2.71353     1.82899 \n",
       " -2.5612     0.117654   -0.719655   -0.0513424   1.93575 \n",
       " -0.648716   0.276614    0.198606    3.1886     -0.66454 "
      ]
     },
     "execution_count": 55,
     "metadata": {},
     "output_type": "execute_result"
    }
   ],
   "source": [
    "x = randn(5, 5)  # 5 × 5 matrix of random Normal(0, 1)"
   ]
  },
  {
   "cell_type": "code",
   "execution_count": 56,
   "metadata": {
    "collapsed": false,
    "deletable": true,
    "editable": true
   },
   "outputs": [
    {
     "data": {
      "text/plain": [
       "5-element Array{Float64,1}:\n",
       "  1.06973 \n",
       "  2.15127 \n",
       "  1.00736 \n",
       " -2.5612  \n",
       " -0.648716"
      ]
     },
     "execution_count": 56,
     "metadata": {},
     "output_type": "execute_result"
    }
   ],
   "source": [
    "# get first column\n",
    "x[:, 1]"
   ]
  },
  {
   "cell_type": "code",
   "execution_count": 57,
   "metadata": {
    "collapsed": false,
    "deletable": true,
    "editable": true
   },
   "outputs": [
    {
     "data": {
      "text/plain": [
       "5-element Array{Float64,1}:\n",
       "  1.06973  \n",
       " -2.56405  \n",
       " -0.0351528\n",
       "  0.110149 \n",
       "  0.573066 "
      ]
     },
     "execution_count": 57,
     "metadata": {},
     "output_type": "execute_result"
    }
   ],
   "source": [
    "# get first row\n",
    "x[1, :]"
   ]
  },
  {
   "cell_type": "code",
   "execution_count": 58,
   "metadata": {
    "collapsed": false,
    "deletable": true,
    "editable": true
   },
   "outputs": [
    {
     "data": {
      "text/plain": [
       "4×3 SubArray{Float64,2,Array{Float64,2},Tuple{UnitRange{Int64},UnitRange{Int64}},false}:\n",
       "  2.15127   0.0978775   0.952308\n",
       "  1.00736   0.429767    0.315611\n",
       " -2.5612    0.117654   -0.719655\n",
       " -0.648716  0.276614    0.198606"
      ]
     },
     "execution_count": 58,
     "metadata": {},
     "output_type": "execute_result"
    }
   ],
   "source": [
    "# getting a subset of a matrix creates a copy, but you can also create \"views\"\n",
    "@view x[2:end, 1:(end-2)]"
   ]
  },
  {
   "cell_type": "markdown",
   "metadata": {
    "deletable": true,
    "editable": true
   },
   "source": [
    "Support for Sparse Matrices"
   ]
  },
  {
   "cell_type": "code",
   "execution_count": 59,
   "metadata": {
    "collapsed": false,
    "deletable": true,
    "editable": true
   },
   "outputs": [
    {
     "data": {
      "text/plain": [
       "10×10 sparse matrix with 7 Float64 nonzero entries:\n",
       "\t[7 ,  1]  =  1.79762\n",
       "\t[9 ,  3]  =  -0.561586\n",
       "\t[3 ,  4]  =  0.545276\n",
       "\t[2 ,  7]  =  -0.504432\n",
       "\t[8 ,  7]  =  2.73697\n",
       "\t[2 ,  8]  =  0.201337\n",
       "\t[5 ,  9]  =  0.285078"
      ]
     },
     "execution_count": 59,
     "metadata": {},
     "output_type": "execute_result"
    }
   ],
   "source": [
    "x = sprandn(10, 10, .1)"
   ]
  },
  {
   "cell_type": "markdown",
   "metadata": {
    "deletable": true,
    "editable": true
   },
   "source": [
    "[Call BLAS Functions Directly](http://docs.julialang.org/en/release-0.4/stdlib/linalg/?highlight=blas#module-Base.LinAlg.BLAS)"
   ]
  },
  {
   "cell_type": "code",
   "execution_count": 60,
   "metadata": {
    "collapsed": true,
    "deletable": true,
    "editable": true
   },
   "outputs": [],
   "source": [
    "y = zeros(10)\n",
    "x = ones(10);"
   ]
  },
  {
   "cell_type": "code",
   "execution_count": 62,
   "metadata": {
    "collapsed": false,
    "deletable": true,
    "editable": true
   },
   "outputs": [
    {
     "ename": "LoadError",
     "evalue": "UndefVarError: @benchmark not defined",
     "output_type": "error",
     "traceback": [
      "UndefVarError: @benchmark not defined",
      ""
     ]
    }
   ],
   "source": [
    "@benchmark BLAS.axpy!(0.5, x, y)  # y = 0.5 * x + y"
   ]
  },
  {
   "cell_type": "code",
   "execution_count": 63,
   "metadata": {
    "collapsed": false,
    "deletable": true,
    "editable": true
   },
   "outputs": [
    {
     "ename": "LoadError",
     "evalue": "UndefVarError: @benchmark not defined",
     "output_type": "error",
     "traceback": [
      "UndefVarError: @benchmark not defined",
      ""
     ]
    }
   ],
   "source": [
    "@benchmark z = .5 * x + y"
   ]
  },
  {
   "cell_type": "markdown",
   "metadata": {},
   "source": []
  },
  {
   "cell_type": "code",
   "execution_count": 1,
   "metadata": {
    "collapsed": false
   },
   "outputs": [
    {
     "name": "stdout",
     "output_type": "stream",
     "text": [
      "search: \u001b[1ms\u001b[22m\u001b[1mu\u001b[22m\u001b[1mm\u001b[22m \u001b[1ms\u001b[22m\u001b[1mu\u001b[22m\u001b[1mm\u001b[22m! \u001b[1ms\u001b[22m\u001b[1mu\u001b[22m\u001b[1mm\u001b[22mabs \u001b[1ms\u001b[22m\u001b[1mu\u001b[22m\u001b[1mm\u001b[22mmary \u001b[1ms\u001b[22m\u001b[1mu\u001b[22m\u001b[1mm\u001b[22mabs2 \u001b[1ms\u001b[22m\u001b[1mu\u001b[22m\u001b[1mm\u001b[22mabs! \u001b[1ms\u001b[22m\u001b[1mu\u001b[22m\u001b[1mm\u001b[22m_kbn \u001b[1ms\u001b[22m\u001b[1mu\u001b[22m\u001b[1mm\u001b[22mabs2! cum\u001b[1ms\u001b[22m\u001b[1mu\u001b[22m\u001b[1mm\u001b[22m cum\u001b[1ms\u001b[22m\u001b[1mu\u001b[22m\u001b[1mm\u001b[22m!\n",
      "\n"
     ]
    },
    {
     "data": {
      "text/markdown": [
       "```\n",
       "sum(itr)\n",
       "```\n",
       "\n",
       "Returns the sum of all elements in a collection.\n",
       "\n",
       "```\n",
       "sum(A, dims)\n",
       "```\n",
       "\n",
       "Sum elements of an array over the given dimensions.\n",
       "\n",
       "```\n",
       "sum(f, itr)\n",
       "```\n",
       "\n",
       "Sum the results of calling function `f` on each element of `itr`.\n"
      ],
      "text/plain": [
       "```\n",
       "sum(itr)\n",
       "```\n",
       "\n",
       "Returns the sum of all elements in a collection.\n",
       "\n",
       "```\n",
       "sum(A, dims)\n",
       "```\n",
       "\n",
       "Sum elements of an array over the given dimensions.\n",
       "\n",
       "```\n",
       "sum(f, itr)\n",
       "```\n",
       "\n",
       "Sum the results of calling function `f` on each element of `itr`.\n"
      ]
     },
     "execution_count": 1,
     "metadata": {},
     "output_type": "execute_result"
    }
   ],
   "source": []
  },
  {
   "cell_type": "markdown",
   "metadata": {
    "deletable": true,
    "editable": true
   },
   "source": [
    "## Defining functions on one line\n",
    "\n",
    "- `::SomeType` is a type annotation\n",
    "    - I only want my `regression` function to work with a Matrix and a Vector"
   ]
  },
  {
   "cell_type": "code",
   "execution_count": 16,
   "metadata": {
    "collapsed": false,
    "deletable": true,
    "editable": true
   },
   "outputs": [
    {
     "data": {
      "text/plain": [
       "regression (generic function with 1 method)"
      ]
     },
     "execution_count": 16,
     "metadata": {},
     "output_type": "execute_result"
    }
   ],
   "source": [
    "regression(x::Matrix, y::Vector) = inv(x'x) * x'y"
   ]
  },
  {
   "cell_type": "markdown",
   "metadata": {
    "deletable": true,
    "editable": true
   },
   "source": [
    "By the way, this is **not** the way to compute least square solution."
   ]
  },
  {
   "cell_type": "markdown",
   "metadata": {
    "deletable": true,
    "editable": true
   },
   "source": [
    "## Defining functions on multiple lines.\n",
    "- Code blocks (for loops, if statements, etc., require an `end`)"
   ]
  },
  {
   "cell_type": "code",
   "execution_count": 17,
   "metadata": {
    "collapsed": false,
    "deletable": true,
    "editable": true
   },
   "outputs": [
    {
     "data": {
      "text/plain": [
       "regression (generic function with 2 methods)"
      ]
     },
     "execution_count": 17,
     "metadata": {},
     "output_type": "execute_result"
    }
   ],
   "source": [
    "function regression(x::Matrix{Float64}, y::Vector{Float64})\n",
    "    inv(x'x) * x'y\n",
    "end"
   ]
  },
  {
   "cell_type": "markdown",
   "metadata": {
    "deletable": true,
    "editable": true
   },
   "source": [
    "## Using our `regression` function"
   ]
  },
  {
   "cell_type": "code",
   "execution_count": 18,
   "metadata": {
    "collapsed": false,
    "deletable": true,
    "editable": true
   },
   "outputs": [
    {
     "data": {
      "text/plain": [
       "5-element Array{Float64,1}:\n",
       " -0.0761932\n",
       "  0.0197167\n",
       " -0.147183 \n",
       "  0.0613367\n",
       " -0.0844392"
      ]
     },
     "execution_count": 18,
     "metadata": {},
     "output_type": "execute_result"
    }
   ],
   "source": [
    "srand(123) # random seed\n",
    "x = randn(100, 5)\n",
    "y = randn(100)\n",
    "typeof(x), typeof(y)\n",
    "regression(x, y)"
   ]
  },
  {
   "cell_type": "markdown",
   "metadata": {
    "deletable": true,
    "editable": true
   },
   "source": [
    "Which function are we using?"
   ]
  },
  {
   "cell_type": "code",
   "execution_count": 19,
   "metadata": {
    "collapsed": false,
    "deletable": true,
    "editable": true
   },
   "outputs": [
    {
     "data": {
      "text/html": [
       "regression(x::<b>Array{Float64,2}</b>, y::<b>Array{Float64,1}</b>) at In[17]:2"
      ],
      "text/plain": [
       "regression(x::Array{Float64,2}, y::Array{Float64,1}) at In[17]:2"
      ]
     },
     "execution_count": 19,
     "metadata": {},
     "output_type": "execute_result"
    }
   ],
   "source": [
    "@which regression(x, y)"
   ]
  },
  {
   "cell_type": "code",
   "execution_count": 20,
   "metadata": {
    "collapsed": false,
    "deletable": true,
    "editable": true
   },
   "outputs": [
    {
     "data": {
      "text/plain": [
       "(Array{Float32,2},Array{Float32,1})"
      ]
     },
     "execution_count": 20,
     "metadata": {},
     "output_type": "execute_result"
    }
   ],
   "source": [
    "x2 = randn(Float32, 100, 5)\n",
    "y2 = randn(Float32, 100)\n",
    "typeof(x2), typeof(y2)"
   ]
  },
  {
   "cell_type": "code",
   "execution_count": 21,
   "metadata": {
    "collapsed": false,
    "deletable": true,
    "editable": true
   },
   "outputs": [
    {
     "data": {
      "text/html": [
       "regression(x::<b>Array{T<:Any,2}</b>, y::<b>Array{T<:Any,1}</b>) at In[16]:1"
      ],
      "text/plain": [
       "regression(x::Array{T<:Any,2}, y::Array{T<:Any,1}) at In[16]:1"
      ]
     },
     "execution_count": 21,
     "metadata": {},
     "output_type": "execute_result"
    }
   ],
   "source": [
    "@which regression(x2, y2)"
   ]
  },
  {
   "cell_type": "markdown",
   "metadata": {
    "deletable": true,
    "editable": true
   },
   "source": [
    "### Some types are parameterized by another type.\n",
    "- `Matrix{Float64}` is a two-dimensional array where each element is a `Float64`\n",
    "    - Note: `Matrix{T}` is an alias for `Array{T, 2}`\n",
    "- Our first definition of `regression` will accept a `Matrix` and `Vector` with any element types.  This new definition is more restrictive.\n",
    "\n",
    "### We have not overwritten the previous definition!\n",
    "- We have added a method\n",
    "- This is called multiple dispatch  \n",
    "    - Different code is called **depending on the types of the arguments** \n",
    "    - **The most specific method available is called**"
   ]
  },
  {
   "cell_type": "code",
   "execution_count": 22,
   "metadata": {
    "collapsed": false,
    "deletable": true,
    "editable": true
   },
   "outputs": [
    {
     "data": {
      "text/html": [
       "2 methods for generic function <b>regression</b>:<ul><li> regression(x::<b>Array{Float64,2}</b>, y::<b>Array{Float64,1}</b>) at In[17]:2</li> <li> regression(x::<b>Array{T<:Any,2}</b>, y::<b>Array{T<:Any,1}</b>) at In[16]:1</li> </ul>"
      ],
      "text/plain": [
       "# 2 methods for generic function \"regression\":\n",
       "regression(x::Array{Float64,2}, y::Array{Float64,1}) at In[17]:2\n",
       "regression(x::Array{T<:Any,2}, y::Array{T<:Any,1}) at In[16]:1"
      ]
     },
     "execution_count": 22,
     "metadata": {},
     "output_type": "execute_result"
    }
   ],
   "source": [
    "methods(regression)"
   ]
  },
  {
   "cell_type": "markdown",
   "metadata": {
    "deletable": true,
    "editable": true
   },
   "source": [
    "## Multiple dispatch and methods"
   ]
  },
  {
   "cell_type": "markdown",
   "metadata": {
    "deletable": true,
    "editable": true
   },
   "source": [
    "In `Julia`, different functions (methods) can have the same name. `Julia` operates on [multiple dispatch](http://docs.julialang.org/en/release-0.4/manual/methods/) to determine which method to use. That is `Julia` dynamically determines the method according to the type signature of input arguments."
   ]
  },
  {
   "cell_type": "code",
   "execution_count": 23,
   "metadata": {
    "collapsed": false,
    "deletable": true,
    "editable": true
   },
   "outputs": [
    {
     "data": {
      "text/html": [
       "15 methods for generic function <b>sin</b>:<ul><li> sin(x::<b>Float64</b>) at <a href=\"https://github.com/JuliaLang/julia/tree/6445c82d0060dbe82b88436f0f4371a4ee64d918/base/math.jl#L202\" target=\"_blank\">math.jl:202</a></li> <li> sin(x::<b>Float32</b>) at <a href=\"https://github.com/JuliaLang/julia/tree/6445c82d0060dbe82b88436f0f4371a4ee64d918/base/math.jl#L203\" target=\"_blank\">math.jl:203</a></li> <li> sin(a::<b>Float16</b>) at <a href=\"https://github.com/JuliaLang/julia/tree/6445c82d0060dbe82b88436f0f4371a4ee64d918/base/math.jl#L479\" target=\"_blank\">math.jl:479</a></li> <li> sin(a::<b>Complex{Float16}</b>) at <a href=\"https://github.com/JuliaLang/julia/tree/6445c82d0060dbe82b88436f0f4371a4ee64d918/base/math.jl#L480\" target=\"_blank\">math.jl:480</a></li> <li> sin(x::<b>BigFloat</b>) at <a href=\"https://github.com/JuliaLang/julia/tree/6445c82d0060dbe82b88436f0f4371a4ee64d918/base/mpfr.jl#L610\" target=\"_blank\">mpfr.jl:610</a></li> <li> sin(::<b>DataArrays.NAtype</b>) at <a href=\"https://github.com/JuliaStats/DataArrays.jl/tree/2f235b4de970490a75acb970c55cd4660143367a/src/operators.jl#L430\" target=\"_blank\">/Users/huazhou/.julia/v0.5/DataArrays/src/operators.jl:430</a></li> <li> sin<i>{T}</i>(z::<b>Complex{T}</b>) at <a href=\"https://github.com/JuliaLang/julia/tree/6445c82d0060dbe82b88436f0f4371a4ee64d918/base/complex.jl#L575\" target=\"_blank\">complex.jl:575</a></li> <li> sin(x::<b>Real</b>) at <a href=\"https://github.com/JuliaLang/julia/tree/6445c82d0060dbe82b88436f0f4371a4ee64d918/base/math.jl#L204\" target=\"_blank\">math.jl:204</a></li> <li> sin<i>{Tv,Ti}</i>(A::<b>SparseMatrixCSC{Tv,Ti}</b>) at <a href=\"https://github.com/JuliaLang/julia/tree/6445c82d0060dbe82b88436f0f4371a4ee64d918/base/sparse/sparsematrix.jl#L1347\" target=\"_blank\">sparse/sparsematrix.jl:1347</a></li> <li> sin<i>{Tv<:Number,Ti<:Integer}</i>(x::<b>AbstractSparseArray{Tv,Ti,1}</b>) at <a href=\"https://github.com/JuliaLang/julia/tree/6445c82d0060dbe82b88436f0f4371a4ee64d918/base/sparse/sparsevector.jl#L853\" target=\"_blank\">sparse/sparsevector.jl:853</a></li> <li> sin<i>{T<:AbstractFloat}</i>(d::<b>DataArrays.DataArray{T,N<:Any}</b>) at <a href=\"https://github.com/JuliaStats/DataArrays.jl/tree/2f235b4de970490a75acb970c55cd4660143367a/src/operators.jl#L202\" target=\"_blank\">/Users/huazhou/.julia/v0.5/DataArrays/src/operators.jl:202</a></li> <li> sin<i>{T<:Real}</i>(d::<b>DataArrays.DataArray{T,N<:Any}</b>) at <a href=\"https://github.com/JuliaStats/DataArrays.jl/tree/2f235b4de970490a75acb970c55cd4660143367a/src/operators.jl#L202\" target=\"_blank\">/Users/huazhou/.julia/v0.5/DataArrays/src/operators.jl:202</a></li> <li> sin<i>{T<:AbstractFloat}</i>(adv::<b>DataArrays.AbstractDataArray{T,N<:Any}</b>) at <a href=\"https://github.com/JuliaStats/DataArrays.jl/tree/2f235b4de970490a75acb970c55cd4660143367a/src/operators.jl#L212\" target=\"_blank\">/Users/huazhou/.julia/v0.5/DataArrays/src/operators.jl:212</a></li> <li> sin<i>{T<:Real}</i>(adv::<b>DataArrays.AbstractDataArray{T,N<:Any}</b>) at <a href=\"https://github.com/JuliaStats/DataArrays.jl/tree/2f235b4de970490a75acb970c55cd4660143367a/src/operators.jl#L212\" target=\"_blank\">/Users/huazhou/.julia/v0.5/DataArrays/src/operators.jl:212</a></li> <li> sin<i>{T<:Number}</i>(x::<b>AbstractArray{T,N<:Any}</b>) at <a href=\"https://github.com/JuliaLang/julia/tree/6445c82d0060dbe82b88436f0f4371a4ee64d918/base/operators.jl#L555\" target=\"_blank\">operators.jl:555</a></li> </ul>"
      ],
      "text/plain": [
       "# 15 methods for generic function \"sin\":\n",
       "sin(x::Float64) at math.jl:202\n",
       "sin(x::Float32) at math.jl:203\n",
       "sin(a::Float16) at math.jl:479\n",
       "sin(a::Complex{Float16}) at math.jl:480\n",
       "sin(x::BigFloat) at mpfr.jl:610\n",
       "sin(::DataArrays.NAtype) at /Users/huazhou/.julia/v0.5/DataArrays/src/operators.jl:430\n",
       "sin{T}(z::Complex{T}) at complex.jl:575\n",
       "sin(x::Real) at math.jl:204\n",
       "sin{Tv,Ti}(A::SparseMatrixCSC{Tv,Ti}) at sparse/sparsematrix.jl:1347\n",
       "sin{Tv<:Number,Ti<:Integer}(x::AbstractSparseArray{Tv,Ti,1}) at sparse/sparsevector.jl:853\n",
       "sin{T<:AbstractFloat}(d::DataArrays.DataArray{T,N<:Any}) at /Users/huazhou/.julia/v0.5/DataArrays/src/operators.jl:202\n",
       "sin{T<:Real}(d::DataArrays.DataArray{T,N<:Any}) at /Users/huazhou/.julia/v0.5/DataArrays/src/operators.jl:202\n",
       "sin{T<:AbstractFloat}(adv::DataArrays.AbstractDataArray{T,N<:Any}) at /Users/huazhou/.julia/v0.5/DataArrays/src/operators.jl:212\n",
       "sin{T<:Real}(adv::DataArrays.AbstractDataArray{T,N<:Any}) at /Users/huazhou/.julia/v0.5/DataArrays/src/operators.jl:212\n",
       "sin{T<:Number}(x::AbstractArray{T,N<:Any}) at operators.jl:555"
      ]
     },
     "execution_count": 23,
     "metadata": {},
     "output_type": "execute_result"
    }
   ],
   "source": [
    "methods(sin)"
   ]
  },
  {
   "cell_type": "code",
   "execution_count": 24,
   "metadata": {
    "collapsed": false,
    "deletable": true,
    "editable": true
   },
   "outputs": [
    {
     "data": {
      "text/html": [
       "sin(x::<b>Real</b>) at <a href=\"https://github.com/JuliaLang/julia/tree/6445c82d0060dbe82b88436f0f4371a4ee64d918/base/math.jl#L204\" target=\"_blank\">math.jl:204</a>"
      ],
      "text/plain": [
       "sin(x::Real) at math.jl:204"
      ]
     },
     "execution_count": 24,
     "metadata": {},
     "output_type": "execute_result"
    }
   ],
   "source": [
    "@which sin(1)"
   ]
  },
  {
   "cell_type": "code",
   "execution_count": 25,
   "metadata": {
    "collapsed": false,
    "deletable": true,
    "editable": true
   },
   "outputs": [
    {
     "data": {
      "text/html": [
       "sin(x::<b>Float64</b>) at <a href=\"https://github.com/JuliaLang/julia/tree/6445c82d0060dbe82b88436f0f4371a4ee64d918/base/math.jl#L202\" target=\"_blank\">math.jl:202</a>"
      ],
      "text/plain": [
       "sin(x::Float64) at math.jl:202"
      ]
     },
     "execution_count": 25,
     "metadata": {},
     "output_type": "execute_result"
    }
   ],
   "source": [
    "@which sin(1.0)"
   ]
  },
  {
   "cell_type": "markdown",
   "metadata": {
    "deletable": true,
    "editable": true
   },
   "source": [
    "## Type System\n",
    "\n",
    "#### When thinking about types, think about sets\n",
    "#### Everything is a subtype of the abstract type `Any`\n",
    "#### An abstract type defines a set of types\n",
    "- Consider types in Julia that are a `Number`:\n",
    "\n",
    "![](tree.png)\n",
    "\n",
    "- You can explore type hierarchy with `typeof()`, `supertype()`, and `subtypes()`"
   ]
  },
  {
   "cell_type": "code",
   "execution_count": 26,
   "metadata": {
    "collapsed": false,
    "deletable": true,
    "editable": true
   },
   "outputs": [
    {
     "data": {
      "text/plain": [
       "(Float64,Int64)"
      ]
     },
     "execution_count": 26,
     "metadata": {},
     "output_type": "execute_result"
    }
   ],
   "source": [
    "typeof(1.0), typeof(1)"
   ]
  },
  {
   "cell_type": "code",
   "execution_count": 27,
   "metadata": {
    "collapsed": false,
    "deletable": true,
    "editable": true
   },
   "outputs": [
    {
     "data": {
      "text/plain": [
       "AbstractFloat"
      ]
     },
     "execution_count": 27,
     "metadata": {},
     "output_type": "execute_result"
    }
   ],
   "source": [
    "supertype(Float64)"
   ]
  },
  {
   "cell_type": "code",
   "execution_count": 28,
   "metadata": {
    "collapsed": false,
    "deletable": true,
    "editable": true
   },
   "outputs": [
    {
     "data": {
      "text/plain": [
       "4-element Array{Any,1}:\n",
       " BigFloat\n",
       " Float16 \n",
       " Float32 \n",
       " Float64 "
      ]
     },
     "execution_count": 28,
     "metadata": {},
     "output_type": "execute_result"
    }
   ],
   "source": [
    "subtypes(AbstractFloat)"
   ]
  },
  {
   "cell_type": "code",
   "execution_count": 29,
   "metadata": {
    "collapsed": false,
    "deletable": true,
    "editable": true
   },
   "outputs": [
    {
     "data": {
      "text/plain": [
       "true"
      ]
     },
     "execution_count": 29,
     "metadata": {},
     "output_type": "execute_result"
    }
   ],
   "source": [
    "# Is Float64 a subtype of AbstractFloat?\n",
    "Float64 <: AbstractFloat"
   ]
  },
  {
   "cell_type": "markdown",
   "metadata": {
    "deletable": true,
    "editable": true
   },
   "source": [
    "#### What properties does a `Number` have?\n",
    "- You can add numbers (`+`)\n",
    "- You can multiply numbers (`*`)\n",
    "- etc.\n",
    "\n",
    "#### This definition is too broad, since some things can't be added \n",
    "```julia\n",
    "g(x) = x + x\n",
    "```\n",
    "\n",
    "#### This definition is too restrictive, since any Number can be added\n",
    "```julia\n",
    "g(x::Float64) = x + x\n",
    "```\n",
    "\n",
    "#### This will automatically work on the entire type tree above!\n",
    "```julia\n",
    "g(x::Number) = x + x\n",
    "```\n",
    "\n",
    "This is a lot nicer than \n",
    "```julia\n",
    "function g(x)\n",
    "    if isa(x, Number)\n",
    "        return x + x\n",
    "    else\n",
    "        throw(ArgumentError(\"x should be a number\"))\n",
    "    end\n",
    "end\n",
    "```"
   ]
  },
  {
   "cell_type": "markdown",
   "metadata": {
    "deletable": true,
    "editable": true
   },
   "source": [
    "## Just-in-time compilation (JIT)\n",
    "\n",
    "`Julia`'s efficiency results from its capabilities to infer the types of *all* variables within a function and then call LLVM to generate machine code at run-time. "
   ]
  },
  {
   "cell_type": "code",
   "execution_count": 30,
   "metadata": {
    "collapsed": false,
    "deletable": true,
    "editable": true
   },
   "outputs": [
    {
     "name": "stdout",
     "output_type": "stream",
     "text": [
      "  0.029319 seconds (13.00 k allocations: 610.544 KB)\n",
      "  0.000001 seconds (5 allocations: 176 bytes)\n"
     ]
    },
    {
     "data": {
      "text/plain": [
       "-3.557937701148848"
      ]
     },
     "execution_count": 30,
     "metadata": {},
     "output_type": "execute_result"
    }
   ],
   "source": [
    "x = randn(100)\n",
    "@time sum(x)\n",
    "@time sum(x)"
   ]
  },
  {
   "cell_type": "markdown",
   "metadata": {
    "deletable": true,
    "editable": true
   },
   "source": [
    "The key to writing performant `Julia` code is to be **type stable**, such that `Julia` is able to infer types of all variables and output of a function from the types of input arguments.\n",
    "\n",
    "Following figures and examples are taken from Arch D. Robinson's slides [*Introduction to Writing High Performance Julia*](https://docs.google.com/viewer?a=v&pid=sites&srcid=ZGVmYXVsdGRvbWFpbnxibG9uem9uaWNzfGd4OjMwZjI2YTYzNDNmY2UzMmE)."
   ]
  },
  {
   "cell_type": "markdown",
   "metadata": {
    "deletable": true,
    "editable": true
   },
   "source": [
    "| <img src=\"./benchmark/julia_toolchain.png\" alt=\"Julia toolchain\" style=\"width: 400px;\"/> | <img src=\"./benchmark/julia_introspect.png\" alt=\"Julia toolchain\" style=\"width: 500px;\"/> |\n",
    "|----------------------------------|------------------------------------|\n",
    "|||"
   ]
  },
  {
   "cell_type": "code",
   "execution_count": 31,
   "metadata": {
    "collapsed": false,
    "deletable": true,
    "editable": true
   },
   "outputs": [
    {
     "data": {
      "text/plain": [
       "g (generic function with 1 method)"
      ]
     },
     "execution_count": 31,
     "metadata": {},
     "output_type": "execute_result"
    }
   ],
   "source": [
    "g(x) = x + x"
   ]
  },
  {
   "cell_type": "markdown",
   "metadata": {
    "deletable": true,
    "editable": true
   },
   "source": [
    "This function will work on **any** type which has a method for `+`"
   ]
  },
  {
   "cell_type": "code",
   "execution_count": 32,
   "metadata": {
    "collapsed": false,
    "deletable": true,
    "editable": true
   },
   "outputs": [
    {
     "name": "stdout",
     "output_type": "stream",
     "text": [
      "g(2) = 4\n",
      "g(2.0) = 4.0\n"
     ]
    }
   ],
   "source": [
    "@show g(2)\n",
    "@show g(2.0);"
   ]
  },
  {
   "cell_type": "markdown",
   "metadata": {
    "deletable": true,
    "editable": true
   },
   "source": [
    "Peek at compiler code with `@code_llvm`"
   ]
  },
  {
   "cell_type": "code",
   "execution_count": 33,
   "metadata": {
    "collapsed": false,
    "deletable": true,
    "editable": true
   },
   "outputs": [
    {
     "name": "stdout",
     "output_type": "stream",
     "text": [
      "\n",
      "define i64 @julia_g_72798(i64) #0 {\n",
      "top:\n",
      "  %1 = shl i64 %0, 1\n",
      "  ret i64 %1\n",
      "}\n"
     ]
    }
   ],
   "source": [
    "@code_llvm g(2)"
   ]
  },
  {
   "cell_type": "code",
   "execution_count": 34,
   "metadata": {
    "collapsed": false,
    "deletable": true,
    "editable": true
   },
   "outputs": [
    {
     "name": "stdout",
     "output_type": "stream",
     "text": [
      "\n",
      "define double @julia_g_72806(double) #0 {\n",
      "top:\n",
      "  %1 = fadd double %0, %0\n",
      "  ret double %1\n",
      "}\n"
     ]
    }
   ],
   "source": [
    "@code_llvm g(2.0)"
   ]
  },
  {
   "cell_type": "markdown",
   "metadata": {
    "collapsed": false,
    "deletable": true,
    "editable": true
   },
   "source": [
    "We didn't provide a type annotation. But different code gets called depending on the argument type!\n",
    "\n",
    " - In R or Python, `g(2)` and `g(2.0)` would use the same code for both\n",
    " - in Julia, `g(2)` and `g(2.0)` dispatches to optimized code for `Int64` and `Float64`, respectively\n",
    " "
   ]
  },
  {
   "cell_type": "code",
   "execution_count": 35,
   "metadata": {
    "collapsed": false,
    "deletable": true,
    "editable": true
   },
   "outputs": [
    {
     "name": "stdout",
     "output_type": "stream",
     "text": [
      "\t.section\t__TEXT,__text,regular,pure_instructions\n",
      "Filename: In[31]\n",
      "\tpushq\t%rbp\n",
      "\tmovq\t%rsp, %rbp\n",
      "Source line: 1\n",
      "\taddsd\t%xmm0, %xmm0\n",
      "\tpopq\t%rbp\n",
      "\tretq\n",
      "\tnopw\t(%rax,%rax)\n"
     ]
    }
   ],
   "source": [
    "@code_native g(2.0)"
   ]
  },
  {
   "cell_type": "markdown",
   "metadata": {},
   "source": [
    "### We didn't provide a type annotation\n",
    "### But different code gets called depending on the argument type!\n",
    "\n",
    " - In R or Python, `g(2)` and `g(2.0)` would use the same code for both\n",
    " - in Julia, `g(2)` and `g(2.0)` dispatches to optimized code for `Int64` and `Float64`, respectively\n",
    " "
   ]
  },
  {
   "cell_type": "markdown",
   "metadata": {},
   "source": [
    "### When writing functions, keep things generic\n",
    "### This is usually not extra work\n",
    "### I use type annotations mostly to help with error handling\n",
    "\n",
    "```julia\n",
    "g(x::Number) = x + x\n",
    "```\n",
    "is a lot nicer than \n",
    "```julia\n",
    "function g(x)\n",
    "    if isa(x, Number)\n",
    "        return x + x\n",
    "    else\n",
    "        throw(ArgumentError(\"x should be a number\"))\n",
    "    end\n",
    "end\n",
    "```"
   ]
  },
  {
   "cell_type": "markdown",
   "metadata": {},
   "source": [
    "# Quantile Example\n",
    "\n",
    "Suppose I want a function to find quantiles with Newton's method:\n",
    "\n",
    "$$\n",
    "\\theta_{t+1} = \\theta_{t} - \\frac{F(\\theta_{t}) - q}{F'(\\theta_{t})}\n",
    "$$\n",
    "\n",
    "where $F$ is the CDF of the distribution\n",
    "\n",
    "- In R, I would need to write a different function for each distribution!\n",
    "\n",
    "\n",
    "- Julia has a fantastic `Distributions` package.\n",
    "    - Each Distribution is a type\n",
    "        - I know that any `ContinuousUnivariateDistribution` will work with the functions:\n",
    "            - `mean`, `cdf`, and `pdf`"
   ]
  },
  {
   "cell_type": "code",
   "execution_count": null,
   "metadata": {
    "collapsed": true
   },
   "outputs": [],
   "source": [
    "using Distributions\n",
    "\n",
    "function myquantile(d::ContinuousUnivariateDistribution, q::Number)\n",
    "    θ = mean(d)  # initial estimate\n",
    "    tol = Inf\n",
    "    while tol > 1e-5\n",
    "        θold = θ\n",
    "        θ = θ - (cdf(d, θ) - q) / pdf(d, θ)\n",
    "        tol = abs(θold - θ)\n",
    "    end\n",
    "    θ\n",
    "end"
   ]
  },
  {
   "cell_type": "code",
   "execution_count": null,
   "metadata": {
    "collapsed": true
   },
   "outputs": [],
   "source": [
    "for d in [Normal(), Gamma(5,1), Beta(3,4), Exponential(10), TDist(4)]\n",
    "    println(\"For $d\")\n",
    "    println(\"  > myquantile: $(myquantile(d, .4))\")\n",
    "    println(\"  > quantile:   $(quantile(d, .4))\")\n",
    "    println()\n",
    "end"
   ]
  },
  {
   "cell_type": "code",
   "execution_count": null,
   "metadata": {
    "collapsed": true
   },
   "outputs": [],
   "source": [
    "# Your own types are just as powerful as Julia's built-ins\n",
    "\n",
    "- Most of Julia is written in Julia!"
   ]
  },
  {
   "cell_type": "code",
   "execution_count": null,
   "metadata": {
    "collapsed": true
   },
   "outputs": [],
   "source": [
    "type MyType\n",
    "    val::Int64\n",
    "end\n",
    "\n",
    "immutable MyType2\n",
    "    val::Int64\n",
    "end"
   ]
  },
  {
   "cell_type": "code",
   "execution_count": null,
   "metadata": {
    "collapsed": true
   },
   "outputs": [],
   "source": [
    "# I can change `val` for an instance of `MyType`\n",
    "o = MyType(1)\n",
    "o.val = 2\n",
    "o"
   ]
  },
  {
   "cell_type": "code",
   "execution_count": null,
   "metadata": {
    "collapsed": true
   },
   "outputs": [],
   "source": [
    "# But I can't change `val` for an instance of `MyType2`\n",
    "o2 = MyType2(1)\n",
    "o2.val = 2"
   ]
  },
  {
   "cell_type": "code",
   "execution_count": null,
   "metadata": {
    "collapsed": true
   },
   "outputs": [],
   "source": [
    "### Types can be parameterized"
   ]
  },
  {
   "cell_type": "code",
   "execution_count": null,
   "metadata": {
    "collapsed": true
   },
   "outputs": [],
   "source": [
    "SomeNumber(5)"
   ]
  },
  {
   "cell_type": "code",
   "execution_count": null,
   "metadata": {
    "collapsed": true
   },
   "outputs": [],
   "source": [
    "SomeNumber(5.)"
   ]
  },
  {
   "cell_type": "markdown",
   "metadata": {},
   "source": [
    "### You can add new methods for new types"
   ]
  },
  {
   "cell_type": "code",
   "execution_count": null,
   "metadata": {
    "collapsed": true
   },
   "outputs": [],
   "source": [
    "Base.:+(x::SomeNumber, y::SomeNumber) = SomeNumber(x.value + y.value)"
   ]
  },
  {
   "cell_type": "code",
   "execution_count": null,
   "metadata": {
    "collapsed": true
   },
   "outputs": [],
   "source": [
    "SomeNumber(1.0) + SomeNumber(4.0)"
   ]
  },
  {
   "cell_type": "markdown",
   "metadata": {},
   "source": [
    "### Built-in broadcasting\n",
    "- The dot syntax means \"apply this function elementwise over the arguments\""
   ]
  },
  {
   "cell_type": "code",
   "execution_count": null,
   "metadata": {
    "collapsed": true
   },
   "outputs": [],
   "source": [
    "SomeNumber(rand(5))"
   ]
  },
  {
   "cell_type": "code",
   "execution_count": null,
   "metadata": {
    "collapsed": true
   },
   "outputs": [],
   "source": [
    "SomeNumber.(rand(5))"
   ]
  },
  {
   "cell_type": "code",
   "execution_count": null,
   "metadata": {
    "collapsed": true
   },
   "outputs": [],
   "source": [
    "x = rand(5000)\n",
    "\n",
    "@time x .= abs.(sin.(inv.(x))) ;"
   ]
  },
  {
   "cell_type": "markdown",
   "metadata": {},
   "source": [
    "### You can also write parametric methods"
   ]
  },
  {
   "cell_type": "code",
   "execution_count": null,
   "metadata": {
    "collapsed": true
   },
   "outputs": [],
   "source": [
    "g{T <: Number}(x::T, y::T) = x + y"
   ]
  },
  {
   "cell_type": "code",
   "execution_count": null,
   "metadata": {
    "collapsed": true
   },
   "outputs": [],
   "source": [
    "g(1, 2)"
   ]
  },
  {
   "cell_type": "code",
   "execution_count": null,
   "metadata": {
    "collapsed": true
   },
   "outputs": [],
   "source": [
    "g(1, 2.0)"
   ]
  },
  {
   "cell_type": "markdown",
   "metadata": {
    "deletable": true,
    "editable": true
   },
   "source": [
    "## Profiling Julia code\n",
    "\n",
    "Julia has several built-in tools for profiling. The `@time` marco outputs run time and heap allocation. The first time a funciton is called, Julia tries to compile it."
   ]
  },
  {
   "cell_type": "code",
   "execution_count": 36,
   "metadata": {
    "collapsed": false,
    "deletable": true,
    "editable": true
   },
   "outputs": [
    {
     "name": "stdout",
     "output_type": "stream",
     "text": [
      "  0.004986 seconds (1.17 k allocations: 56.344 KB)\n"
     ]
    }
   ],
   "source": [
    "function triple(a)\n",
    "    i = 1\n",
    "    n = length(a)\n",
    "    while i <= n\n",
    "        a[i] *= 3\n",
    "        i += 1\n",
    "    end\n",
    "end\n",
    "\n",
    "a = rand(10000)\n",
    "@time triple(a) # include compile time"
   ]
  },
  {
   "cell_type": "code",
   "execution_count": 37,
   "metadata": {
    "collapsed": false,
    "deletable": true,
    "editable": true
   },
   "outputs": [
    {
     "name": "stdout",
     "output_type": "stream",
     "text": [
      "  0.000012 seconds (4 allocations: 160 bytes)\n"
     ]
    }
   ],
   "source": [
    "@time triple(a)"
   ]
  },
  {
   "cell_type": "markdown",
   "metadata": {
    "deletable": true,
    "editable": true
   },
   "source": [
    "The `Profile` module gives line by line profile results."
   ]
  },
  {
   "cell_type": "code",
   "execution_count": 38,
   "metadata": {
    "collapsed": false,
    "deletable": true,
    "editable": true
   },
   "outputs": [
    {
     "name": "stdout",
     "output_type": "stream",
     "text": [
      " Count File                        Line Function                               \n",
      "    84 ./<missing>                   -1 anonymous                              \n",
      "    30 ./In[36]                       4 triple(::Array{Float64,1})             \n",
      "    54 ./In[36]                       5 triple(::Array{Float64,1})             \n",
      "     2 ./abstractarray.jl           485 copy!(::Array{Any,1}, ::Core.Infere... \n",
      "     2 ./inference.jl              1101 abstract_call(::Any, ::Array{Any,1}... \n",
      "     2 ./inference.jl               893 abstract_call_gf_by_type(::Any, ::A... \n",
      "     4 ./inference.jl              1152 abstract_eval(::Any, ::Array{Any,1}... \n",
      "     2 ./inference.jl              1105 abstract_eval_call(::Expr, ::Array{... \n",
      "     2 ./inference.jl              1131 abstract_eval_call(::Expr, ::Array{... \n",
      "     1 ./inference.jl              1939 finish(::Core.Inference.InferenceState)\n",
      "     1 ./inference.jl              2799 inlineable(::Any, ::Any, ::Expr, ::... \n",
      "     1 ./inference.jl              2872 inlining_pass!(::LambdaInfo, ::Core... \n",
      "     1 ./inference.jl              2930 inlining_pass(::Expr, ::Core.Infere... \n",
      "     1 ./inference.jl              3025 inlining_pass(::Expr, ::Core.Infere... \n",
      "     3 ./inference.jl              1597 typeinf_edge(::Method, ::Any, ::Sim... \n",
      "     2 ./inference.jl              1603 typeinf_edge(::Method, ::Any, ::Sim... \n",
      "     1 ./inference.jl              1621 typeinf_ext(::LambdaInfo)              \n",
      "     2 ./inference.jl              1786 typeinf_frame(::Core.Inference.Infe... \n",
      "     1 ./inference.jl              1854 typeinf_frame(::Core.Inference.Infe... \n",
      "     2 ./inference.jl              1660 typeinf_loop(::Core.Inference.Infer... \n",
      "     1 ./inference.jl              1677 typeinf_loop(::Core.Inference.Infer... \n",
      "    85 ./loading.jl                 441 include_string(::String, ::String)     \n",
      "    84 ./profile.jl                  16 macro expansion;                       \n",
      "    85 ./task.jl                    360 (::IJulia.##13#19)()                   \n",
      "     2 ...lia/lib/julia/sys.dylib    -1 abstract_call(::Any, ::Array{Any,1}... \n",
      "     2 ...lia/lib/julia/sys.dylib    -1 abstract_call_gf_by_type(::Any, ::A... \n",
      "     4 ...lia/lib/julia/sys.dylib    -1 abstract_eval(::Any, ::Array{Any,1}... \n",
      "     1 ...lia/lib/julia/sys.dylib    -1 inlineable(::Any, ::Any, ::Expr, ::... \n",
      "     1 ...lia/lib/julia/sys.dylib    -1 inlining_pass(::Expr, ::Core.Infere... \n",
      "     2 ...lia/lib/julia/sys.dylib    -1 typeinf_edge(::Method, ::Any, ::Sim... \n",
      "     2 ...lia/lib/julia/sys.dylib    -1 typeinf_edge(::Method, ::Any, ::Sim... \n",
      "     1 ...lia/lib/julia/sys.dylib    -1 typeinf_loop(::Core.Inference.Infer... \n",
      "    85 ...IJulia/src/eventloop.jl     8 eventloop(::ZMQ.Socket)                \n",
      "    85 .../src/execute_request.jl   157 execute_request(::ZMQ.Socket, ::IJu... \n"
     ]
    }
   ],
   "source": [
    "a = rand(100000000)\n",
    "Profile.clear()\n",
    "@profile triple(a)\n",
    "Profile.print(format=:flat)"
   ]
  },
  {
   "cell_type": "markdown",
   "metadata": {
    "deletable": true,
    "editable": true
   },
   "source": [
    "# Memory profiling\n",
    "\n",
    "Detailed memory profiling requires a detour. First let's write a script `bar.jl`, which contains the workload function `tally` and a wrapper for profiling."
   ]
  },
  {
   "cell_type": "code",
   "execution_count": 39,
   "metadata": {
    "collapsed": false,
    "deletable": true,
    "editable": true
   },
   "outputs": [
    {
     "name": "stdout",
     "output_type": "stream",
     "text": [
      "function tally(x)\n",
      "    s = 0\n",
      "    for v in x\n",
      "        s += v\n",
      "    end\n",
      "    s\n",
      "end\n",
      "\n",
      "# call workload from wrapper to avoid misattribution bug\n",
      "function wrapper()\n",
      "    y = rand(1000)\n",
      "    # force compilation\n",
      "    println(tally(y))\n",
      "    # clear allocation counters\n",
      "    Profile.clear_malloc_data()\n",
      "    # run compiled workload\n",
      "    println(tally(y))\n",
      "end\n",
      "\n",
      "wrapper()\n"
     ]
    }
   ],
   "source": [
    ";cat benchmark/bar.jl"
   ]
  },
  {
   "cell_type": "markdown",
   "metadata": {
    "deletable": true,
    "editable": true
   },
   "source": [
    "Next, in terminal, we run the script with `--track-allocation=user` option."
   ]
  },
  {
   "cell_type": "code",
   "execution_count": 2,
   "metadata": {
    "collapsed": false,
    "deletable": true,
    "editable": true
   },
   "outputs": [
    {
     "name": "stdout",
     "output_type": "stream",
     "text": [
      "501.65056514119146\n",
      "501.65056514119146\n"
     ]
    }
   ],
   "source": [
    ";julia --track-allocation=user benchmark/bar.jl"
   ]
  },
  {
   "cell_type": "markdown",
   "metadata": {
    "deletable": true,
    "editable": true
   },
   "source": [
    "The profiler outputs a file `bar.jl.mem`."
   ]
  },
  {
   "cell_type": "code",
   "execution_count": 41,
   "metadata": {
    "collapsed": false,
    "deletable": true,
    "editable": true
   },
   "outputs": [
    {
     "name": "stdout",
     "output_type": "stream",
     "text": [
      "        - function tally(x)\n",
      "        -     s = 0\n",
      "        0     for v in x\n",
      "    48000         s += v\n",
      "        -     end\n",
      "        0     s\n",
      "        - end\n",
      "        - \n",
      "        - # call workload from wrapper to avoid misattribution bug\n",
      "        - function wrapper()\n",
      "        -     y = rand(1000)\n",
      "        -     # force compilation\n",
      "        0     println(tally(y))\n",
      "        -     # clear allocation counters\n",
      "        0     Profile.clear_malloc_data()\n",
      "        -     # run compiled workload\n",
      "       96     println(tally(y))\n",
      "        - end\n",
      "        - \n",
      "        - wrapper()\n",
      "        - \n"
     ]
    }
   ],
   "source": [
    ";cat benchmark/bar.jl.mem"
   ]
  },
  {
   "cell_type": "markdown",
   "metadata": {
    "deletable": true,
    "editable": true
   },
   "source": [
    "Is the `tally` function type stable? How to diagnose and fix it?"
   ]
  },
  {
   "cell_type": "code",
   "execution_count": 42,
   "metadata": {
    "collapsed": false,
    "deletable": true,
    "editable": true
   },
   "outputs": [
    {
     "name": "stdout",
     "output_type": "stream",
     "text": [
      "Variables:\n",
      "  #self#::#tally\n",
      "  x::Array{Float64,1}\n",
      "  s::Float64\n",
      "  #temp#::Int64\n",
      "  v::Float64\n",
      "\n",
      "Body:\n",
      "  begin \n",
      "      s::Float64 = (Base.box)(Float64,(Base.sitofp)(Float64,0)) # line 3:\n",
      "      #temp#::Int64 = $(QuoteNode(1))\n",
      "      4: \n",
      "      unless (Base.box)(Base.Bool,(Base.not_int)((#temp#::Int64 === (Base.box)(Int64,(Base.add_int)((Base.arraylen)(x::Array{Float64,1})::Int64,1)))::Bool)) goto 14\n",
      "      SSAValue(2) = (Base.arrayref)(x::Array{Float64,1},#temp#::Int64)::Float64\n",
      "      SSAValue(3) = (Base.box)(Int64,(Base.add_int)(#temp#::Int64,1))\n",
      "      v::Float64 = SSAValue(2)\n",
      "      #temp#::Int64 = SSAValue(3) # line 4:\n",
      "      s::Float64 = (Base.box)(Base.Float64,(Base.add_float)(s::Float64,v::Float64))\n",
      "      12: \n",
      "      goto 4\n",
      "      14:  # line 6:\n",
      "      return s::Float64\n",
      "  end::Float64\n"
     ]
    }
   ],
   "source": [
    "function tally(x)\n",
    "    s = zero(eltype(x))\n",
    "    for v in x\n",
    "        s += v\n",
    "    end\n",
    "    s\n",
    "end\n",
    "\n",
    "@code_warntype tally(rand(100))"
   ]
  },
  {
   "cell_type": "markdown",
   "metadata": {
    "deletable": true,
    "editable": true
   },
   "source": [
    "# Plotting in Julia\n",
    "\n",
    "The three most popular options (as far as I can tell) are\n",
    "- https://github.com/GiovineItalia/Gadfly.jl\n",
    "    - Grammar of Graphics in Julia\n",
    "    \n",
    "    \n",
    "- https://github.com/JuliaPy/PyPlot.jl\n",
    "    - Wrapper for Python's matplotlib\n",
    "    \n",
    "    \n",
    "- https://github.com/JuliaPlots/Plots.jl **(my personal favorite)**\n",
    "    - Defines an interface for plotting\n",
    "    - maps arguments to different plotting \"backends\"\n",
    "        - PyPlot, GR, PlotlyJS, and more"
   ]
  },
  {
   "cell_type": "code",
   "execution_count": 5,
   "metadata": {
    "collapsed": false,
    "deletable": true,
    "editable": true
   },
   "outputs": [],
   "source": [
    "using Plots"
   ]
  },
  {
   "cell_type": "code",
   "execution_count": 6,
   "metadata": {
    "collapsed": false,
    "deletable": true,
    "editable": true
   },
   "outputs": [
    {
     "data": {
      "text/html": [
       "<img src=\"data:image/png;base64,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\" />"
      ]
     },
     "execution_count": 6,
     "metadata": {},
     "output_type": "execute_result"
    },
    {
     "name": "stderr",
     "output_type": "stream",
     "text": [
      "sys:1: MatplotlibDeprecationWarning: The set_axis_bgcolor function was deprecated in version 2.0. Use set_facecolor instead.\n"
     ]
    }
   ],
   "source": [
    "pyplot()  # set the backend\n",
    "plot(randn(50, 2))"
   ]
  },
  {
   "cell_type": "code",
   "execution_count": 5,
   "metadata": {
    "collapsed": false,
    "deletable": true,
    "editable": true
   },
   "outputs": [
    {
     "data": {
      "text/html": [
       "<?xml version=\"1.0\" encoding=\"utf-8\"?>\n",
       "<svg xmlns=\"http://www.w3.org/2000/svg\" xmlns:xlink=\"http://www.w3.org/1999/xlink\" width=\"600\" height=\"400\" viewBox=\"0 0 600 400\">\n",
       "<defs>\n",
       "  <clipPath id=\"clip00\">\n",
       "    <rect x=\"0\" y=\"0\" width=\"600\" height=\"400\"/>\n",
       "  </clipPath>\n",
       "</defs>\n",
       "<polygon clip-path=\"url(#clip00)\" points=\"\n",
       "0,400 600,400 600,0 0,0 \n",
       "  \" fill=\"#ffffff\" fill-opacity=\"1\"/>\n",
       "<defs>\n",
       "  <clipPath id=\"clip01\">\n",
       "    <rect x=\"120\" y=\"0\" width=\"421\" height=\"400\"/>\n",
       "  </clipPath>\n",
       "</defs>\n",
       "<polygon clip-path=\"url(#clip00)\" points=\"\n",
       "21.7148,384.952 596.063,384.952 596.063,3.93701 21.7148,3.93701 \n",
       "  \" fill=\"#ffffff\" fill-opacity=\"1\"/>\n",
       "<defs>\n",
       "  <clipPath id=\"clip02\">\n",
       "    <rect x=\"21\" y=\"3\" width=\"575\" height=\"382\"/>\n",
       "  </clipPath>\n",
       "</defs>\n",
       "<polyline clip-path=\"url(#clip02)\" style=\"stroke:#00002d; stroke-width:0.8; stroke-opacity:0.5; fill:none\" stroke-dasharray=\"1, 2\" points=\"\n",
       "  127.207,379.237 127.207,9.65223 \n",
       "  \"/>\n",
       "<polyline clip-path=\"url(#clip02)\" style=\"stroke:#00002d; stroke-width:0.8; stroke-opacity:0.5; fill:none\" stroke-dasharray=\"1, 2\" points=\"\n",
       "  244.421,379.237 244.421,9.65223 \n",
       "  \"/>\n",
       "<polyline clip-path=\"url(#clip02)\" style=\"stroke:#00002d; stroke-width:0.8; stroke-opacity:0.5; fill:none\" stroke-dasharray=\"1, 2\" points=\"\n",
       "  361.635,379.237 361.635,9.65223 \n",
       "  \"/>\n",
       "<polyline clip-path=\"url(#clip02)\" style=\"stroke:#00002d; stroke-width:0.8; stroke-opacity:0.5; fill:none\" stroke-dasharray=\"1, 2\" points=\"\n",
       "  478.849,379.237 478.849,9.65223 \n",
       "  \"/>\n",
       "<polyline clip-path=\"url(#clip02)\" style=\"stroke:#00002d; stroke-width:0.8; stroke-opacity:0.5; fill:none\" stroke-dasharray=\"1, 2\" points=\"\n",
       "  596.063,379.237 596.063,9.65223 \n",
       "  \"/>\n",
       "<polyline clip-path=\"url(#clip02)\" style=\"stroke:#00002d; stroke-width:0.8; stroke-opacity:0.5; fill:none\" stroke-dasharray=\"1, 2\" points=\"\n",
       "  30.33,341.783 587.448,341.783 \n",
       "  \"/>\n",
       "<polyline clip-path=\"url(#clip02)\" style=\"stroke:#00002d; stroke-width:0.8; stroke-opacity:0.5; fill:none\" stroke-dasharray=\"1, 2\" points=\"\n",
       "  30.33,260.821 587.448,260.821 \n",
       "  \"/>\n",
       "<polyline clip-path=\"url(#clip02)\" style=\"stroke:#00002d; stroke-width:0.8; stroke-opacity:0.5; fill:none\" stroke-dasharray=\"1, 2\" points=\"\n",
       "  30.33,179.859 587.448,179.859 \n",
       "  \"/>\n",
       "<polyline clip-path=\"url(#clip02)\" style=\"stroke:#00002d; stroke-width:0.8; stroke-opacity:0.5; fill:none\" stroke-dasharray=\"1, 2\" points=\"\n",
       "  30.33,98.8975 587.448,98.8975 \n",
       "  \"/>\n",
       "<polyline clip-path=\"url(#clip02)\" style=\"stroke:#00002d; stroke-width:0.8; stroke-opacity:0.5; fill:none\" stroke-dasharray=\"1, 2\" points=\"\n",
       "  30.33,17.9358 587.448,17.9358 \n",
       "  \"/>\n",
       "<polyline clip-path=\"url(#clip02)\" style=\"stroke:#00002d; stroke-width:0.8; stroke-opacity:1; fill:none\" points=\"\n",
       "  21.7148,384.952 596.063,384.952 \n",
       "  \"/>\n",
       "<polyline clip-path=\"url(#clip02)\" style=\"stroke:#00002d; stroke-width:0.8; stroke-opacity:1; fill:none\" points=\"\n",
       "  127.207,384.952 127.207,379.237 \n",
       "  \"/>\n",
       "<polyline clip-path=\"url(#clip02)\" style=\"stroke:#00002d; stroke-width:0.8; stroke-opacity:1; fill:none\" points=\"\n",
       "  244.421,384.952 244.421,379.237 \n",
       "  \"/>\n",
       "<polyline clip-path=\"url(#clip02)\" style=\"stroke:#00002d; stroke-width:0.8; stroke-opacity:1; fill:none\" points=\"\n",
       "  361.635,384.952 361.635,379.237 \n",
       "  \"/>\n",
       "<polyline clip-path=\"url(#clip02)\" style=\"stroke:#00002d; stroke-width:0.8; stroke-opacity:1; fill:none\" points=\"\n",
       "  478.849,384.952 478.849,379.237 \n",
       "  \"/>\n",
       "<polyline clip-path=\"url(#clip02)\" style=\"stroke:#00002d; stroke-width:0.8; stroke-opacity:1; fill:none\" points=\"\n",
       "  596.063,384.952 596.063,379.237 \n",
       "  \"/>\n",
       "<polyline clip-path=\"url(#clip02)\" style=\"stroke:#00002d; stroke-width:0.8; stroke-opacity:1; fill:none\" points=\"\n",
       "  21.7148,384.952 21.7148,3.93701 \n",
       "  \"/>\n",
       "<polyline clip-path=\"url(#clip02)\" style=\"stroke:#00002d; stroke-width:0.8; stroke-opacity:1; fill:none\" points=\"\n",
       "  21.7148,341.783 30.33,341.783 \n",
       "  \"/>\n",
       "<polyline clip-path=\"url(#clip02)\" style=\"stroke:#00002d; stroke-width:0.8; stroke-opacity:1; fill:none\" points=\"\n",
       "  21.7148,260.821 30.33,260.821 \n",
       "  \"/>\n",
       "<polyline clip-path=\"url(#clip02)\" style=\"stroke:#00002d; stroke-width:0.8; stroke-opacity:1; fill:none\" points=\"\n",
       "  21.7148,179.859 30.33,179.859 \n",
       "  \"/>\n",
       "<polyline clip-path=\"url(#clip02)\" style=\"stroke:#00002d; stroke-width:0.8; stroke-opacity:1; fill:none\" points=\"\n",
       "  21.7148,98.8975 30.33,98.8975 \n",
       "  \"/>\n",
       "<polyline clip-path=\"url(#clip02)\" style=\"stroke:#00002d; stroke-width:0.8; stroke-opacity:1; fill:none\" points=\"\n",
       "  21.7148,17.9358 30.33,17.9358 \n",
       "  \"/>\n",
       "<g clip-path=\"url(#clip00)\">\n",
       "<text style=\"fill:#00002d; fill-opacity:1; font-family:Arial,Helvetica Neue,Helvetica,sans-serif; font-size:12; text-anchor:middle;\" transform=\"rotate(0, 127.207, 396.952)\" x=\"127.207\" y=\"396.952\">10</text>\n",
       "</g>\n",
       "<g clip-path=\"url(#clip00)\">\n",
       "<text style=\"fill:#00002d; fill-opacity:1; font-family:Arial,Helvetica Neue,Helvetica,sans-serif; font-size:12; text-anchor:middle;\" transform=\"rotate(0, 244.421, 396.952)\" x=\"244.421\" y=\"396.952\">20</text>\n",
       "</g>\n",
       "<g clip-path=\"url(#clip00)\">\n",
       "<text style=\"fill:#00002d; fill-opacity:1; font-family:Arial,Helvetica Neue,Helvetica,sans-serif; font-size:12; text-anchor:middle;\" transform=\"rotate(0, 361.635, 396.952)\" x=\"361.635\" y=\"396.952\">30</text>\n",
       "</g>\n",
       "<g clip-path=\"url(#clip00)\">\n",
       "<text style=\"fill:#00002d; fill-opacity:1; font-family:Arial,Helvetica Neue,Helvetica,sans-serif; font-size:12; text-anchor:middle;\" transform=\"rotate(0, 478.849, 396.952)\" x=\"478.849\" y=\"396.952\">40</text>\n",
       "</g>\n",
       "<g clip-path=\"url(#clip00)\">\n",
       "<text style=\"fill:#00002d; fill-opacity:1; font-family:Arial,Helvetica Neue,Helvetica,sans-serif; font-size:12; text-anchor:middle;\" transform=\"rotate(0, 596.063, 396.952)\" x=\"596.063\" y=\"396.952\">50</text>\n",
       "</g>\n",
       "<g clip-path=\"url(#clip00)\">\n",
       "<text style=\"fill:#00002d; fill-opacity:1; font-family:Arial,Helvetica Neue,Helvetica,sans-serif; font-size:12; text-anchor:end;\" transform=\"rotate(0, 20.5148, 346.283)\" x=\"20.5148\" y=\"346.283\">-2</text>\n",
       "</g>\n",
       "<g clip-path=\"url(#clip00)\">\n",
       "<text style=\"fill:#00002d; fill-opacity:1; font-family:Arial,Helvetica Neue,Helvetica,sans-serif; font-size:12; text-anchor:end;\" transform=\"rotate(0, 20.5148, 265.321)\" x=\"20.5148\" y=\"265.321\">-1</text>\n",
       "</g>\n",
       "<g clip-path=\"url(#clip00)\">\n",
       "<text style=\"fill:#00002d; fill-opacity:1; font-family:Arial,Helvetica Neue,Helvetica,sans-serif; font-size:12; text-anchor:end;\" transform=\"rotate(0, 20.5148, 184.359)\" x=\"20.5148\" y=\"184.359\">0</text>\n",
       "</g>\n",
       "<g clip-path=\"url(#clip00)\">\n",
       "<text style=\"fill:#00002d; fill-opacity:1; font-family:Arial,Helvetica Neue,Helvetica,sans-serif; font-size:12; text-anchor:end;\" transform=\"rotate(0, 20.5148, 103.398)\" x=\"20.5148\" y=\"103.398\">1</text>\n",
       "</g>\n",
       "<g clip-path=\"url(#clip00)\">\n",
       "<text style=\"fill:#00002d; fill-opacity:1; font-family:Arial,Helvetica Neue,Helvetica,sans-serif; font-size:12; text-anchor:end;\" transform=\"rotate(0, 20.5148, 22.4358)\" x=\"20.5148\" y=\"22.4358\">2</text>\n",
       "</g>\n",
       "<polyline clip-path=\"url(#clip02)\" style=\"stroke:#0099ff; stroke-width:0.8; stroke-opacity:1; fill:none\" points=\"\n",
       "  21.7148,141.612 33.4362,176.641 45.1576,59.0976 56.879,16.9587 68.6004,120.074 80.3217,122.396 92.0431,153.803 103.765,223.748 115.486,128.451 127.207,187.256 \n",
       "  138.929,121.139 150.65,280.081 162.371,144.319 174.093,243.187 185.814,208.839 197.536,257.221 209.257,227.705 220.978,230.145 232.7,175.435 244.421,193.309 \n",
       "  256.143,261.834 267.864,269.922 279.585,165.297 291.307,222.051 303.028,174.061 314.75,149.19 326.471,132.862 338.192,138.835 349.914,185.719 361.635,310.547 \n",
       "  373.357,208.954 385.078,146.475 396.799,293.312 408.521,95.2557 420.242,65.0767 431.964,352.847 443.685,91.2609 455.406,54.4027 467.128,384.952 478.849,171.59 \n",
       "  490.57,326.945 502.292,225.342 514.013,69.5599 525.735,268.355 537.456,196.309 549.177,3.93701 560.899,193.029 572.62,188.247 584.342,111.573 596.063,99.8348 \n",
       "  \n",
       "  \"/>\n",
       "<polyline clip-path=\"url(#clip02)\" style=\"stroke:#e9746a; stroke-width:0.8; stroke-opacity:1; fill:none\" points=\"\n",
       "  21.7148,169.352 33.4362,28.5031 45.1576,332.736 56.879,317.916 68.6004,66.4256 80.3217,167.606 92.0431,186.85 103.765,142.675 115.486,116.932 127.207,281.471 \n",
       "  138.929,174.604 150.65,175.778 162.371,112.387 174.093,318.077 185.814,47.9977 197.536,254.02 209.257,182.106 220.978,106.588 232.7,194.374 244.421,199.442 \n",
       "  256.143,234.13 267.864,132.855 279.585,158.795 291.307,172.038 303.028,203.203 314.75,216.219 326.471,231.921 338.192,206.826 349.914,232.756 361.635,125.919 \n",
       "  373.357,193.464 385.078,90.5221 396.799,219.604 408.521,129.818 420.242,128.914 431.964,204.474 443.685,228.988 455.406,177.365 467.128,199.733 478.849,188.935 \n",
       "  490.57,205.114 502.292,294.026 514.013,170.771 525.735,131.85 537.456,216.878 549.177,85.8302 560.899,243.442 572.62,181.507 584.342,229.796 596.063,186.484 \n",
       "  \n",
       "  \"/>\n",
       "<polygon clip-path=\"url(#clip00)\" points=\"\n",
       "505.547,70.177 578.063,70.177 578.063,24.817 505.547,24.817 \n",
       "  \" fill=\"#ffffff\" fill-opacity=\"1\"/>\n",
       "<polyline clip-path=\"url(#clip00)\" style=\"stroke:#00002d; stroke-width:0.8; stroke-opacity:1; fill:none\" points=\"\n",
       "  505.547,70.177 578.063,70.177 578.063,24.817 505.547,24.817 505.547,70.177 \n",
       "  \"/>\n",
       "<polyline clip-path=\"url(#clip00)\" style=\"stroke:#0099ff; stroke-width:0.8; stroke-opacity:1; fill:none\" points=\"\n",
       "  511.547,39.937 547.547,39.937 \n",
       "  \"/>\n",
       "<g clip-path=\"url(#clip00)\">\n",
       "<text style=\"fill:#00002d; fill-opacity:1; font-family:Arial,Helvetica Neue,Helvetica,sans-serif; font-size:12; text-anchor:start;\" transform=\"rotate(0, 553.547, 44.437)\" x=\"553.547\" y=\"44.437\">y1</text>\n",
       "</g>\n",
       "<polyline clip-path=\"url(#clip00)\" style=\"stroke:#e9746a; stroke-width:0.8; stroke-opacity:1; fill:none\" points=\"\n",
       "  511.547,55.057 547.547,55.057 \n",
       "  \"/>\n",
       "<g clip-path=\"url(#clip00)\">\n",
       "<text style=\"fill:#00002d; fill-opacity:1; font-family:Arial,Helvetica Neue,Helvetica,sans-serif; font-size:12; text-anchor:start;\" transform=\"rotate(0, 553.547, 59.557)\" x=\"553.547\" y=\"59.557\">y2</text>\n",
       "</g>\n",
       "</svg>\n"
      ]
     },
     "execution_count": 5,
     "metadata": {},
     "output_type": "execute_result"
    }
   ],
   "source": [
    "gr()\n",
    "plot(randn(50, 2))"
   ]
  },
  {
   "cell_type": "code",
   "execution_count": 2,
   "metadata": {
    "collapsed": false,
    "deletable": true,
    "editable": true
   },
   "outputs": [
    {
     "ename": "LoadError",
     "evalue": "UndefVarError: plotly not defined",
     "output_type": "error",
     "traceback": [
      "UndefVarError: plotly not defined",
      ""
     ]
    }
   ],
   "source": [
    "plotly()\n",
    "plot(randn(50, 2))"
   ]
  },
  {
   "cell_type": "code",
   "execution_count": 7,
   "metadata": {
    "collapsed": false,
    "deletable": true,
    "editable": true
   },
   "outputs": [
    {
     "name": "stderr",
     "output_type": "stream",
     "text": [
      "\u001b[1m\u001b[34mINFO: Saved animation to /Users/caleb/Desktop/Public-Talks/santen-2017-mar/julia-tutorial/tmp.gif\n",
      "\u001b[0m"
     ]
    },
    {
     "data": {
      "text/html": [
       "<img src=\"tmp.gif?0.2609790068901534>\" />"
      ],
      "text/plain": [
       "Plots.AnimatedGif(\"/Users/caleb/Desktop/Public-Talks/santen-2017-mar/julia-tutorial/tmp.gif\")"
      ]
     },
     "execution_count": 7,
     "metadata": {},
     "output_type": "execute_result"
    }
   ],
   "source": [
    "gr()\n",
    "@gif for i in 1:20\n",
    "    plot(x -> sin(x) / (.2i), 0, i, xlim = (0, 20), ylim = (-.75, .75))\n",
    "    scatter!(x -> cos(x) * .01 * i, 0, i, m=1)\n",
    "end"
   ]
  },
  {
   "cell_type": "code",
   "execution_count": 48,
   "metadata": {
    "collapsed": false,
    "deletable": true,
    "editable": true
   },
   "outputs": [
    {
     "data": {
      "text/html": [
       "<?xml version=\"1.0\" encoding=\"utf-8\"?>\n",
       "<svg xmlns=\"http://www.w3.org/2000/svg\" xmlns:xlink=\"http://www.w3.org/1999/xlink\" width=\"600\" height=\"400\" viewBox=\"0 0 600 400\">\n",
       "<defs>\n",
       "  <clipPath id=\"clip00\">\n",
       "    <rect x=\"0\" y=\"0\" width=\"600\" height=\"400\"/>\n",
       "  </clipPath>\n",
       "</defs>\n",
       "<polygon clip-path=\"url(#clip00)\" points=\"\n",
       "0,400 600,400 600,0 0,0 \n",
       "  \" fill=\"#ffffff\" fill-opacity=\"1\"/>\n",
       "<defs>\n",
       "  <clipPath id=\"clip01\">\n",
       "    <rect x=\"120\" y=\"0\" width=\"421\" height=\"400\"/>\n",
       "  </clipPath>\n",
       "</defs>\n",
       "<polygon clip-path=\"url(#clip00)\" points=\"\n",
       "21.7148,384.952 596.063,384.952 596.063,3.93701 21.7148,3.93701 \n",
       "  \" fill=\"#ffffff\" fill-opacity=\"1\"/>\n",
       "<defs>\n",
       "  <clipPath id=\"clip02\">\n",
       "    <rect x=\"21\" y=\"3\" width=\"575\" height=\"382\"/>\n",
       "  </clipPath>\n",
       "</defs>\n",
       "<polyline clip-path=\"url(#clip02)\" style=\"stroke:#00002d; stroke-width:0.8; stroke-opacity:0.5; fill:none\" stroke-dasharray=\"1, 2\" points=\"\n",
       "  135.903,379.237 135.903,9.65223 \n",
       "  \"/>\n",
       "<polyline clip-path=\"url(#clip02)\" style=\"stroke:#00002d; stroke-width:0.8; stroke-opacity:0.5; fill:none\" stroke-dasharray=\"1, 2\" points=\"\n",
       "  308.647,379.237 308.647,9.65223 \n",
       "  \"/>\n",
       "<polyline clip-path=\"url(#clip02)\" style=\"stroke:#00002d; stroke-width:0.8; stroke-opacity:0.5; fill:none\" stroke-dasharray=\"1, 2\" points=\"\n",
       "  481.392,379.237 481.392,9.65223 \n",
       "  \"/>\n",
       "<polyline clip-path=\"url(#clip02)\" style=\"stroke:#00002d; stroke-width:0.8; stroke-opacity:0.5; fill:none\" stroke-dasharray=\"1, 2\" points=\"\n",
       "  30.33,374.169 587.448,374.169 \n",
       "  \"/>\n",
       "<polyline clip-path=\"url(#clip02)\" style=\"stroke:#00002d; stroke-width:0.8; stroke-opacity:0.5; fill:none\" stroke-dasharray=\"1, 2\" points=\"\n",
       "  30.33,194.431 587.448,194.431 \n",
       "  \"/>\n",
       "<polyline clip-path=\"url(#clip02)\" style=\"stroke:#00002d; stroke-width:0.8; stroke-opacity:0.5; fill:none\" stroke-dasharray=\"1, 2\" points=\"\n",
       "  30.33,14.6944 587.448,14.6944 \n",
       "  \"/>\n",
       "<polyline clip-path=\"url(#clip02)\" style=\"stroke:#00002d; stroke-width:0.8; stroke-opacity:1; fill:none\" points=\"\n",
       "  21.7148,384.952 596.063,384.952 \n",
       "  \"/>\n",
       "<polyline clip-path=\"url(#clip02)\" style=\"stroke:#00002d; stroke-width:0.8; stroke-opacity:1; fill:none\" points=\"\n",
       "  135.903,384.952 135.903,379.237 \n",
       "  \"/>\n",
       "<polyline clip-path=\"url(#clip02)\" style=\"stroke:#00002d; stroke-width:0.8; stroke-opacity:1; fill:none\" points=\"\n",
       "  308.647,384.952 308.647,379.237 \n",
       "  \"/>\n",
       "<polyline clip-path=\"url(#clip02)\" style=\"stroke:#00002d; stroke-width:0.8; stroke-opacity:1; fill:none\" points=\"\n",
       "  481.392,384.952 481.392,379.237 \n",
       "  \"/>\n",
       "<polyline clip-path=\"url(#clip02)\" style=\"stroke:#00002d; stroke-width:0.8; stroke-opacity:1; fill:none\" points=\"\n",
       "  21.7148,384.952 21.7148,3.93701 \n",
       "  \"/>\n",
       "<polyline clip-path=\"url(#clip02)\" style=\"stroke:#00002d; stroke-width:0.8; stroke-opacity:1; fill:none\" points=\"\n",
       "  21.7148,374.169 30.33,374.169 \n",
       "  \"/>\n",
       "<polyline clip-path=\"url(#clip02)\" style=\"stroke:#00002d; stroke-width:0.8; stroke-opacity:1; fill:none\" points=\"\n",
       "  21.7148,194.431 30.33,194.431 \n",
       "  \"/>\n",
       "<polyline clip-path=\"url(#clip02)\" style=\"stroke:#00002d; stroke-width:0.8; stroke-opacity:1; fill:none\" points=\"\n",
       "  21.7148,14.6944 30.33,14.6944 \n",
       "  \"/>\n",
       "<g clip-path=\"url(#clip00)\">\n",
       "<text style=\"fill:#00002d; fill-opacity:1; font-family:Arial,Helvetica Neue,Helvetica,sans-serif; font-size:12; text-anchor:middle;\" transform=\"rotate(0, 135.903, 396.952)\" x=\"135.903\" y=\"396.952\">-2</text>\n",
       "</g>\n",
       "<g clip-path=\"url(#clip00)\">\n",
       "<text style=\"fill:#00002d; fill-opacity:1; font-family:Arial,Helvetica Neue,Helvetica,sans-serif; font-size:12; text-anchor:middle;\" transform=\"rotate(0, 308.647, 396.952)\" x=\"308.647\" y=\"396.952\">0</text>\n",
       "</g>\n",
       "<g clip-path=\"url(#clip00)\">\n",
       "<text style=\"fill:#00002d; fill-opacity:1; font-family:Arial,Helvetica Neue,Helvetica,sans-serif; font-size:12; text-anchor:middle;\" transform=\"rotate(0, 481.392, 396.952)\" x=\"481.392\" y=\"396.952\">2</text>\n",
       "</g>\n",
       "<g clip-path=\"url(#clip00)\">\n",
       "<text style=\"fill:#00002d; fill-opacity:1; font-family:Arial,Helvetica Neue,Helvetica,sans-serif; font-size:12; text-anchor:end;\" transform=\"rotate(0, 20.5148, 378.669)\" x=\"20.5148\" y=\"378.669\">-1</text>\n",
       "</g>\n",
       "<g clip-path=\"url(#clip00)\">\n",
       "<text style=\"fill:#00002d; fill-opacity:1; font-family:Arial,Helvetica Neue,Helvetica,sans-serif; font-size:12; text-anchor:end;\" transform=\"rotate(0, 20.5148, 198.931)\" x=\"20.5148\" y=\"198.931\">0</text>\n",
       "</g>\n",
       "<g clip-path=\"url(#clip00)\">\n",
       "<text style=\"fill:#00002d; fill-opacity:1; font-family:Arial,Helvetica Neue,Helvetica,sans-serif; font-size:12; text-anchor:end;\" transform=\"rotate(0, 20.5148, 19.1944)\" x=\"20.5148\" y=\"19.1944\">1</text>\n",
       "</g>\n",
       "<circle clip-path=\"url(#clip02)\" style=\"fill:#00002d; stroke:none; fill-opacity:1\" cx=\"52.0613\" cy=\"224.997\" r=\"3\"/>\n",
       "<circle clip-path=\"url(#clip02)\" style=\"fill:#0099ff; stroke:none; fill-opacity:1\" cx=\"52.0613\" cy=\"224.997\" r=\"2\"/>\n",
       "<circle clip-path=\"url(#clip02)\" style=\"fill:#00002d; stroke:none; fill-opacity:1\" cx=\"54.5917\" cy=\"230.173\" r=\"3\"/>\n",
       "<circle clip-path=\"url(#clip02)\" style=\"fill:#0099ff; stroke:none; fill-opacity:1\" cx=\"54.5917\" cy=\"230.173\" r=\"2\"/>\n",
       "<circle clip-path=\"url(#clip02)\" style=\"fill:#00002d; stroke:none; fill-opacity:1\" cx=\"66.2907\" cy=\"253.631\" r=\"3\"/>\n",
       "<circle clip-path=\"url(#clip02)\" style=\"fill:#0099ff; stroke:none; fill-opacity:1\" cx=\"66.2907\" cy=\"253.631\" r=\"2\"/>\n",
       "<circle clip-path=\"url(#clip02)\" style=\"fill:#00002d; stroke:none; fill-opacity:1\" cx=\"77.9897\" cy=\"276.006\" r=\"3\"/>\n",
       "<circle clip-path=\"url(#clip02)\" style=\"fill:#0099ff; stroke:none; fill-opacity:1\" cx=\"77.9897\" cy=\"276.006\" r=\"2\"/>\n",
       "<circle clip-path=\"url(#clip02)\" style=\"fill:#00002d; stroke:none; fill-opacity:1\" cx=\"89.6887\" cy=\"296.886\" r=\"3\"/>\n",
       "<circle clip-path=\"url(#clip02)\" style=\"fill:#0099ff; stroke:none; fill-opacity:1\" cx=\"89.6887\" cy=\"296.886\" r=\"2\"/>\n",
       "<circle clip-path=\"url(#clip02)\" style=\"fill:#00002d; stroke:none; fill-opacity:1\" cx=\"101.388\" cy=\"315.889\" r=\"3\"/>\n",
       "<circle clip-path=\"url(#clip02)\" style=\"fill:#0099ff; stroke:none; fill-opacity:1\" cx=\"101.388\" cy=\"315.889\" r=\"2\"/>\n",
       "<circle clip-path=\"url(#clip02)\" style=\"fill:#00002d; stroke:none; fill-opacity:1\" cx=\"108.418\" cy=\"326.259\" r=\"3\"/>\n",
       "<circle clip-path=\"url(#clip02)\" style=\"fill:#0099ff; stroke:none; fill-opacity:1\" cx=\"108.418\" cy=\"326.259\" r=\"2\"/>\n",
       "<circle clip-path=\"url(#clip02)\" style=\"fill:#00002d; stroke:none; fill-opacity:1\" cx=\"115.449\" cy=\"335.757\" r=\"3\"/>\n",
       "<circle clip-path=\"url(#clip02)\" style=\"fill:#0099ff; stroke:none; fill-opacity:1\" cx=\"115.449\" cy=\"335.757\" r=\"2\"/>\n",
       "<circle clip-path=\"url(#clip02)\" style=\"fill:#00002d; stroke:none; fill-opacity:1\" cx=\"122.48\" cy=\"344.318\" r=\"3\"/>\n",
       "<circle clip-path=\"url(#clip02)\" style=\"fill:#0099ff; stroke:none; fill-opacity:1\" cx=\"122.48\" cy=\"344.318\" r=\"2\"/>\n",
       "<circle clip-path=\"url(#clip02)\" style=\"fill:#00002d; stroke:none; fill-opacity:1\" cx=\"129.51\" cy=\"351.887\" r=\"3\"/>\n",
       "<circle clip-path=\"url(#clip02)\" style=\"fill:#0099ff; stroke:none; fill-opacity:1\" cx=\"129.51\" cy=\"351.887\" r=\"2\"/>\n",
       "<circle clip-path=\"url(#clip02)\" style=\"fill:#00002d; stroke:none; fill-opacity:1\" cx=\"135.454\" cy=\"357.475\" r=\"3\"/>\n",
       "<circle clip-path=\"url(#clip02)\" style=\"fill:#0099ff; stroke:none; fill-opacity:1\" cx=\"135.454\" cy=\"357.475\" r=\"2\"/>\n",
       "<circle clip-path=\"url(#clip02)\" style=\"fill:#00002d; stroke:none; fill-opacity:1\" cx=\"141.399\" cy=\"362.291\" r=\"3\"/>\n",
       "<circle clip-path=\"url(#clip02)\" style=\"fill:#0099ff; stroke:none; fill-opacity:1\" cx=\"141.399\" cy=\"362.291\" r=\"2\"/>\n",
       "<circle clip-path=\"url(#clip02)\" style=\"fill:#00002d; stroke:none; fill-opacity:1\" cx=\"147.343\" cy=\"366.312\" r=\"3\"/>\n",
       "<circle clip-path=\"url(#clip02)\" style=\"fill:#0099ff; stroke:none; fill-opacity:1\" cx=\"147.343\" cy=\"366.312\" r=\"2\"/>\n",
       "<circle clip-path=\"url(#clip02)\" style=\"fill:#00002d; stroke:none; fill-opacity:1\" cx=\"153.287\" cy=\"369.52\" r=\"3\"/>\n",
       "<circle clip-path=\"url(#clip02)\" style=\"fill:#0099ff; stroke:none; fill-opacity:1\" cx=\"153.287\" cy=\"369.52\" r=\"2\"/>\n",
       "<circle clip-path=\"url(#clip02)\" style=\"fill:#00002d; stroke:none; fill-opacity:1\" cx=\"159.745\" cy=\"372.064\" r=\"3\"/>\n",
       "<circle clip-path=\"url(#clip02)\" style=\"fill:#0099ff; stroke:none; fill-opacity:1\" cx=\"159.745\" cy=\"372.064\" r=\"2\"/>\n",
       "<circle clip-path=\"url(#clip02)\" style=\"fill:#00002d; stroke:none; fill-opacity:1\" cx=\"166.202\" cy=\"373.616\" r=\"3\"/>\n",
       "<circle clip-path=\"url(#clip02)\" style=\"fill:#0099ff; stroke:none; fill-opacity:1\" cx=\"166.202\" cy=\"373.616\" r=\"2\"/>\n",
       "<circle clip-path=\"url(#clip02)\" style=\"fill:#00002d; stroke:none; fill-opacity:1\" cx=\"172.659\" cy=\"374.167\" r=\"3\"/>\n",
       "<circle clip-path=\"url(#clip02)\" style=\"fill:#0099ff; stroke:none; fill-opacity:1\" cx=\"172.659\" cy=\"374.167\" r=\"2\"/>\n",
       "<circle clip-path=\"url(#clip02)\" style=\"fill:#00002d; stroke:none; fill-opacity:1\" cx=\"179.116\" cy=\"373.714\" r=\"3\"/>\n",
       "<circle clip-path=\"url(#clip02)\" style=\"fill:#0099ff; stroke:none; fill-opacity:1\" cx=\"179.116\" cy=\"373.714\" r=\"2\"/>\n",
       "<circle clip-path=\"url(#clip02)\" style=\"fill:#00002d; stroke:none; fill-opacity:1\" cx=\"185.069\" cy=\"372.409\" r=\"3\"/>\n",
       "<circle clip-path=\"url(#clip02)\" style=\"fill:#0099ff; stroke:none; fill-opacity:1\" cx=\"185.069\" cy=\"372.409\" r=\"2\"/>\n",
       "<circle clip-path=\"url(#clip02)\" style=\"fill:#00002d; stroke:none; fill-opacity:1\" cx=\"191.022\" cy=\"370.259\" r=\"3\"/>\n",
       "<circle clip-path=\"url(#clip02)\" style=\"fill:#0099ff; stroke:none; fill-opacity:1\" cx=\"191.022\" cy=\"370.259\" r=\"2\"/>\n",
       "<circle clip-path=\"url(#clip02)\" style=\"fill:#00002d; stroke:none; fill-opacity:1\" cx=\"196.975\" cy=\"367.274\" r=\"3\"/>\n",
       "<circle clip-path=\"url(#clip02)\" style=\"fill:#0099ff; stroke:none; fill-opacity:1\" cx=\"196.975\" cy=\"367.274\" r=\"2\"/>\n",
       "<circle clip-path=\"url(#clip02)\" style=\"fill:#00002d; stroke:none; fill-opacity:1\" cx=\"202.928\" cy=\"363.468\" r=\"3\"/>\n",
       "<circle clip-path=\"url(#clip02)\" style=\"fill:#0099ff; stroke:none; fill-opacity:1\" cx=\"202.928\" cy=\"363.468\" r=\"2\"/>\n",
       "<circle clip-path=\"url(#clip02)\" style=\"fill:#00002d; stroke:none; fill-opacity:1\" cx=\"209.31\" cy=\"358.497\" r=\"3\"/>\n",
       "<circle clip-path=\"url(#clip02)\" style=\"fill:#0099ff; stroke:none; fill-opacity:1\" cx=\"209.31\" cy=\"358.497\" r=\"2\"/>\n",
       "<circle clip-path=\"url(#clip02)\" style=\"fill:#00002d; stroke:none; fill-opacity:1\" cx=\"215.692\" cy=\"352.63\" r=\"3\"/>\n",
       "<circle clip-path=\"url(#clip02)\" style=\"fill:#0099ff; stroke:none; fill-opacity:1\" cx=\"215.692\" cy=\"352.63\" r=\"2\"/>\n",
       "<circle clip-path=\"url(#clip02)\" style=\"fill:#00002d; stroke:none; fill-opacity:1\" cx=\"222.074\" cy=\"345.9\" r=\"3\"/>\n",
       "<circle clip-path=\"url(#clip02)\" style=\"fill:#0099ff; stroke:none; fill-opacity:1\" cx=\"222.074\" cy=\"345.9\" r=\"2\"/>\n",
       "<circle clip-path=\"url(#clip02)\" style=\"fill:#00002d; stroke:none; fill-opacity:1\" cx=\"228.456\" cy=\"338.344\" r=\"3\"/>\n",
       "<circle clip-path=\"url(#clip02)\" style=\"fill:#0099ff; stroke:none; fill-opacity:1\" cx=\"228.456\" cy=\"338.344\" r=\"2\"/>\n",
       "<circle clip-path=\"url(#clip02)\" style=\"fill:#00002d; stroke:none; fill-opacity:1\" cx=\"235.851\" cy=\"328.61\" r=\"3\"/>\n",
       "<circle clip-path=\"url(#clip02)\" style=\"fill:#0099ff; stroke:none; fill-opacity:1\" cx=\"235.851\" cy=\"328.61\" r=\"2\"/>\n",
       "<circle clip-path=\"url(#clip02)\" style=\"fill:#00002d; stroke:none; fill-opacity:1\" cx=\"243.245\" cy=\"317.893\" r=\"3\"/>\n",
       "<circle clip-path=\"url(#clip02)\" style=\"fill:#0099ff; stroke:none; fill-opacity:1\" cx=\"243.245\" cy=\"317.893\" r=\"2\"/>\n",
       "<circle clip-path=\"url(#clip02)\" style=\"fill:#00002d; stroke:none; fill-opacity:1\" cx=\"250.64\" cy=\"306.271\" r=\"3\"/>\n",
       "<circle clip-path=\"url(#clip02)\" style=\"fill:#0099ff; stroke:none; fill-opacity:1\" cx=\"250.64\" cy=\"306.271\" r=\"2\"/>\n",
       "<circle clip-path=\"url(#clip02)\" style=\"fill:#00002d; stroke:none; fill-opacity:1\" cx=\"258.034\" cy=\"293.831\" r=\"3\"/>\n",
       "<circle clip-path=\"url(#clip02)\" style=\"fill:#0099ff; stroke:none; fill-opacity:1\" cx=\"258.034\" cy=\"293.831\" r=\"2\"/>\n",
       "<circle clip-path=\"url(#clip02)\" style=\"fill:#00002d; stroke:none; fill-opacity:1\" cx=\"271.177\" cy=\"269.984\" r=\"3\"/>\n",
       "<circle clip-path=\"url(#clip02)\" style=\"fill:#0099ff; stroke:none; fill-opacity:1\" cx=\"271.177\" cy=\"269.984\" r=\"2\"/>\n",
       "<circle clip-path=\"url(#clip02)\" style=\"fill:#00002d; stroke:none; fill-opacity:1\" cx=\"284.319\" cy=\"244.391\" r=\"3\"/>\n",
       "<circle clip-path=\"url(#clip02)\" style=\"fill:#0099ff; stroke:none; fill-opacity:1\" cx=\"284.319\" cy=\"244.391\" r=\"2\"/>\n",
       "<circle clip-path=\"url(#clip02)\" style=\"fill:#00002d; stroke:none; fill-opacity:1\" cx=\"295.844\" cy=\"220.978\" r=\"3\"/>\n",
       "<circle clip-path=\"url(#clip02)\" style=\"fill:#0099ff; stroke:none; fill-opacity:1\" cx=\"295.844\" cy=\"220.978\" r=\"2\"/>\n",
       "<circle clip-path=\"url(#clip02)\" style=\"fill:#00002d; stroke:none; fill-opacity:1\" cx=\"307.369\" cy=\"197.093\" r=\"3\"/>\n",
       "<circle clip-path=\"url(#clip02)\" style=\"fill:#0099ff; stroke:none; fill-opacity:1\" cx=\"307.369\" cy=\"197.093\" r=\"2\"/>\n",
       "<circle clip-path=\"url(#clip02)\" style=\"fill:#00002d; stroke:none; fill-opacity:1\" cx=\"319.934\" cy=\"171.012\" r=\"3\"/>\n",
       "<circle clip-path=\"url(#clip02)\" style=\"fill:#0099ff; stroke:none; fill-opacity:1\" cx=\"319.934\" cy=\"171.012\" r=\"2\"/>\n",
       "<circle clip-path=\"url(#clip02)\" style=\"fill:#00002d; stroke:none; fill-opacity:1\" cx=\"332.499\" cy=\"145.426\" r=\"3\"/>\n",
       "<circle clip-path=\"url(#clip02)\" style=\"fill:#0099ff; stroke:none; fill-opacity:1\" cx=\"332.499\" cy=\"145.426\" r=\"2\"/>\n",
       "<circle clip-path=\"url(#clip02)\" style=\"fill:#00002d; stroke:none; fill-opacity:1\" cx=\"345.139\" cy=\"120.734\" r=\"3\"/>\n",
       "<circle clip-path=\"url(#clip02)\" style=\"fill:#0099ff; stroke:none; fill-opacity:1\" cx=\"345.139\" cy=\"120.734\" r=\"2\"/>\n",
       "<circle clip-path=\"url(#clip02)\" style=\"fill:#00002d; stroke:none; fill-opacity:1\" cx=\"357.778\" cy=\"97.6169\" r=\"3\"/>\n",
       "<circle clip-path=\"url(#clip02)\" style=\"fill:#0099ff; stroke:none; fill-opacity:1\" cx=\"357.778\" cy=\"97.6169\" r=\"2\"/>\n",
       "<circle clip-path=\"url(#clip02)\" style=\"fill:#00002d; stroke:none; fill-opacity:1\" cx=\"364.766\" cy=\"85.6959\" r=\"3\"/>\n",
       "<circle clip-path=\"url(#clip02)\" style=\"fill:#0099ff; stroke:none; fill-opacity:1\" cx=\"364.766\" cy=\"85.6959\" r=\"2\"/>\n",
       "<circle clip-path=\"url(#clip02)\" style=\"fill:#00002d; stroke:none; fill-opacity:1\" cx=\"371.753\" cy=\"74.4862\" r=\"3\"/>\n",
       "<circle clip-path=\"url(#clip02)\" style=\"fill:#0099ff; stroke:none; fill-opacity:1\" cx=\"371.753\" cy=\"74.4862\" r=\"2\"/>\n",
       "<circle clip-path=\"url(#clip02)\" style=\"fill:#00002d; stroke:none; fill-opacity:1\" cx=\"378.741\" cy=\"64.0611\" r=\"3\"/>\n",
       "<circle clip-path=\"url(#clip02)\" style=\"fill:#0099ff; stroke:none; fill-opacity:1\" cx=\"378.741\" cy=\"64.0611\" r=\"2\"/>\n",
       "<circle clip-path=\"url(#clip02)\" style=\"fill:#00002d; stroke:none; fill-opacity:1\" cx=\"385.728\" cy=\"54.4888\" r=\"3\"/>\n",
       "<circle clip-path=\"url(#clip02)\" style=\"fill:#0099ff; stroke:none; fill-opacity:1\" cx=\"385.728\" cy=\"54.4888\" r=\"2\"/>\n",
       "<circle clip-path=\"url(#clip02)\" style=\"fill:#00002d; stroke:none; fill-opacity:1\" cx=\"392.377\" cy=\"46.2299\" r=\"3\"/>\n",
       "<circle clip-path=\"url(#clip02)\" style=\"fill:#0099ff; stroke:none; fill-opacity:1\" cx=\"392.377\" cy=\"46.2299\" r=\"2\"/>\n",
       "<circle clip-path=\"url(#clip02)\" style=\"fill:#00002d; stroke:none; fill-opacity:1\" cx=\"399.025\" cy=\"38.8487\" r=\"3\"/>\n",
       "<circle clip-path=\"url(#clip02)\" style=\"fill:#0099ff; stroke:none; fill-opacity:1\" cx=\"399.025\" cy=\"38.8487\" r=\"2\"/>\n",
       "<circle clip-path=\"url(#clip02)\" style=\"fill:#00002d; stroke:none; fill-opacity:1\" cx=\"405.673\" cy=\"32.3888\" r=\"3\"/>\n",
       "<circle clip-path=\"url(#clip02)\" style=\"fill:#0099ff; stroke:none; fill-opacity:1\" cx=\"405.673\" cy=\"32.3888\" r=\"2\"/>\n",
       "<circle clip-path=\"url(#clip02)\" style=\"fill:#00002d; stroke:none; fill-opacity:1\" cx=\"412.322\" cy=\"26.8886\" r=\"3\"/>\n",
       "<circle clip-path=\"url(#clip02)\" style=\"fill:#0099ff; stroke:none; fill-opacity:1\" cx=\"412.322\" cy=\"26.8886\" r=\"2\"/>\n",
       "<circle clip-path=\"url(#clip02)\" style=\"fill:#00002d; stroke:none; fill-opacity:1\" cx=\"419.235\" cy=\"22.2222\" r=\"3\"/>\n",
       "<circle clip-path=\"url(#clip02)\" style=\"fill:#0099ff; stroke:none; fill-opacity:1\" cx=\"419.235\" cy=\"22.2222\" r=\"2\"/>\n",
       "<circle clip-path=\"url(#clip02)\" style=\"fill:#00002d; stroke:none; fill-opacity:1\" cx=\"426.147\" cy=\"18.6583\" r=\"3\"/>\n",
       "<circle clip-path=\"url(#clip02)\" style=\"fill:#0099ff; stroke:none; fill-opacity:1\" cx=\"426.147\" cy=\"18.6583\" r=\"2\"/>\n",
       "<circle clip-path=\"url(#clip02)\" style=\"fill:#00002d; stroke:none; fill-opacity:1\" cx=\"433.06\" cy=\"16.2197\" r=\"3\"/>\n",
       "<circle clip-path=\"url(#clip02)\" style=\"fill:#0099ff; stroke:none; fill-opacity:1\" cx=\"433.06\" cy=\"16.2197\" r=\"2\"/>\n",
       "<circle clip-path=\"url(#clip02)\" style=\"fill:#00002d; stroke:none; fill-opacity:1\" cx=\"439.973\" cy=\"14.922\" r=\"3\"/>\n",
       "<circle clip-path=\"url(#clip02)\" style=\"fill:#0099ff; stroke:none; fill-opacity:1\" cx=\"439.973\" cy=\"14.922\" r=\"2\"/>\n",
       "<circle clip-path=\"url(#clip02)\" style=\"fill:#00002d; stroke:none; fill-opacity:1\" cx=\"445.792\" cy=\"14.7204\" r=\"3\"/>\n",
       "<circle clip-path=\"url(#clip02)\" style=\"fill:#0099ff; stroke:none; fill-opacity:1\" cx=\"445.792\" cy=\"14.7204\" r=\"2\"/>\n",
       "<circle clip-path=\"url(#clip02)\" style=\"fill:#00002d; stroke:none; fill-opacity:1\" cx=\"451.611\" cy=\"15.3343\" r=\"3\"/>\n",
       "<circle clip-path=\"url(#clip02)\" style=\"fill:#0099ff; stroke:none; fill-opacity:1\" cx=\"451.611\" cy=\"15.3343\" r=\"2\"/>\n",
       "<circle clip-path=\"url(#clip02)\" style=\"fill:#00002d; stroke:none; fill-opacity:1\" cx=\"457.43\" cy=\"16.7607\" r=\"3\"/>\n",
       "<circle clip-path=\"url(#clip02)\" style=\"fill:#0099ff; stroke:none; fill-opacity:1\" cx=\"457.43\" cy=\"16.7607\" r=\"2\"/>\n",
       "<circle clip-path=\"url(#clip02)\" style=\"fill:#00002d; stroke:none; fill-opacity:1\" cx=\"463.249\" cy=\"18.9933\" r=\"3\"/>\n",
       "<circle clip-path=\"url(#clip02)\" style=\"fill:#0099ff; stroke:none; fill-opacity:1\" cx=\"463.249\" cy=\"18.9933\" r=\"2\"/>\n",
       "<circle clip-path=\"url(#clip02)\" style=\"fill:#00002d; stroke:none; fill-opacity:1\" cx=\"470.354\" cy=\"22.7969\" r=\"3\"/>\n",
       "<circle clip-path=\"url(#clip02)\" style=\"fill:#0099ff; stroke:none; fill-opacity:1\" cx=\"470.354\" cy=\"22.7969\" r=\"2\"/>\n",
       "<circle clip-path=\"url(#clip02)\" style=\"fill:#00002d; stroke:none; fill-opacity:1\" cx=\"477.458\" cy=\"27.7611\" r=\"3\"/>\n",
       "<circle clip-path=\"url(#clip02)\" style=\"fill:#0099ff; stroke:none; fill-opacity:1\" cx=\"477.458\" cy=\"27.7611\" r=\"2\"/>\n",
       "<circle clip-path=\"url(#clip02)\" style=\"fill:#00002d; stroke:none; fill-opacity:1\" cx=\"484.563\" cy=\"33.8523\" r=\"3\"/>\n",
       "<circle clip-path=\"url(#clip02)\" style=\"fill:#0099ff; stroke:none; fill-opacity:1\" cx=\"484.563\" cy=\"33.8523\" r=\"2\"/>\n",
       "<circle clip-path=\"url(#clip02)\" style=\"fill:#00002d; stroke:none; fill-opacity:1\" cx=\"491.667\" cy=\"41.0293\" r=\"3\"/>\n",
       "<circle clip-path=\"url(#clip02)\" style=\"fill:#0099ff; stroke:none; fill-opacity:1\" cx=\"491.667\" cy=\"41.0293\" r=\"2\"/>\n",
       "<circle clip-path=\"url(#clip02)\" style=\"fill:#00002d; stroke:none; fill-opacity:1\" cx=\"498.345\" cy=\"48.7227\" r=\"3\"/>\n",
       "<circle clip-path=\"url(#clip02)\" style=\"fill:#0099ff; stroke:none; fill-opacity:1\" cx=\"498.345\" cy=\"48.7227\" r=\"2\"/>\n",
       "<circle clip-path=\"url(#clip02)\" style=\"fill:#00002d; stroke:none; fill-opacity:1\" cx=\"505.024\" cy=\"57.2868\" r=\"3\"/>\n",
       "<circle clip-path=\"url(#clip02)\" style=\"fill:#0099ff; stroke:none; fill-opacity:1\" cx=\"505.024\" cy=\"57.2868\" r=\"2\"/>\n",
       "<circle clip-path=\"url(#clip02)\" style=\"fill:#00002d; stroke:none; fill-opacity:1\" cx=\"511.702\" cy=\"66.6704\" r=\"3\"/>\n",
       "<circle clip-path=\"url(#clip02)\" style=\"fill:#0099ff; stroke:none; fill-opacity:1\" cx=\"511.702\" cy=\"66.6704\" r=\"2\"/>\n",
       "<circle clip-path=\"url(#clip02)\" style=\"fill:#00002d; stroke:none; fill-opacity:1\" cx=\"518.381\" cy=\"76.8175\" r=\"3\"/>\n",
       "<circle clip-path=\"url(#clip02)\" style=\"fill:#0099ff; stroke:none; fill-opacity:1\" cx=\"518.381\" cy=\"76.8175\" r=\"2\"/>\n",
       "<circle clip-path=\"url(#clip02)\" style=\"fill:#00002d; stroke:none; fill-opacity:1\" cx=\"529.08\" cy=\"94.5119\" r=\"3\"/>\n",
       "<circle clip-path=\"url(#clip02)\" style=\"fill:#0099ff; stroke:none; fill-opacity:1\" cx=\"529.08\" cy=\"94.5119\" r=\"2\"/>\n",
       "<circle clip-path=\"url(#clip02)\" style=\"fill:#00002d; stroke:none; fill-opacity:1\" cx=\"539.779\" cy=\"113.737\" r=\"3\"/>\n",
       "<circle clip-path=\"url(#clip02)\" style=\"fill:#0099ff; stroke:none; fill-opacity:1\" cx=\"539.779\" cy=\"113.737\" r=\"2\"/>\n",
       "<circle clip-path=\"url(#clip02)\" style=\"fill:#00002d; stroke:none; fill-opacity:1\" cx=\"550.478\" cy=\"134.2\" r=\"3\"/>\n",
       "<circle clip-path=\"url(#clip02)\" style=\"fill:#0099ff; stroke:none; fill-opacity:1\" cx=\"550.478\" cy=\"134.2\" r=\"2\"/>\n",
       "<circle clip-path=\"url(#clip02)\" style=\"fill:#00002d; stroke:none; fill-opacity:1\" cx=\"561.178\" cy=\"155.585\" r=\"3\"/>\n",
       "<circle clip-path=\"url(#clip02)\" style=\"fill:#0099ff; stroke:none; fill-opacity:1\" cx=\"561.178\" cy=\"155.585\" r=\"2\"/>\n",
       "<circle clip-path=\"url(#clip02)\" style=\"fill:#00002d; stroke:none; fill-opacity:1\" cx=\"562.824\" cy=\"158.937\" r=\"3\"/>\n",
       "<circle clip-path=\"url(#clip02)\" style=\"fill:#0099ff; stroke:none; fill-opacity:1\" cx=\"562.824\" cy=\"158.937\" r=\"2\"/>\n",
       "<circle clip-path=\"url(#clip02)\" style=\"fill:#00002d; stroke:none; fill-opacity:1\" cx=\"564.471\" cy=\"162.303\" r=\"3\"/>\n",
       "<circle clip-path=\"url(#clip02)\" style=\"fill:#0099ff; stroke:none; fill-opacity:1\" cx=\"564.471\" cy=\"162.303\" r=\"2\"/>\n",
       "<circle clip-path=\"url(#clip02)\" style=\"fill:#00002d; stroke:none; fill-opacity:1\" cx=\"566.117\" cy=\"165.68\" r=\"3\"/>\n",
       "<circle clip-path=\"url(#clip02)\" style=\"fill:#0099ff; stroke:none; fill-opacity:1\" cx=\"566.117\" cy=\"165.68\" r=\"2\"/>\n",
       "<polyline clip-path=\"url(#clip02)\" style=\"stroke:#e9746a; stroke-width:0.8; stroke-opacity:1; fill:none\" points=\"\n",
       "  37.9699,195.823 39.3003,198.591 40.6306,201.358 41.961,204.124 54.262,229.5 66.5629,254.166 78.8639,277.622 91.1649,299.394 98.5573,311.483 105.95,322.714 \n",
       "  113.342,333.006 120.734,342.284 126.985,349.286 133.235,355.478 139.485,360.826 145.735,365.304 152.525,369.154 159.314,371.925 166.103,373.6 172.893,374.168 \n",
       "  179.152,373.709 185.411,372.308 191.671,369.974 197.93,366.718 204.64,362.224 211.351,356.717 218.062,350.231 224.772,342.805 232.547,333.085 240.322,322.242 \n",
       "  248.097,310.365 255.872,297.548 269.69,272.779 283.509,246.008 295.627,221.424 307.745,196.31 320.956,168.904 334.168,142.093 347.458,116.358 360.748,92.4678 \n",
       "  368.095,80.2611 375.442,68.8799 382.789,58.4067 390.136,48.917 397.127,40.8638 404.117,33.816 411.108,27.8196 418.098,22.9141 425.367,19.0046 432.635,16.3367 \n",
       "  439.904,14.9293 447.172,14.7923 453.291,15.6628 459.409,17.43 465.528,20.0851 471.646,23.6147 479.116,29.0834 486.586,35.7882 494.056,43.6788 501.526,52.6964 \n",
       "  508.548,62.1406 515.571,72.4587 522.593,83.5826 529.615,95.4387 540.864,115.762 552.114,137.418 563.364,160.039 574.614,183.244 576.345,186.841 578.077,190.442 \n",
       "  579.808,194.045 \n",
       "  \"/>\n",
       "<polygon clip-path=\"url(#clip00)\" points=\"\n",
       "505.547,70.177 578.063,70.177 578.063,24.817 505.547,24.817 \n",
       "  \" fill=\"#ffffff\" fill-opacity=\"1\"/>\n",
       "<polyline clip-path=\"url(#clip00)\" style=\"stroke:#00002d; stroke-width:0.8; stroke-opacity:1; fill:none\" points=\"\n",
       "  505.547,70.177 578.063,70.177 578.063,24.817 505.547,24.817 505.547,70.177 \n",
       "  \"/>\n",
       "<circle clip-path=\"url(#clip00)\" style=\"fill:#00002d; stroke:none; fill-opacity:1\" cx=\"517.547\" cy=\"39.937\" r=\"7\"/>\n",
       "<circle clip-path=\"url(#clip00)\" style=\"fill:#0099ff; stroke:none; fill-opacity:1\" cx=\"517.547\" cy=\"39.937\" r=\"7\"/>\n",
       "<circle clip-path=\"url(#clip00)\" style=\"fill:#00002d; stroke:none; fill-opacity:1\" cx=\"541.547\" cy=\"39.937\" r=\"7\"/>\n",
       "<circle clip-path=\"url(#clip00)\" style=\"fill:#0099ff; stroke:none; fill-opacity:1\" cx=\"541.547\" cy=\"39.937\" r=\"7\"/>\n",
       "<g clip-path=\"url(#clip00)\">\n",
       "<text style=\"fill:#00002d; fill-opacity:1; font-family:Arial,Helvetica Neue,Helvetica,sans-serif; font-size:12; text-anchor:start;\" transform=\"rotate(0, 553.547, 44.437)\" x=\"553.547\" y=\"44.437\">y1</text>\n",
       "</g>\n",
       "<polyline clip-path=\"url(#clip00)\" style=\"stroke:#e9746a; stroke-width:0.8; stroke-opacity:1; fill:none\" points=\"\n",
       "  511.547,55.057 547.547,55.057 \n",
       "  \"/>\n",
       "<g clip-path=\"url(#clip00)\">\n",
       "<text style=\"fill:#00002d; fill-opacity:1; font-family:Arial,Helvetica Neue,Helvetica,sans-serif; font-size:12; text-anchor:start;\" transform=\"rotate(0, 553.547, 59.557)\" x=\"553.547\" y=\"59.557\">y2</text>\n",
       "</g>\n",
       "</svg>\n"
      ]
     },
     "execution_count": 48,
     "metadata": {},
     "output_type": "execute_result"
    }
   ],
   "source": [
    "# Nondeterministic algorithm for plotting functions\n",
    "# Tries to do higher sampling where the function changes the most\n",
    "scatter(sin, -3, 3)\n",
    "plot!(sin)"
   ]
  },
  {
   "cell_type": "code",
   "execution_count": 49,
   "metadata": {
    "collapsed": false,
    "deletable": true,
    "editable": true
   },
   "outputs": [
    {
     "name": "stderr",
     "output_type": "stream",
     "text": [
      "\u001b[1m\u001b[34mINFO: Saved animation to /Users/huazhou/Documents/github.com/Public-Talks/santen-2017-mar/julia-tutorial/tmp.gif\n",
      "\u001b[0m"
     ]
    },
    {
     "data": {
      "text/html": [
       "<img src=\"tmp.gif?0.305910837796735>\" />"
      ],
      "text/plain": [
       "Plots.AnimatedGif(\"/Users/huazhou/Documents/github.com/Public-Talks/santen-2017-mar/julia-tutorial/tmp.gif\")"
      ]
     },
     "execution_count": 49,
     "metadata": {},
     "output_type": "execute_result"
    }
   ],
   "source": [
    "x = randn()\n",
    "p = plot([x])\n",
    "@gif for i in 1:100\n",
    "    x += randn()\n",
    "    push!(p, x)\n",
    "end"
   ]
  },
  {
   "cell_type": "markdown",
   "metadata": {
    "deletable": true,
    "editable": true
   },
   "source": [
    "How do you define new plotting methods?\n",
    "\n",
    "- RecipesBase.jl"
   ]
  },
  {
   "cell_type": "code",
   "execution_count": 50,
   "metadata": {
    "collapsed": true,
    "deletable": true,
    "editable": true
   },
   "outputs": [],
   "source": [
    "using RecipesBase"
   ]
  },
  {
   "cell_type": "code",
   "execution_count": 51,
   "metadata": {
    "collapsed": false,
    "deletable": true,
    "editable": true
   },
   "outputs": [],
   "source": [
    "type RegressionModel\n",
    "    β::Vector{Float64}\n",
    "    x::Matrix{Float64}\n",
    "    y::Vector{Float64}\n",
    "end"
   ]
  },
  {
   "cell_type": "code",
   "execution_count": 52,
   "metadata": {
    "collapsed": false,
    "deletable": true,
    "editable": true
   },
   "outputs": [
    {
     "data": {
      "text/plain": [
       "RegressionModel"
      ]
     },
     "execution_count": 52,
     "metadata": {},
     "output_type": "execute_result"
    }
   ],
   "source": [
    "function RegressionModel(x, y)\n",
    "    RegressionModel(regression(x, y), x, y)\n",
    "end"
   ]
  },
  {
   "cell_type": "code",
   "execution_count": 53,
   "metadata": {
    "collapsed": false,
    "deletable": true,
    "editable": true
   },
   "outputs": [],
   "source": [
    "@recipe function f(o::RegressionModel)\n",
    "    r = o.y - o.x * o.β\n",
    "    \n",
    "    ylab --> \"residual\"\n",
    "    seriestype --> :scatter\n",
    "    \n",
    "    r\n",
    "end"
   ]
  },
  {
   "cell_type": "code",
   "execution_count": 54,
   "metadata": {
    "collapsed": false,
    "deletable": true,
    "editable": true
   },
   "outputs": [
    {
     "data": {
      "text/html": [
       "<?xml version=\"1.0\" encoding=\"utf-8\"?>\n",
       "<svg xmlns=\"http://www.w3.org/2000/svg\" xmlns:xlink=\"http://www.w3.org/1999/xlink\" width=\"600\" height=\"400\" viewBox=\"0 0 600 400\">\n",
       "<defs>\n",
       "  <clipPath id=\"clip00\">\n",
       "    <rect x=\"0\" y=\"0\" width=\"600\" height=\"400\"/>\n",
       "  </clipPath>\n",
       "</defs>\n",
       "<polygon clip-path=\"url(#clip00)\" points=\"\n",
       "0,400 600,400 600,0 0,0 \n",
       "  \" fill=\"#ffffff\" fill-opacity=\"1\"/>\n",
       "<defs>\n",
       "  <clipPath id=\"clip01\">\n",
       "    <rect x=\"120\" y=\"0\" width=\"421\" height=\"400\"/>\n",
       "  </clipPath>\n",
       "</defs>\n",
       "<polygon clip-path=\"url(#clip00)\" points=\"\n",
       "36.9926,384.952 596.063,384.952 596.063,3.93701 36.9926,3.93701 \n",
       "  \" fill=\"#ffffff\" fill-opacity=\"1\"/>\n",
       "<defs>\n",
       "  <clipPath id=\"clip02\">\n",
       "    <rect x=\"36\" y=\"3\" width=\"560\" height=\"382\"/>\n",
       "  </clipPath>\n",
       "</defs>\n",
       "<polyline clip-path=\"url(#clip02)\" style=\"stroke:#00002d; stroke-width:0.8; stroke-opacity:0.5; fill:none\" stroke-dasharray=\"1, 2\" points=\"\n",
       "  47.4878,379.237 47.4878,9.65223 \n",
       "  \"/>\n",
       "<polyline clip-path=\"url(#clip02)\" style=\"stroke:#00002d; stroke-width:0.8; stroke-opacity:0.5; fill:none\" stroke-dasharray=\"1, 2\" points=\"\n",
       "  313.864,379.237 313.864,9.65223 \n",
       "  \"/>\n",
       "<polyline clip-path=\"url(#clip02)\" style=\"stroke:#00002d; stroke-width:0.8; stroke-opacity:0.5; fill:none\" stroke-dasharray=\"1, 2\" points=\"\n",
       "  580.24,379.237 580.24,9.65223 \n",
       "  \"/>\n",
       "<polyline clip-path=\"url(#clip02)\" style=\"stroke:#00002d; stroke-width:0.8; stroke-opacity:0.5; fill:none\" stroke-dasharray=\"1, 2\" points=\"\n",
       "  45.3786,360.327 587.677,360.327 \n",
       "  \"/>\n",
       "<polyline clip-path=\"url(#clip02)\" style=\"stroke:#00002d; stroke-width:0.8; stroke-opacity:0.5; fill:none\" stroke-dasharray=\"1, 2\" points=\"\n",
       "  45.3786,283.903 587.677,283.903 \n",
       "  \"/>\n",
       "<polyline clip-path=\"url(#clip02)\" style=\"stroke:#00002d; stroke-width:0.8; stroke-opacity:0.5; fill:none\" stroke-dasharray=\"1, 2\" points=\"\n",
       "  45.3786,207.48 587.677,207.48 \n",
       "  \"/>\n",
       "<polyline clip-path=\"url(#clip02)\" style=\"stroke:#00002d; stroke-width:0.8; stroke-opacity:0.5; fill:none\" stroke-dasharray=\"1, 2\" points=\"\n",
       "  45.3786,131.056 587.677,131.056 \n",
       "  \"/>\n",
       "<polyline clip-path=\"url(#clip02)\" style=\"stroke:#00002d; stroke-width:0.8; stroke-opacity:0.5; fill:none\" stroke-dasharray=\"1, 2\" points=\"\n",
       "  45.3786,54.6318 587.677,54.6318 \n",
       "  \"/>\n",
       "<polyline clip-path=\"url(#clip02)\" style=\"stroke:#00002d; stroke-width:0.8; stroke-opacity:1; fill:none\" points=\"\n",
       "  36.9926,384.952 596.063,384.952 \n",
       "  \"/>\n",
       "<polyline clip-path=\"url(#clip02)\" style=\"stroke:#00002d; stroke-width:0.8; stroke-opacity:1; fill:none\" points=\"\n",
       "  47.4878,384.952 47.4878,379.237 \n",
       "  \"/>\n",
       "<polyline clip-path=\"url(#clip02)\" style=\"stroke:#00002d; stroke-width:0.8; stroke-opacity:1; fill:none\" points=\"\n",
       "  313.864,384.952 313.864,379.237 \n",
       "  \"/>\n",
       "<polyline clip-path=\"url(#clip02)\" style=\"stroke:#00002d; stroke-width:0.8; stroke-opacity:1; fill:none\" points=\"\n",
       "  580.24,384.952 580.24,379.237 \n",
       "  \"/>\n",
       "<polyline clip-path=\"url(#clip02)\" style=\"stroke:#00002d; stroke-width:0.8; stroke-opacity:1; fill:none\" points=\"\n",
       "  36.9926,384.952 36.9926,3.93701 \n",
       "  \"/>\n",
       "<polyline clip-path=\"url(#clip02)\" style=\"stroke:#00002d; stroke-width:0.8; stroke-opacity:1; fill:none\" points=\"\n",
       "  36.9926,360.327 45.3786,360.327 \n",
       "  \"/>\n",
       "<polyline clip-path=\"url(#clip02)\" style=\"stroke:#00002d; stroke-width:0.8; stroke-opacity:1; fill:none\" points=\"\n",
       "  36.9926,283.903 45.3786,283.903 \n",
       "  \"/>\n",
       "<polyline clip-path=\"url(#clip02)\" style=\"stroke:#00002d; stroke-width:0.8; stroke-opacity:1; fill:none\" points=\"\n",
       "  36.9926,207.48 45.3786,207.48 \n",
       "  \"/>\n",
       "<polyline clip-path=\"url(#clip02)\" style=\"stroke:#00002d; stroke-width:0.8; stroke-opacity:1; fill:none\" points=\"\n",
       "  36.9926,131.056 45.3786,131.056 \n",
       "  \"/>\n",
       "<polyline clip-path=\"url(#clip02)\" style=\"stroke:#00002d; stroke-width:0.8; stroke-opacity:1; fill:none\" points=\"\n",
       "  36.9926,54.6318 45.3786,54.6318 \n",
       "  \"/>\n",
       "<g clip-path=\"url(#clip00)\">\n",
       "<text style=\"fill:#00002d; fill-opacity:1; font-family:Arial,Helvetica Neue,Helvetica,sans-serif; font-size:12; text-anchor:middle;\" transform=\"rotate(0, 47.4878, 396.952)\" x=\"47.4878\" y=\"396.952\">0</text>\n",
       "</g>\n",
       "<g clip-path=\"url(#clip00)\">\n",
       "<text style=\"fill:#00002d; fill-opacity:1; font-family:Arial,Helvetica Neue,Helvetica,sans-serif; font-size:12; text-anchor:middle;\" transform=\"rotate(0, 313.864, 396.952)\" x=\"313.864\" y=\"396.952\">50</text>\n",
       "</g>\n",
       "<g clip-path=\"url(#clip00)\">\n",
       "<text style=\"fill:#00002d; fill-opacity:1; font-family:Arial,Helvetica Neue,Helvetica,sans-serif; font-size:12; text-anchor:middle;\" transform=\"rotate(0, 580.24, 396.952)\" x=\"580.24\" y=\"396.952\">100</text>\n",
       "</g>\n",
       "<g clip-path=\"url(#clip00)\">\n",
       "<text style=\"fill:#00002d; fill-opacity:1; font-family:Arial,Helvetica Neue,Helvetica,sans-serif; font-size:12; text-anchor:end;\" transform=\"rotate(0, 35.7926, 364.827)\" x=\"35.7926\" y=\"364.827\">-3</text>\n",
       "</g>\n",
       "<g clip-path=\"url(#clip00)\">\n",
       "<text style=\"fill:#00002d; fill-opacity:1; font-family:Arial,Helvetica Neue,Helvetica,sans-serif; font-size:12; text-anchor:end;\" transform=\"rotate(0, 35.7926, 288.403)\" x=\"35.7926\" y=\"288.403\">-2</text>\n",
       "</g>\n",
       "<g clip-path=\"url(#clip00)\">\n",
       "<text style=\"fill:#00002d; fill-opacity:1; font-family:Arial,Helvetica Neue,Helvetica,sans-serif; font-size:12; text-anchor:end;\" transform=\"rotate(0, 35.7926, 211.98)\" x=\"35.7926\" y=\"211.98\">-1</text>\n",
       "</g>\n",
       "<g clip-path=\"url(#clip00)\">\n",
       "<text style=\"fill:#00002d; fill-opacity:1; font-family:Arial,Helvetica Neue,Helvetica,sans-serif; font-size:12; text-anchor:end;\" transform=\"rotate(0, 35.7926, 135.556)\" x=\"35.7926\" y=\"135.556\">0</text>\n",
       "</g>\n",
       "<g clip-path=\"url(#clip00)\">\n",
       "<text style=\"fill:#00002d; fill-opacity:1; font-family:Arial,Helvetica Neue,Helvetica,sans-serif; font-size:12; text-anchor:end;\" transform=\"rotate(0, 35.7926, 59.1318)\" x=\"35.7926\" y=\"59.1318\">1</text>\n",
       "</g>\n",
       "<g clip-path=\"url(#clip00)\">\n",
       "<text style=\"fill:#00002d; fill-opacity:1; font-family:Arial,Helvetica Neue,Helvetica,sans-serif; font-size:16; text-anchor:middle;\" transform=\"rotate(-90, 14.4, 194.444)\" x=\"14.4\" y=\"194.444\">residual</text>\n",
       "</g>\n",
       "<circle clip-path=\"url(#clip02)\" style=\"fill:#00002d; stroke:none; fill-opacity:1\" cx=\"52.8153\" cy=\"31.3622\" r=\"3\"/>\n",
       "<circle clip-path=\"url(#clip02)\" style=\"fill:#0099ff; stroke:none; fill-opacity:1\" cx=\"52.8153\" cy=\"31.3622\" r=\"2\"/>\n",
       "<circle clip-path=\"url(#clip02)\" style=\"fill:#00002d; stroke:none; fill-opacity:1\" cx=\"58.1428\" cy=\"135.493\" r=\"3\"/>\n",
       "<circle clip-path=\"url(#clip02)\" style=\"fill:#0099ff; stroke:none; fill-opacity:1\" cx=\"58.1428\" cy=\"135.493\" r=\"2\"/>\n",
       "<circle clip-path=\"url(#clip02)\" style=\"fill:#00002d; stroke:none; fill-opacity:1\" cx=\"63.4704\" cy=\"339.035\" r=\"3\"/>\n",
       "<circle clip-path=\"url(#clip02)\" style=\"fill:#0099ff; stroke:none; fill-opacity:1\" cx=\"63.4704\" cy=\"339.035\" r=\"2\"/>\n",
       "<circle clip-path=\"url(#clip02)\" style=\"fill:#00002d; stroke:none; fill-opacity:1\" cx=\"68.7979\" cy=\"145.113\" r=\"3\"/>\n",
       "<circle clip-path=\"url(#clip02)\" style=\"fill:#0099ff; stroke:none; fill-opacity:1\" cx=\"68.7979\" cy=\"145.113\" r=\"2\"/>\n",
       "<circle clip-path=\"url(#clip02)\" style=\"fill:#00002d; stroke:none; fill-opacity:1\" cx=\"74.1254\" cy=\"175.443\" r=\"3\"/>\n",
       "<circle clip-path=\"url(#clip02)\" style=\"fill:#0099ff; stroke:none; fill-opacity:1\" cx=\"74.1254\" cy=\"175.443\" r=\"2\"/>\n",
       "<circle clip-path=\"url(#clip02)\" style=\"fill:#00002d; stroke:none; fill-opacity:1\" cx=\"79.4529\" cy=\"114.235\" r=\"3\"/>\n",
       "<circle clip-path=\"url(#clip02)\" style=\"fill:#0099ff; stroke:none; fill-opacity:1\" cx=\"79.4529\" cy=\"114.235\" r=\"2\"/>\n",
       "<circle clip-path=\"url(#clip02)\" style=\"fill:#00002d; stroke:none; fill-opacity:1\" cx=\"84.7805\" cy=\"374.168\" r=\"3\"/>\n",
       "<circle clip-path=\"url(#clip02)\" style=\"fill:#0099ff; stroke:none; fill-opacity:1\" cx=\"84.7805\" cy=\"374.168\" r=\"2\"/>\n",
       "<circle clip-path=\"url(#clip02)\" style=\"fill:#00002d; stroke:none; fill-opacity:1\" cx=\"90.108\" cy=\"167.871\" r=\"3\"/>\n",
       "<circle clip-path=\"url(#clip02)\" style=\"fill:#0099ff; stroke:none; fill-opacity:1\" cx=\"90.108\" cy=\"167.871\" r=\"2\"/>\n",
       "<circle clip-path=\"url(#clip02)\" style=\"fill:#00002d; stroke:none; fill-opacity:1\" cx=\"95.4355\" cy=\"160.896\" r=\"3\"/>\n",
       "<circle clip-path=\"url(#clip02)\" style=\"fill:#0099ff; stroke:none; fill-opacity:1\" cx=\"95.4355\" cy=\"160.896\" r=\"2\"/>\n",
       "<circle clip-path=\"url(#clip02)\" style=\"fill:#00002d; stroke:none; fill-opacity:1\" cx=\"100.763\" cy=\"143.283\" r=\"3\"/>\n",
       "<circle clip-path=\"url(#clip02)\" style=\"fill:#0099ff; stroke:none; fill-opacity:1\" cx=\"100.763\" cy=\"143.283\" r=\"2\"/>\n",
       "<circle clip-path=\"url(#clip02)\" style=\"fill:#00002d; stroke:none; fill-opacity:1\" cx=\"106.091\" cy=\"102.602\" r=\"3\"/>\n",
       "<circle clip-path=\"url(#clip02)\" style=\"fill:#0099ff; stroke:none; fill-opacity:1\" cx=\"106.091\" cy=\"102.602\" r=\"2\"/>\n",
       "<circle clip-path=\"url(#clip02)\" style=\"fill:#00002d; stroke:none; fill-opacity:1\" cx=\"111.418\" cy=\"137.972\" r=\"3\"/>\n",
       "<circle clip-path=\"url(#clip02)\" style=\"fill:#0099ff; stroke:none; fill-opacity:1\" cx=\"111.418\" cy=\"137.972\" r=\"2\"/>\n",
       "<circle clip-path=\"url(#clip02)\" style=\"fill:#00002d; stroke:none; fill-opacity:1\" cx=\"116.746\" cy=\"212.35\" r=\"3\"/>\n",
       "<circle clip-path=\"url(#clip02)\" style=\"fill:#0099ff; stroke:none; fill-opacity:1\" cx=\"116.746\" cy=\"212.35\" r=\"2\"/>\n",
       "<circle clip-path=\"url(#clip02)\" style=\"fill:#00002d; stroke:none; fill-opacity:1\" cx=\"122.073\" cy=\"89.2765\" r=\"3\"/>\n",
       "<circle clip-path=\"url(#clip02)\" style=\"fill:#0099ff; stroke:none; fill-opacity:1\" cx=\"122.073\" cy=\"89.2765\" r=\"2\"/>\n",
       "<circle clip-path=\"url(#clip02)\" style=\"fill:#00002d; stroke:none; fill-opacity:1\" cx=\"127.401\" cy=\"99.7987\" r=\"3\"/>\n",
       "<circle clip-path=\"url(#clip02)\" style=\"fill:#0099ff; stroke:none; fill-opacity:1\" cx=\"127.401\" cy=\"99.7987\" r=\"2\"/>\n",
       "<circle clip-path=\"url(#clip02)\" style=\"fill:#00002d; stroke:none; fill-opacity:1\" cx=\"132.728\" cy=\"180.755\" r=\"3\"/>\n",
       "<circle clip-path=\"url(#clip02)\" style=\"fill:#0099ff; stroke:none; fill-opacity:1\" cx=\"132.728\" cy=\"180.755\" r=\"2\"/>\n",
       "<circle clip-path=\"url(#clip02)\" style=\"fill:#00002d; stroke:none; fill-opacity:1\" cx=\"138.056\" cy=\"188.842\" r=\"3\"/>\n",
       "<circle clip-path=\"url(#clip02)\" style=\"fill:#0099ff; stroke:none; fill-opacity:1\" cx=\"138.056\" cy=\"188.842\" r=\"2\"/>\n",
       "<circle clip-path=\"url(#clip02)\" style=\"fill:#00002d; stroke:none; fill-opacity:1\" cx=\"143.383\" cy=\"148.163\" r=\"3\"/>\n",
       "<circle clip-path=\"url(#clip02)\" style=\"fill:#0099ff; stroke:none; fill-opacity:1\" cx=\"143.383\" cy=\"148.163\" r=\"2\"/>\n",
       "<circle clip-path=\"url(#clip02)\" style=\"fill:#00002d; stroke:none; fill-opacity:1\" cx=\"148.711\" cy=\"26.452\" r=\"3\"/>\n",
       "<circle clip-path=\"url(#clip02)\" style=\"fill:#0099ff; stroke:none; fill-opacity:1\" cx=\"148.711\" cy=\"26.452\" r=\"2\"/>\n",
       "<circle clip-path=\"url(#clip02)\" style=\"fill:#00002d; stroke:none; fill-opacity:1\" cx=\"154.038\" cy=\"214.058\" r=\"3\"/>\n",
       "<circle clip-path=\"url(#clip02)\" style=\"fill:#0099ff; stroke:none; fill-opacity:1\" cx=\"154.038\" cy=\"214.058\" r=\"2\"/>\n",
       "<circle clip-path=\"url(#clip02)\" style=\"fill:#00002d; stroke:none; fill-opacity:1\" cx=\"159.366\" cy=\"171.206\" r=\"3\"/>\n",
       "<circle clip-path=\"url(#clip02)\" style=\"fill:#0099ff; stroke:none; fill-opacity:1\" cx=\"159.366\" cy=\"171.206\" r=\"2\"/>\n",
       "<circle clip-path=\"url(#clip02)\" style=\"fill:#00002d; stroke:none; fill-opacity:1\" cx=\"164.693\" cy=\"121.532\" r=\"3\"/>\n",
       "<circle clip-path=\"url(#clip02)\" style=\"fill:#0099ff; stroke:none; fill-opacity:1\" cx=\"164.693\" cy=\"121.532\" r=\"2\"/>\n",
       "<circle clip-path=\"url(#clip02)\" style=\"fill:#00002d; stroke:none; fill-opacity:1\" cx=\"170.021\" cy=\"15.9519\" r=\"3\"/>\n",
       "<circle clip-path=\"url(#clip02)\" style=\"fill:#0099ff; stroke:none; fill-opacity:1\" cx=\"170.021\" cy=\"15.9519\" r=\"2\"/>\n",
       "<circle clip-path=\"url(#clip02)\" style=\"fill:#00002d; stroke:none; fill-opacity:1\" cx=\"175.348\" cy=\"147.094\" r=\"3\"/>\n",
       "<circle clip-path=\"url(#clip02)\" style=\"fill:#0099ff; stroke:none; fill-opacity:1\" cx=\"175.348\" cy=\"147.094\" r=\"2\"/>\n",
       "<circle clip-path=\"url(#clip02)\" style=\"fill:#00002d; stroke:none; fill-opacity:1\" cx=\"180.676\" cy=\"159.117\" r=\"3\"/>\n",
       "<circle clip-path=\"url(#clip02)\" style=\"fill:#0099ff; stroke:none; fill-opacity:1\" cx=\"180.676\" cy=\"159.117\" r=\"2\"/>\n",
       "<circle clip-path=\"url(#clip02)\" style=\"fill:#00002d; stroke:none; fill-opacity:1\" cx=\"186.003\" cy=\"200.447\" r=\"3\"/>\n",
       "<circle clip-path=\"url(#clip02)\" style=\"fill:#0099ff; stroke:none; fill-opacity:1\" cx=\"186.003\" cy=\"200.447\" r=\"2\"/>\n",
       "<circle clip-path=\"url(#clip02)\" style=\"fill:#00002d; stroke:none; fill-opacity:1\" cx=\"191.331\" cy=\"156.711\" r=\"3\"/>\n",
       "<circle clip-path=\"url(#clip02)\" style=\"fill:#0099ff; stroke:none; fill-opacity:1\" cx=\"191.331\" cy=\"156.711\" r=\"2\"/>\n",
       "<circle clip-path=\"url(#clip02)\" style=\"fill:#00002d; stroke:none; fill-opacity:1\" cx=\"196.658\" cy=\"204.132\" r=\"3\"/>\n",
       "<circle clip-path=\"url(#clip02)\" style=\"fill:#0099ff; stroke:none; fill-opacity:1\" cx=\"196.658\" cy=\"204.132\" r=\"2\"/>\n",
       "<circle clip-path=\"url(#clip02)\" style=\"fill:#00002d; stroke:none; fill-opacity:1\" cx=\"201.986\" cy=\"169.184\" r=\"3\"/>\n",
       "<circle clip-path=\"url(#clip02)\" style=\"fill:#0099ff; stroke:none; fill-opacity:1\" cx=\"201.986\" cy=\"169.184\" r=\"2\"/>\n",
       "<circle clip-path=\"url(#clip02)\" style=\"fill:#00002d; stroke:none; fill-opacity:1\" cx=\"207.314\" cy=\"191.509\" r=\"3\"/>\n",
       "<circle clip-path=\"url(#clip02)\" style=\"fill:#0099ff; stroke:none; fill-opacity:1\" cx=\"207.314\" cy=\"191.509\" r=\"2\"/>\n",
       "<circle clip-path=\"url(#clip02)\" style=\"fill:#00002d; stroke:none; fill-opacity:1\" cx=\"212.641\" cy=\"76.3425\" r=\"3\"/>\n",
       "<circle clip-path=\"url(#clip02)\" style=\"fill:#0099ff; stroke:none; fill-opacity:1\" cx=\"212.641\" cy=\"76.3425\" r=\"2\"/>\n",
       "<circle clip-path=\"url(#clip02)\" style=\"fill:#00002d; stroke:none; fill-opacity:1\" cx=\"217.969\" cy=\"54.3798\" r=\"3\"/>\n",
       "<circle clip-path=\"url(#clip02)\" style=\"fill:#0099ff; stroke:none; fill-opacity:1\" cx=\"217.969\" cy=\"54.3798\" r=\"2\"/>\n",
       "<circle clip-path=\"url(#clip02)\" style=\"fill:#00002d; stroke:none; fill-opacity:1\" cx=\"223.296\" cy=\"80.5689\" r=\"3\"/>\n",
       "<circle clip-path=\"url(#clip02)\" style=\"fill:#0099ff; stroke:none; fill-opacity:1\" cx=\"223.296\" cy=\"80.5689\" r=\"2\"/>\n",
       "<circle clip-path=\"url(#clip02)\" style=\"fill:#00002d; stroke:none; fill-opacity:1\" cx=\"228.624\" cy=\"80.3298\" r=\"3\"/>\n",
       "<circle clip-path=\"url(#clip02)\" style=\"fill:#0099ff; stroke:none; fill-opacity:1\" cx=\"228.624\" cy=\"80.3298\" r=\"2\"/>\n",
       "<circle clip-path=\"url(#clip02)\" style=\"fill:#00002d; stroke:none; fill-opacity:1\" cx=\"233.951\" cy=\"178.303\" r=\"3\"/>\n",
       "<circle clip-path=\"url(#clip02)\" style=\"fill:#0099ff; stroke:none; fill-opacity:1\" cx=\"233.951\" cy=\"178.303\" r=\"2\"/>\n",
       "<circle clip-path=\"url(#clip02)\" style=\"fill:#00002d; stroke:none; fill-opacity:1\" cx=\"239.279\" cy=\"146.096\" r=\"3\"/>\n",
       "<circle clip-path=\"url(#clip02)\" style=\"fill:#0099ff; stroke:none; fill-opacity:1\" cx=\"239.279\" cy=\"146.096\" r=\"2\"/>\n",
       "<circle clip-path=\"url(#clip02)\" style=\"fill:#00002d; stroke:none; fill-opacity:1\" cx=\"244.606\" cy=\"19.1008\" r=\"3\"/>\n",
       "<circle clip-path=\"url(#clip02)\" style=\"fill:#0099ff; stroke:none; fill-opacity:1\" cx=\"244.606\" cy=\"19.1008\" r=\"2\"/>\n",
       "<circle clip-path=\"url(#clip02)\" style=\"fill:#00002d; stroke:none; fill-opacity:1\" cx=\"249.934\" cy=\"57.0944\" r=\"3\"/>\n",
       "<circle clip-path=\"url(#clip02)\" style=\"fill:#0099ff; stroke:none; fill-opacity:1\" cx=\"249.934\" cy=\"57.0944\" r=\"2\"/>\n",
       "<circle clip-path=\"url(#clip02)\" style=\"fill:#00002d; stroke:none; fill-opacity:1\" cx=\"255.261\" cy=\"239.424\" r=\"3\"/>\n",
       "<circle clip-path=\"url(#clip02)\" style=\"fill:#0099ff; stroke:none; fill-opacity:1\" cx=\"255.261\" cy=\"239.424\" r=\"2\"/>\n",
       "<circle clip-path=\"url(#clip02)\" style=\"fill:#00002d; stroke:none; fill-opacity:1\" cx=\"260.589\" cy=\"157.343\" r=\"3\"/>\n",
       "<circle clip-path=\"url(#clip02)\" style=\"fill:#0099ff; stroke:none; fill-opacity:1\" cx=\"260.589\" cy=\"157.343\" r=\"2\"/>\n",
       "<circle clip-path=\"url(#clip02)\" style=\"fill:#00002d; stroke:none; fill-opacity:1\" cx=\"265.916\" cy=\"82.6935\" r=\"3\"/>\n",
       "<circle clip-path=\"url(#clip02)\" style=\"fill:#0099ff; stroke:none; fill-opacity:1\" cx=\"265.916\" cy=\"82.6935\" r=\"2\"/>\n",
       "<circle clip-path=\"url(#clip02)\" style=\"fill:#00002d; stroke:none; fill-opacity:1\" cx=\"271.244\" cy=\"191.996\" r=\"3\"/>\n",
       "<circle clip-path=\"url(#clip02)\" style=\"fill:#0099ff; stroke:none; fill-opacity:1\" cx=\"271.244\" cy=\"191.996\" r=\"2\"/>\n",
       "<circle clip-path=\"url(#clip02)\" style=\"fill:#00002d; stroke:none; fill-opacity:1\" cx=\"276.571\" cy=\"295.349\" r=\"3\"/>\n",
       "<circle clip-path=\"url(#clip02)\" style=\"fill:#0099ff; stroke:none; fill-opacity:1\" cx=\"276.571\" cy=\"295.349\" r=\"2\"/>\n",
       "<circle clip-path=\"url(#clip02)\" style=\"fill:#00002d; stroke:none; fill-opacity:1\" cx=\"281.899\" cy=\"44.626\" r=\"3\"/>\n",
       "<circle clip-path=\"url(#clip02)\" style=\"fill:#0099ff; stroke:none; fill-opacity:1\" cx=\"281.899\" cy=\"44.626\" r=\"2\"/>\n",
       "<circle clip-path=\"url(#clip02)\" style=\"fill:#00002d; stroke:none; fill-opacity:1\" cx=\"287.226\" cy=\"206.172\" r=\"3\"/>\n",
       "<circle clip-path=\"url(#clip02)\" style=\"fill:#0099ff; stroke:none; fill-opacity:1\" cx=\"287.226\" cy=\"206.172\" r=\"2\"/>\n",
       "<circle clip-path=\"url(#clip02)\" style=\"fill:#00002d; stroke:none; fill-opacity:1\" cx=\"292.554\" cy=\"132.06\" r=\"3\"/>\n",
       "<circle clip-path=\"url(#clip02)\" style=\"fill:#0099ff; stroke:none; fill-opacity:1\" cx=\"292.554\" cy=\"132.06\" r=\"2\"/>\n",
       "<circle clip-path=\"url(#clip02)\" style=\"fill:#00002d; stroke:none; fill-opacity:1\" cx=\"297.881\" cy=\"144.757\" r=\"3\"/>\n",
       "<circle clip-path=\"url(#clip02)\" style=\"fill:#0099ff; stroke:none; fill-opacity:1\" cx=\"297.881\" cy=\"144.757\" r=\"2\"/>\n",
       "<circle clip-path=\"url(#clip02)\" style=\"fill:#00002d; stroke:none; fill-opacity:1\" cx=\"303.209\" cy=\"62.6514\" r=\"3\"/>\n",
       "<circle clip-path=\"url(#clip02)\" style=\"fill:#0099ff; stroke:none; fill-opacity:1\" cx=\"303.209\" cy=\"62.6514\" r=\"2\"/>\n",
       "<circle clip-path=\"url(#clip02)\" style=\"fill:#00002d; stroke:none; fill-opacity:1\" cx=\"308.536\" cy=\"188.558\" r=\"3\"/>\n",
       "<circle clip-path=\"url(#clip02)\" style=\"fill:#0099ff; stroke:none; fill-opacity:1\" cx=\"308.536\" cy=\"188.558\" r=\"2\"/>\n",
       "<circle clip-path=\"url(#clip02)\" style=\"fill:#00002d; stroke:none; fill-opacity:1\" cx=\"313.864\" cy=\"87.0066\" r=\"3\"/>\n",
       "<circle clip-path=\"url(#clip02)\" style=\"fill:#0099ff; stroke:none; fill-opacity:1\" cx=\"313.864\" cy=\"87.0066\" r=\"2\"/>\n",
       "<circle clip-path=\"url(#clip02)\" style=\"fill:#00002d; stroke:none; fill-opacity:1\" cx=\"319.192\" cy=\"142.924\" r=\"3\"/>\n",
       "<circle clip-path=\"url(#clip02)\" style=\"fill:#0099ff; stroke:none; fill-opacity:1\" cx=\"319.192\" cy=\"142.924\" r=\"2\"/>\n",
       "<circle clip-path=\"url(#clip02)\" style=\"fill:#00002d; stroke:none; fill-opacity:1\" cx=\"324.519\" cy=\"206.503\" r=\"3\"/>\n",
       "<circle clip-path=\"url(#clip02)\" style=\"fill:#0099ff; stroke:none; fill-opacity:1\" cx=\"324.519\" cy=\"206.503\" r=\"2\"/>\n",
       "<circle clip-path=\"url(#clip02)\" style=\"fill:#00002d; stroke:none; fill-opacity:1\" cx=\"329.847\" cy=\"84.3665\" r=\"3\"/>\n",
       "<circle clip-path=\"url(#clip02)\" style=\"fill:#0099ff; stroke:none; fill-opacity:1\" cx=\"329.847\" cy=\"84.3665\" r=\"2\"/>\n",
       "<circle clip-path=\"url(#clip02)\" style=\"fill:#00002d; stroke:none; fill-opacity:1\" cx=\"335.174\" cy=\"70.4851\" r=\"3\"/>\n",
       "<circle clip-path=\"url(#clip02)\" style=\"fill:#0099ff; stroke:none; fill-opacity:1\" cx=\"335.174\" cy=\"70.4851\" r=\"2\"/>\n",
       "<circle clip-path=\"url(#clip02)\" style=\"fill:#00002d; stroke:none; fill-opacity:1\" cx=\"340.502\" cy=\"100.145\" r=\"3\"/>\n",
       "<circle clip-path=\"url(#clip02)\" style=\"fill:#0099ff; stroke:none; fill-opacity:1\" cx=\"340.502\" cy=\"100.145\" r=\"2\"/>\n",
       "<circle clip-path=\"url(#clip02)\" style=\"fill:#00002d; stroke:none; fill-opacity:1\" cx=\"345.829\" cy=\"53.8434\" r=\"3\"/>\n",
       "<circle clip-path=\"url(#clip02)\" style=\"fill:#0099ff; stroke:none; fill-opacity:1\" cx=\"345.829\" cy=\"53.8434\" r=\"2\"/>\n",
       "<circle clip-path=\"url(#clip02)\" style=\"fill:#00002d; stroke:none; fill-opacity:1\" cx=\"351.157\" cy=\"107.932\" r=\"3\"/>\n",
       "<circle clip-path=\"url(#clip02)\" style=\"fill:#0099ff; stroke:none; fill-opacity:1\" cx=\"351.157\" cy=\"107.932\" r=\"2\"/>\n",
       "<circle clip-path=\"url(#clip02)\" style=\"fill:#00002d; stroke:none; fill-opacity:1\" cx=\"356.484\" cy=\"217.877\" r=\"3\"/>\n",
       "<circle clip-path=\"url(#clip02)\" style=\"fill:#0099ff; stroke:none; fill-opacity:1\" cx=\"356.484\" cy=\"217.877\" r=\"2\"/>\n",
       "<circle clip-path=\"url(#clip02)\" style=\"fill:#00002d; stroke:none; fill-opacity:1\" cx=\"361.812\" cy=\"131.47\" r=\"3\"/>\n",
       "<circle clip-path=\"url(#clip02)\" style=\"fill:#0099ff; stroke:none; fill-opacity:1\" cx=\"361.812\" cy=\"131.47\" r=\"2\"/>\n",
       "<circle clip-path=\"url(#clip02)\" style=\"fill:#00002d; stroke:none; fill-opacity:1\" cx=\"367.139\" cy=\"309.41\" r=\"3\"/>\n",
       "<circle clip-path=\"url(#clip02)\" style=\"fill:#0099ff; stroke:none; fill-opacity:1\" cx=\"367.139\" cy=\"309.41\" r=\"2\"/>\n",
       "<circle clip-path=\"url(#clip02)\" style=\"fill:#00002d; stroke:none; fill-opacity:1\" cx=\"372.467\" cy=\"192.218\" r=\"3\"/>\n",
       "<circle clip-path=\"url(#clip02)\" style=\"fill:#0099ff; stroke:none; fill-opacity:1\" cx=\"372.467\" cy=\"192.218\" r=\"2\"/>\n",
       "<circle clip-path=\"url(#clip02)\" style=\"fill:#00002d; stroke:none; fill-opacity:1\" cx=\"377.794\" cy=\"132.487\" r=\"3\"/>\n",
       "<circle clip-path=\"url(#clip02)\" style=\"fill:#0099ff; stroke:none; fill-opacity:1\" cx=\"377.794\" cy=\"132.487\" r=\"2\"/>\n",
       "<circle clip-path=\"url(#clip02)\" style=\"fill:#00002d; stroke:none; fill-opacity:1\" cx=\"383.122\" cy=\"139.584\" r=\"3\"/>\n",
       "<circle clip-path=\"url(#clip02)\" style=\"fill:#0099ff; stroke:none; fill-opacity:1\" cx=\"383.122\" cy=\"139.584\" r=\"2\"/>\n",
       "<circle clip-path=\"url(#clip02)\" style=\"fill:#00002d; stroke:none; fill-opacity:1\" cx=\"388.449\" cy=\"161.913\" r=\"3\"/>\n",
       "<circle clip-path=\"url(#clip02)\" style=\"fill:#0099ff; stroke:none; fill-opacity:1\" cx=\"388.449\" cy=\"161.913\" r=\"2\"/>\n",
       "<circle clip-path=\"url(#clip02)\" style=\"fill:#00002d; stroke:none; fill-opacity:1\" cx=\"393.777\" cy=\"34.1351\" r=\"3\"/>\n",
       "<circle clip-path=\"url(#clip02)\" style=\"fill:#0099ff; stroke:none; fill-opacity:1\" cx=\"393.777\" cy=\"34.1351\" r=\"2\"/>\n",
       "<circle clip-path=\"url(#clip02)\" style=\"fill:#00002d; stroke:none; fill-opacity:1\" cx=\"399.104\" cy=\"105.201\" r=\"3\"/>\n",
       "<circle clip-path=\"url(#clip02)\" style=\"fill:#0099ff; stroke:none; fill-opacity:1\" cx=\"399.104\" cy=\"105.201\" r=\"2\"/>\n",
       "<circle clip-path=\"url(#clip02)\" style=\"fill:#00002d; stroke:none; fill-opacity:1\" cx=\"404.432\" cy=\"236.511\" r=\"3\"/>\n",
       "<circle clip-path=\"url(#clip02)\" style=\"fill:#0099ff; stroke:none; fill-opacity:1\" cx=\"404.432\" cy=\"236.511\" r=\"2\"/>\n",
       "<circle clip-path=\"url(#clip02)\" style=\"fill:#00002d; stroke:none; fill-opacity:1\" cx=\"409.759\" cy=\"129.217\" r=\"3\"/>\n",
       "<circle clip-path=\"url(#clip02)\" style=\"fill:#0099ff; stroke:none; fill-opacity:1\" cx=\"409.759\" cy=\"129.217\" r=\"2\"/>\n",
       "<circle clip-path=\"url(#clip02)\" style=\"fill:#00002d; stroke:none; fill-opacity:1\" cx=\"415.087\" cy=\"89.9965\" r=\"3\"/>\n",
       "<circle clip-path=\"url(#clip02)\" style=\"fill:#0099ff; stroke:none; fill-opacity:1\" cx=\"415.087\" cy=\"89.9965\" r=\"2\"/>\n",
       "<circle clip-path=\"url(#clip02)\" style=\"fill:#00002d; stroke:none; fill-opacity:1\" cx=\"420.415\" cy=\"150.8\" r=\"3\"/>\n",
       "<circle clip-path=\"url(#clip02)\" style=\"fill:#0099ff; stroke:none; fill-opacity:1\" cx=\"420.415\" cy=\"150.8\" r=\"2\"/>\n",
       "<circle clip-path=\"url(#clip02)\" style=\"fill:#00002d; stroke:none; fill-opacity:1\" cx=\"425.742\" cy=\"97.3201\" r=\"3\"/>\n",
       "<circle clip-path=\"url(#clip02)\" style=\"fill:#0099ff; stroke:none; fill-opacity:1\" cx=\"425.742\" cy=\"97.3201\" r=\"2\"/>\n",
       "<circle clip-path=\"url(#clip02)\" style=\"fill:#00002d; stroke:none; fill-opacity:1\" cx=\"431.07\" cy=\"47.1896\" r=\"3\"/>\n",
       "<circle clip-path=\"url(#clip02)\" style=\"fill:#0099ff; stroke:none; fill-opacity:1\" cx=\"431.07\" cy=\"47.1896\" r=\"2\"/>\n",
       "<circle clip-path=\"url(#clip02)\" style=\"fill:#00002d; stroke:none; fill-opacity:1\" cx=\"436.397\" cy=\"197.422\" r=\"3\"/>\n",
       "<circle clip-path=\"url(#clip02)\" style=\"fill:#0099ff; stroke:none; fill-opacity:1\" cx=\"436.397\" cy=\"197.422\" r=\"2\"/>\n",
       "<circle clip-path=\"url(#clip02)\" style=\"fill:#00002d; stroke:none; fill-opacity:1\" cx=\"441.725\" cy=\"56.4614\" r=\"3\"/>\n",
       "<circle clip-path=\"url(#clip02)\" style=\"fill:#0099ff; stroke:none; fill-opacity:1\" cx=\"441.725\" cy=\"56.4614\" r=\"2\"/>\n",
       "<circle clip-path=\"url(#clip02)\" style=\"fill:#00002d; stroke:none; fill-opacity:1\" cx=\"447.052\" cy=\"131.487\" r=\"3\"/>\n",
       "<circle clip-path=\"url(#clip02)\" style=\"fill:#0099ff; stroke:none; fill-opacity:1\" cx=\"447.052\" cy=\"131.487\" r=\"2\"/>\n",
       "<circle clip-path=\"url(#clip02)\" style=\"fill:#00002d; stroke:none; fill-opacity:1\" cx=\"452.38\" cy=\"230.88\" r=\"3\"/>\n",
       "<circle clip-path=\"url(#clip02)\" style=\"fill:#0099ff; stroke:none; fill-opacity:1\" cx=\"452.38\" cy=\"230.88\" r=\"2\"/>\n",
       "<circle clip-path=\"url(#clip02)\" style=\"fill:#00002d; stroke:none; fill-opacity:1\" cx=\"457.707\" cy=\"87.5841\" r=\"3\"/>\n",
       "<circle clip-path=\"url(#clip02)\" style=\"fill:#0099ff; stroke:none; fill-opacity:1\" cx=\"457.707\" cy=\"87.5841\" r=\"2\"/>\n",
       "<circle clip-path=\"url(#clip02)\" style=\"fill:#00002d; stroke:none; fill-opacity:1\" cx=\"463.035\" cy=\"158.808\" r=\"3\"/>\n",
       "<circle clip-path=\"url(#clip02)\" style=\"fill:#0099ff; stroke:none; fill-opacity:1\" cx=\"463.035\" cy=\"158.808\" r=\"2\"/>\n",
       "<circle clip-path=\"url(#clip02)\" style=\"fill:#00002d; stroke:none; fill-opacity:1\" cx=\"468.362\" cy=\"148.654\" r=\"3\"/>\n",
       "<circle clip-path=\"url(#clip02)\" style=\"fill:#0099ff; stroke:none; fill-opacity:1\" cx=\"468.362\" cy=\"148.654\" r=\"2\"/>\n",
       "<circle clip-path=\"url(#clip02)\" style=\"fill:#00002d; stroke:none; fill-opacity:1\" cx=\"473.69\" cy=\"94.0372\" r=\"3\"/>\n",
       "<circle clip-path=\"url(#clip02)\" style=\"fill:#0099ff; stroke:none; fill-opacity:1\" cx=\"473.69\" cy=\"94.0372\" r=\"2\"/>\n",
       "<circle clip-path=\"url(#clip02)\" style=\"fill:#00002d; stroke:none; fill-opacity:1\" cx=\"479.017\" cy=\"118.497\" r=\"3\"/>\n",
       "<circle clip-path=\"url(#clip02)\" style=\"fill:#0099ff; stroke:none; fill-opacity:1\" cx=\"479.017\" cy=\"118.497\" r=\"2\"/>\n",
       "<circle clip-path=\"url(#clip02)\" style=\"fill:#00002d; stroke:none; fill-opacity:1\" cx=\"484.345\" cy=\"60.5904\" r=\"3\"/>\n",
       "<circle clip-path=\"url(#clip02)\" style=\"fill:#0099ff; stroke:none; fill-opacity:1\" cx=\"484.345\" cy=\"60.5904\" r=\"2\"/>\n",
       "<circle clip-path=\"url(#clip02)\" style=\"fill:#00002d; stroke:none; fill-opacity:1\" cx=\"489.672\" cy=\"157.806\" r=\"3\"/>\n",
       "<circle clip-path=\"url(#clip02)\" style=\"fill:#0099ff; stroke:none; fill-opacity:1\" cx=\"489.672\" cy=\"157.806\" r=\"2\"/>\n",
       "<circle clip-path=\"url(#clip02)\" style=\"fill:#00002d; stroke:none; fill-opacity:1\" cx=\"495\" cy=\"159.269\" r=\"3\"/>\n",
       "<circle clip-path=\"url(#clip02)\" style=\"fill:#0099ff; stroke:none; fill-opacity:1\" cx=\"495\" cy=\"159.269\" r=\"2\"/>\n",
       "<circle clip-path=\"url(#clip02)\" style=\"fill:#00002d; stroke:none; fill-opacity:1\" cx=\"500.327\" cy=\"154.79\" r=\"3\"/>\n",
       "<circle clip-path=\"url(#clip02)\" style=\"fill:#0099ff; stroke:none; fill-opacity:1\" cx=\"500.327\" cy=\"154.79\" r=\"2\"/>\n",
       "<circle clip-path=\"url(#clip02)\" style=\"fill:#00002d; stroke:none; fill-opacity:1\" cx=\"505.655\" cy=\"75.5136\" r=\"3\"/>\n",
       "<circle clip-path=\"url(#clip02)\" style=\"fill:#0099ff; stroke:none; fill-opacity:1\" cx=\"505.655\" cy=\"75.5136\" r=\"2\"/>\n",
       "<circle clip-path=\"url(#clip02)\" style=\"fill:#00002d; stroke:none; fill-opacity:1\" cx=\"510.982\" cy=\"225.431\" r=\"3\"/>\n",
       "<circle clip-path=\"url(#clip02)\" style=\"fill:#0099ff; stroke:none; fill-opacity:1\" cx=\"510.982\" cy=\"225.431\" r=\"2\"/>\n",
       "<circle clip-path=\"url(#clip02)\" style=\"fill:#00002d; stroke:none; fill-opacity:1\" cx=\"516.31\" cy=\"184.941\" r=\"3\"/>\n",
       "<circle clip-path=\"url(#clip02)\" style=\"fill:#0099ff; stroke:none; fill-opacity:1\" cx=\"516.31\" cy=\"184.941\" r=\"2\"/>\n",
       "<circle clip-path=\"url(#clip02)\" style=\"fill:#00002d; stroke:none; fill-opacity:1\" cx=\"521.637\" cy=\"166.203\" r=\"3\"/>\n",
       "<circle clip-path=\"url(#clip02)\" style=\"fill:#0099ff; stroke:none; fill-opacity:1\" cx=\"521.637\" cy=\"166.203\" r=\"2\"/>\n",
       "<circle clip-path=\"url(#clip02)\" style=\"fill:#00002d; stroke:none; fill-opacity:1\" cx=\"526.965\" cy=\"65.1884\" r=\"3\"/>\n",
       "<circle clip-path=\"url(#clip02)\" style=\"fill:#0099ff; stroke:none; fill-opacity:1\" cx=\"526.965\" cy=\"65.1884\" r=\"2\"/>\n",
       "<circle clip-path=\"url(#clip02)\" style=\"fill:#00002d; stroke:none; fill-opacity:1\" cx=\"532.293\" cy=\"131.976\" r=\"3\"/>\n",
       "<circle clip-path=\"url(#clip02)\" style=\"fill:#0099ff; stroke:none; fill-opacity:1\" cx=\"532.293\" cy=\"131.976\" r=\"2\"/>\n",
       "<circle clip-path=\"url(#clip02)\" style=\"fill:#00002d; stroke:none; fill-opacity:1\" cx=\"537.62\" cy=\"231.489\" r=\"3\"/>\n",
       "<circle clip-path=\"url(#clip02)\" style=\"fill:#0099ff; stroke:none; fill-opacity:1\" cx=\"537.62\" cy=\"231.489\" r=\"2\"/>\n",
       "<circle clip-path=\"url(#clip02)\" style=\"fill:#00002d; stroke:none; fill-opacity:1\" cx=\"542.948\" cy=\"94.7491\" r=\"3\"/>\n",
       "<circle clip-path=\"url(#clip02)\" style=\"fill:#0099ff; stroke:none; fill-opacity:1\" cx=\"542.948\" cy=\"94.7491\" r=\"2\"/>\n",
       "<circle clip-path=\"url(#clip02)\" style=\"fill:#00002d; stroke:none; fill-opacity:1\" cx=\"548.275\" cy=\"233.772\" r=\"3\"/>\n",
       "<circle clip-path=\"url(#clip02)\" style=\"fill:#0099ff; stroke:none; fill-opacity:1\" cx=\"548.275\" cy=\"233.772\" r=\"2\"/>\n",
       "<circle clip-path=\"url(#clip02)\" style=\"fill:#00002d; stroke:none; fill-opacity:1\" cx=\"553.603\" cy=\"122.475\" r=\"3\"/>\n",
       "<circle clip-path=\"url(#clip02)\" style=\"fill:#0099ff; stroke:none; fill-opacity:1\" cx=\"553.603\" cy=\"122.475\" r=\"2\"/>\n",
       "<circle clip-path=\"url(#clip02)\" style=\"fill:#00002d; stroke:none; fill-opacity:1\" cx=\"558.93\" cy=\"188.798\" r=\"3\"/>\n",
       "<circle clip-path=\"url(#clip02)\" style=\"fill:#0099ff; stroke:none; fill-opacity:1\" cx=\"558.93\" cy=\"188.798\" r=\"2\"/>\n",
       "<circle clip-path=\"url(#clip02)\" style=\"fill:#00002d; stroke:none; fill-opacity:1\" cx=\"564.258\" cy=\"80.3075\" r=\"3\"/>\n",
       "<circle clip-path=\"url(#clip02)\" style=\"fill:#0099ff; stroke:none; fill-opacity:1\" cx=\"564.258\" cy=\"80.3075\" r=\"2\"/>\n",
       "<circle clip-path=\"url(#clip02)\" style=\"fill:#00002d; stroke:none; fill-opacity:1\" cx=\"569.585\" cy=\"96.0177\" r=\"3\"/>\n",
       "<circle clip-path=\"url(#clip02)\" style=\"fill:#0099ff; stroke:none; fill-opacity:1\" cx=\"569.585\" cy=\"96.0177\" r=\"2\"/>\n",
       "<circle clip-path=\"url(#clip02)\" style=\"fill:#00002d; stroke:none; fill-opacity:1\" cx=\"574.913\" cy=\"14.7204\" r=\"3\"/>\n",
       "<circle clip-path=\"url(#clip02)\" style=\"fill:#0099ff; stroke:none; fill-opacity:1\" cx=\"574.913\" cy=\"14.7204\" r=\"2\"/>\n",
       "<circle clip-path=\"url(#clip02)\" style=\"fill:#00002d; stroke:none; fill-opacity:1\" cx=\"580.24\" cy=\"163.7\" r=\"3\"/>\n",
       "<circle clip-path=\"url(#clip02)\" style=\"fill:#0099ff; stroke:none; fill-opacity:1\" cx=\"580.24\" cy=\"163.7\" r=\"2\"/>\n",
       "<polygon clip-path=\"url(#clip00)\" points=\"\n",
       "505.547,55.057 578.063,55.057 578.063,24.817 505.547,24.817 \n",
       "  \" fill=\"#ffffff\" fill-opacity=\"1\"/>\n",
       "<polyline clip-path=\"url(#clip00)\" style=\"stroke:#00002d; stroke-width:0.8; stroke-opacity:1; fill:none\" points=\"\n",
       "  505.547,55.057 578.063,55.057 578.063,24.817 505.547,24.817 505.547,55.057 \n",
       "  \"/>\n",
       "<circle clip-path=\"url(#clip00)\" style=\"fill:#00002d; stroke:none; fill-opacity:1\" cx=\"517.547\" cy=\"39.937\" r=\"7\"/>\n",
       "<circle clip-path=\"url(#clip00)\" style=\"fill:#0099ff; stroke:none; fill-opacity:1\" cx=\"517.547\" cy=\"39.937\" r=\"7\"/>\n",
       "<circle clip-path=\"url(#clip00)\" style=\"fill:#00002d; stroke:none; fill-opacity:1\" cx=\"541.547\" cy=\"39.937\" r=\"7\"/>\n",
       "<circle clip-path=\"url(#clip00)\" style=\"fill:#0099ff; stroke:none; fill-opacity:1\" cx=\"541.547\" cy=\"39.937\" r=\"7\"/>\n",
       "<g clip-path=\"url(#clip00)\">\n",
       "<text style=\"fill:#00002d; fill-opacity:1; font-family:Arial,Helvetica Neue,Helvetica,sans-serif; font-size:12; text-anchor:start;\" transform=\"rotate(0, 553.547, 44.437)\" x=\"553.547\" y=\"44.437\">y1</text>\n",
       "</g>\n",
       "</svg>\n"
      ]
     },
     "execution_count": 54,
     "metadata": {},
     "output_type": "execute_result"
    }
   ],
   "source": [
    "x = randn(100, 5)\n",
    "y = x * (1:5) + randn(100)\n",
    "\n",
    "o = RegressionModel(x, y)\n",
    "plot(o)"
   ]
  },
  {
   "cell_type": "markdown",
   "metadata": {
    "deletable": true,
    "editable": true
   },
   "source": [
    "# Optimization in Julia\n",
    "\n",
    "Many examples below involves numerical optimization, a key task in statistical estimation and inference. `Julia` offers various tools for optimization. The [JuliaOpt](http://www.juliaopt.org) organization is a collection of packages for optimization."
   ]
  },
  {
   "cell_type": "markdown",
   "metadata": {
    "deletable": true,
    "editable": true
   },
   "source": [
    "<img src=\"./benchmark/optimization_flowchart.png\" alt=\"Optimization flowchart\" style=\"width: 700px;\"/>"
   ]
  },
  {
   "cell_type": "markdown",
   "metadata": {
    "deletable": true,
    "editable": true
   },
   "source": [
    "### DCP Using Convex.jl"
   ]
  },
  {
   "cell_type": "markdown",
   "metadata": {
    "deletable": true,
    "editable": true
   },
   "source": [
    "Standard convex problem classes like LP (linear programming), QP (quadratic programming), SOCP (second-order cone programming), SDP (semidefinite programming), and GP (geometric programming), are becoming a **technology**. I illustrate `Julia` solutions to some statistical applications.\n",
    "\n",
    "<img src=\"./convex.jl/convex-hierarchy.png\" alt=\"DCP Hierarchy\" style=\"width: 500px;\"/>"
   ]
  },
  {
   "cell_type": "markdown",
   "metadata": {
    "deletable": true,
    "editable": true
   },
   "source": [
    "Like computer languages, getting familiar with **good** optimization softwares broadens the scope and scale of problems we are able to solve in statistics. Following table lists some of the best optimization softwares. Use of Gurobi, Mosek, and Knitro is highly recommended. \n",
    "\n",
    "|           |   | LP | MILP | SOCP |     MISOCP     | SDP | GP | NLP | MINLP |   | R | Matlab | Julia | Python |   | Cost |\n",
    "|:---------:|:-:|:--:|:----:|:----:|:--------------:|:---:|:--:|:---:|:-----:|:-:|:-:|:------:|:-----:|:------:|:-:|:----:|\n",
    "|   **modeling tools**   |   |    |      |      |                |     |    |     |       |   |   |        |       |        |   |      |\n",
    "|  JuMP.jl  |   |  ✓ |   ✓  |   ✓  |        ✓       |     |    |  ✓  |   ✓   |   |   |        |   ✓   |        |   |   O  |\n",
    "| Convex.jl |   |  ✓ |   ✓  |   ✓  |        ✓       |  ✓  |    |     |       |   |   |        |   ✓   |        |   |   O  |\n",
    "|    cvx    |   |  ✓ |   ✓  |   ✓  |        ✓       |  ✓  |  ✓ |     |       |   |   |    ✓   |       |    ✓   |   |   A  |\n",
    "|   **convex solvers** |   |    |      |      |                |     |    |     |       |   |   |        |       |        |   |      |\n",
    "|   Gurobi  |   |  ✓ |   ✓  |   ✓  |        ✓       |     |    |     |       |   | ✓ |    ✓   |   ✓   |    ✓   |   |   A  |\n",
    "|   Mosek   |   |  ✓ |   ✓  |   ✓  |        ✓       |  ✓  |  ✓ |  ✓  |       |   | ✓ |    ✓   |   ✓   |    ✓   |   |   A  |\n",
    "|   CPLEX   |   |  ✓ |   ✓  |   ✓  |        ✓       |     |    |     |       |   | ? |    ✓   |   ✓   |    ✓   |   |   A  |\n",
    "|    SCS    |   |  ✓ |      |   ✓  |                |  ✓  |    |     |       |   |   |    ✓   |   ✓   |    ✓   |   |   O  |\n",
    "|   SeDuMi  |   |  ✓ |      |   ✓  |                |  ✓  |  ? |     |       |   |   |    ✓   |       |        |   |   O  |\n",
    "|   SDPT3   |   |  ✓ |      |   ✓  |                |  ✓  |  ? |     |       |   |   |    ✓   |       |        |   |   O  |\n",
    "|   **NLP solvers**  |   |    |      |      |                |     |    |     |       |   |   |        |       |        |   |      |\n",
    "|   KNITRO  |   |  ✓ |   ✓  |      |                |     |    |  ✓  |   ✓   |   | ✓ |    ✓   |   ✓   |    ✓   |   |   $  |\n",
    "|   NLopt   |   |  ✓ |      |      |                |     |    |  ✓  |       |   |   |    ✓   |   ✓   |    ✓   |   |   O  |\n",
    "|   Ipopt   |   |  ✓ |      |      |                |     |    |  ✓  |       |   |   |    ✓   |   ✓   |    ✓   |   |   O  |\n",
    "\n",
    "* O: open source  \n",
    "* A: free academic license  \n",
    "* $: commercial"
   ]
  },
  {
   "cell_type": "markdown",
   "metadata": {
    "deletable": true,
    "editable": true
   },
   "source": [
    "Link to [Jupyter Notebook](./convex.jl/convex.ipynb)"
   ]
  },
  {
   "cell_type": "markdown",
   "metadata": {
    "deletable": true,
    "editable": true
   },
   "source": [
    "## NNMF and GPU Computing\n",
    "\n",
    "In this example, we implement the MM algorithm for the Lee and Seung's Nonnegative Matrix Factorization (NNMF) algorithm and explore the GPU computing in Julia.\n",
    "\n",
    "Many EM/MM algorithms are amenable to massively parallel computing using GPU. See examples in the paper [*Graphics Processing Units and High-Dimensional Optimization*](http://projecteuclid.org/download/pdfview_1/euclid.ss/1294167962)."
   ]
  },
  {
   "cell_type": "markdown",
   "metadata": {
    "deletable": true,
    "editable": true
   },
   "source": [
    "GPUs are ubiquitous in modern computers. Following are typical computer systems in **2015**.\n",
    "\n",
    "| NVIDIA GPUs         | Tesla M40                            | GTX Titan                                 | GTX 980M                              |\n",
    "|---------------------|----------------------------------------|-----------------------------------------|--------------------------------------|\n",
    "|                     | ![Tesla M40](./nnmf/tesla_m40.jpg) | ![GTX 580](./nnmf/nvidia_gtx_titan.jpg)    | ![GT 650M](./nnmf/nvidia_gtx980m.png) |\n",
    "| Computers           | servers, cluster                       | desktop                                 | laptop                               |\n",
    "|                     | ![Server](./nnmf/gpu_server.jpg)       | ![Desktop](./nnmf/alienware-area51.png) | ![Laptop](./nnmf/macpro_inside.png)  |\n",
    "| Main usage          | scientific computing                   | daily work, gaming                      | daily work                           |\n",
    "| Memory              | 12GB                                    | 6GB                                   | 1GB                                  |\n",
    "| Memory bandwidth    | 288GB/sec                              | 288GB/sec                               | 160GB/sec                             |\n",
    "| Number of cores     | 3072                                    | 2688                                     | 1536                                  |\n",
    "| Processor clock     | 1.3GHz                                 | 0.837GHz                                  | 1.038GHz                               |\n",
    "| Peak DP performance | 213Gflops                              |                                         |                                      |\n",
    "| Peak SP performance | 6.84Tflops                            | 4.5Tflops                              | 3.189Tflops                            |\n",
    "| Release price       | \\$4000                                  | \\$999                                    | OEM                                  |  "
   ]
  },
  {
   "cell_type": "markdown",
   "metadata": {
    "deletable": true,
    "editable": true
   },
   "source": [
    "GPU architecture vs CPU architecture.  \n",
    "* GPUs contain 100s of processing cores on a single card; several cards can fit in a desktop PC  \n",
    "* Each core carries out the same operations in parallel on different input data -- single program, multiple data (SPMD) paradigm  \n",
    "* Extremely high arithmetic intensity *if* one can transfer the data onto and results off of the processors quickly\n",
    "\n",
    "| <img src=\"./nnmf/cpu_i7_die.png\" alt=\"i7 die\" style=\"width: 400px;\"/> | <img src=\"./nnmf/Fermi_Die.png\" alt=\"Fermi die\" style=\"width: 350px;\"/> |\n",
    "|----------------------------------|------------------------------------|\n",
    "| ![Einstein](./nnmf/einstein.png) | ![Rain man](./nnmf/rainman.png)    |"
   ]
  },
  {
   "cell_type": "markdown",
   "metadata": {
    "deletable": true,
    "editable": true
   },
   "source": [
    "Link to [Jupyter Notebook](./nnmf/nnmf.ipynb).\n",
    "\n",
    "Exercise: Re-implement the NNMF algorithm using the [ArrayFire.jl](https://github.com/JuliaComputing/ArrayFire.jl) package."
   ]
  },
  {
   "cell_type": "code",
   "execution_count": null,
   "metadata": {
    "collapsed": true,
    "deletable": true,
    "editable": true
   },
   "outputs": [],
   "source": []
  }
 ],
 "metadata": {
  "kernelspec": {
   "display_name": "Julia 0.5.1",
   "language": "julia",
   "name": "julia-0.5"
  },
  "language_info": {
   "file_extension": ".jl",
   "mimetype": "application/julia",
   "name": "julia",
   "version": "0.5.1"
  }
 },
 "nbformat": 4,
 "nbformat_minor": 0
}
