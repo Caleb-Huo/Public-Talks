{
 "cells": [
  {
   "cell_type": "markdown",
   "metadata": {},
   "source": [
    "# John Myles White's Brownian Motion Example\n",
    "\n",
    "##### Dr. Hua Zhou, [huazhou@ucla.edu](mailto: huazhou@ucla.edu)\n",
    "##### Department of Biostatistics, UCLA\n",
    "##### Mar 20, 2017 @ Santen Pharmaceutical"
   ]
  },
  {
   "cell_type": "markdown",
   "metadata": {},
   "source": [
    "This example is taken from John Myles White's talk at [Multithreaded Data event](http://multithreaded.stitchfix.com/blog/2015/03/05/john-myles-white-on-julia/). This is a naive implementation of Brownian motion in R:"
   ]
  },
  {
   "cell_type": "code",
   "execution_count": 9,
   "metadata": {
    "collapsed": false
   },
   "outputs": [
    {
     "data": {
      "text/plain": [
       "RCall.RObject{RCall.ClosSxp}\n",
       "function (n) \n",
       "{\n",
       "    x <- 0\n",
       "    for (i in 1:n) {\n",
       "        x <- x + rnorm(1)\n",
       "    }\n",
       "    return(x)\n",
       "}\n"
      ]
     },
     "execution_count": 9,
     "metadata": {},
     "output_type": "execute_result"
    }
   ],
   "source": [
    "using RCall\n",
    "R\"\"\"\n",
    "loop <- function (n) {\n",
    "    x <- 0.0\n",
    "    for (i in 1:n) {\n",
    "       x <- x + rnorm(1)\n",
    "    }\n",
    "    return(x)\n",
    "}\n",
    "\"\"\""
   ]
  },
  {
   "cell_type": "markdown",
   "metadata": {},
   "source": [
    "Computing a single sample from this process for n = 10,000,000 takes around 35 seconds in `R`."
   ]
  },
  {
   "cell_type": "code",
   "execution_count": 10,
   "metadata": {
    "collapsed": false
   },
   "outputs": [
    {
     "data": {
      "text/plain": [
       "23.530458857"
      ]
     },
     "execution_count": 10,
     "metadata": {},
     "output_type": "execute_result"
    }
   ],
   "source": [
    "@elapsed R\"\"\"\n",
    "loop(10000000)\n",
    "\"\"\""
   ]
  },
  {
   "cell_type": "markdown",
   "metadata": {},
   "source": [
    "Here’s a translation of that R code into Julia:"
   ]
  },
  {
   "cell_type": "code",
   "execution_count": 11,
   "metadata": {
    "collapsed": false
   },
   "outputs": [
    {
     "name": "stderr",
     "output_type": "stream",
     "text": [
      "WARNING: Method definition loop(Any) in module Main at In[3]:2 overwritten at In[11]:2.\n"
     ]
    },
    {
     "data": {
      "text/plain": [
       "loop (generic function with 1 method)"
      ]
     },
     "execution_count": 11,
     "metadata": {},
     "output_type": "execute_result"
    }
   ],
   "source": [
    "function loop(n)\n",
    "    x = 0.0\n",
    "    for i in 1:n\n",
    "        x = x + randn()\n",
    "    end\n",
    "    return x\n",
    "end"
   ]
  },
  {
   "cell_type": "markdown",
   "metadata": {},
   "source": [
    "This implementation takes only 0.06 seconds to run - a whopping 400x faster than `R`."
   ]
  },
  {
   "cell_type": "code",
   "execution_count": 12,
   "metadata": {
    "collapsed": false
   },
   "outputs": [
    {
     "data": {
      "text/plain": [
       "0.063280588"
      ]
     },
     "execution_count": 12,
     "metadata": {},
     "output_type": "execute_result"
    }
   ],
   "source": [
    "@elapsed loop(10000000)"
   ]
  },
  {
   "cell_type": "markdown",
   "metadata": {},
   "source": [
    "Some of the main reasons why the R interpreter executes so much more slowly than the Julia compiler include:\n",
    "\n",
    "* Numerical values in R are subject to indirection because R almost never assumes that the type of a variable is constant throughout the body of a function.\n",
    "\n",
    "* Scalar values in R don’t exist, which imposes additional indirection when you only want to work with a single scalar value.\n",
    "\n",
    "* Because scalar values don’t exist in R, every single addition step in the main loop of this function has to allocate a new chunk of memory in which to store a vector.\n",
    "\n",
    "* Because R allows function calls within a function to change the semantics of almost any construct in the language, every operation must check whether its semantics are unaltered at every iteration in the loop."
   ]
  },
  {
   "cell_type": "markdown",
   "metadata": {},
   "source": [
    "So what makes Julia so efficient?\n",
    "\n",
    "* Julia infers the types of all variables inside the body of the loop function, conditional on knowing the types of the input arguments `n`.\n",
    "\n",
    "* With the results of type inference in hand, Julia is able to ask LLVM to generate machine code at run-time. This code corresponds to what a simple translation of the type-annotated Julia code into C would compile into.\n",
    "\n",
    "* Julia then executes the function body using the run-time compiled code rather than interpreting the raw source code."
   ]
  },
  {
   "cell_type": "code",
   "execution_count": 13,
   "metadata": {
    "collapsed": false
   },
   "outputs": [
    {
     "data": {
      "text/plain": [
       "LambdaInfo template for loop(n) at In[11]:2\n",
       ":(begin \n",
       "        nothing\n",
       "        x = 0.0 # line 3:\n",
       "        SSAValue(0) = (Main.colon)(1,n)\n",
       "        #temp# = (Base.start)(SSAValue(0))\n",
       "        6: \n",
       "        unless !((Base.done)(SSAValue(0),#temp#)) goto 15\n",
       "        SSAValue(1) = (Base.next)(SSAValue(0),#temp#)\n",
       "        i = (Core.getfield)(SSAValue(1),1)\n",
       "        #temp# = (Core.getfield)(SSAValue(1),2) # line 4:\n",
       "        x = x + (Main.randn)()\n",
       "        13: \n",
       "        goto 6\n",
       "        15:  # line 6:\n",
       "        return x\n",
       "    end)"
      ]
     },
     "execution_count": 13,
     "metadata": {},
     "output_type": "execute_result"
    }
   ],
   "source": [
    "@code_lowered loop(Int)"
   ]
  },
  {
   "cell_type": "code",
   "execution_count": 14,
   "metadata": {
    "collapsed": false
   },
   "outputs": [
    {
     "name": "stdout",
     "output_type": "stream",
     "text": [
      "Variables:\n",
      "  #self#::#loop\n",
      "  n::Int64\n",
      "  x@_3::Float64\n",
      "  #temp#@_4::Int64\n",
      "  i::Int64\n",
      "  r::UInt64\n",
      "  rabs::Int64\n",
      "  idx::Int64\n",
      "  x@_9::Float64\n",
      "  #temp#@_10\u001b[1m\u001b[31m::Union{Bool,Int64}\u001b[0m\n",
      "  #temp#@_11::Float64\n",
      "  #temp#@_12::Float64\n",
      "\n",
      "Body:\n",
      "  begin \n",
      "      x@_3::Float64 = 0.0 # line 3:\n",
      "      SSAValue(7) = (Base.select_value)((Base.sle_int)(1,n::Int64)::Bool,n::Int64,(Base.box)(Int64,(Base.sub_int)(1,1)))::Int64\n",
      "      #temp#@_4::Int64 = 1\n",
      "      5: \n",
      "      unless (Base.box)(Base.Bool,(Base.not_int)((#temp#@_4::Int64 === (Base.box)(Int64,(Base.add_int)(SSAValue(7),1)))::Bool)) goto 97\n",
      "      SSAValue(8) = #temp#@_4::Int64\n",
      "      SSAValue(9) = (Base.box)(Int64,(Base.add_int)(#temp#@_4::Int64,1))\n",
      "      i::Int64 = SSAValue(8)\n",
      "      #temp#@_4::Int64 = SSAValue(9) # line 4:\n",
      "      $(Expr(:inbounds, false))\n",
      "      # meta: location random.jl randn 1129\n",
      "      $(Expr(:inbounds, false))\n",
      "      # meta: location random.jl randn 1129\n",
      "      $(Expr(:inbounds, true)) # line 1130:\n",
      "      $(Expr(:inbounds, false))\n",
      "      # meta: location random.jl rand_ui52 263\n",
      "      $(Expr(:inbounds, false))\n",
      "      # meta: location random.jl rand_ui52_raw 125\n",
      "      $(Expr(:inbounds, false))\n",
      "      # meta: location random.jl reserve_1 111\n",
      "      unless ((Core.getfield)(Base.Random.GLOBAL_RNG,:idx)::Int64 === (Base.box)(Int64,(Base.sext_int)(Int64,Base.Random.MTCacheLength)))::Bool goto 36\n",
      "      # meta: location random.jl gen_rand 107\n",
      "      SSAValue(3) = (Core.getfield)(Base.Random.GLOBAL_RNG,:state)::Base.dSFMT.DSFMT_state\n",
      "      SSAValue(2) = (Core.getfield)(Base.Random.GLOBAL_RNG,:vals)::Array{Float64,1}\n",
      "      $(Expr(:invoke, LambdaInfo for dsfmt_fill_array_close1_open2!(::Base.dSFMT.DSFMT_state, ::Ptr{Float64}, ::Int64), :(Base.Random.dsfmt_fill_array_close1_open2!), SSAValue(3), :((Core.ccall)(:jl_array_ptr,(Core.apply_type)(Base.Ptr,Float64)::Type{Ptr{Float64}},(Core.svec)(Base.Any)::SimpleVector,SSAValue(2),0)::Ptr{Float64}), :((Base.arraylen)((Core.getfield)(Base.Random.GLOBAL_RNG,:vals)::Array{Float64,1})::Int64))) # line 108:\n",
      "      # meta: location random.jl mt_setfull! 102\n",
      "      (Core.setfield!)(Base.Random.GLOBAL_RNG,:idx,0)::Int64\n",
      "      # meta: pop location\n",
      "      # meta: pop location\n",
      "      #temp#@_10\u001b[1m\u001b[31m::Union{Bool,Int64}\u001b[0m = 0\n",
      "      goto 38\n",
      "      36: \n",
      "      #temp#@_10\u001b[1m\u001b[31m::Union{Bool,Int64}\u001b[0m = false\n",
      "      38: \n",
      "      # meta: pop location\n",
      "      $(Expr(:inbounds, :pop))\n",
      "      #temp#@_10\u001b[1m\u001b[31m::Union{Bool,Int64}\u001b[0m\n",
      "      $(Expr(:inbounds, false))\n",
      "      # meta: location random.jl rand_ui52_raw_inbounds 124\n",
      "      $(Expr(:inbounds, false))\n",
      "      # meta: location random.jl rand_inbounds 117\n",
      "      $(Expr(:inbounds, false))\n",
      "      # meta: location random.jl mt_pop! 104\n",
      "      $(Expr(:inbounds, true))\n",
      "      SSAValue(4) = (Core.getfield)(Base.Random.GLOBAL_RNG,:vals)::Array{Float64,1}\n",
      "      SSAValue(5) = (Base.box)(Int64,(Base.add_int)((Core.getfield)(Base.Random.GLOBAL_RNG,:idx)::Int64,1))\n",
      "      (Core.setfield!)(Base.Random.GLOBAL_RNG,:idx,SSAValue(5))::Int64\n",
      "      #temp#@_11::Float64 = (Base.arrayref)(SSAValue(4),SSAValue(5))::Float64\n",
      "      goto 55\n",
      "      $(Expr(:inbounds, :pop))\n",
      "      55: \n",
      "      # meta: pop location\n",
      "      $(Expr(:inbounds, :pop))\n",
      "      # meta: pop location\n",
      "      $(Expr(:inbounds, :pop))\n",
      "      # meta: pop location\n",
      "      $(Expr(:inbounds, :pop))\n",
      "      # meta: pop location\n",
      "      $(Expr(:inbounds, :pop))\n",
      "      # meta: pop location\n",
      "      $(Expr(:inbounds, :pop))\n",
      "      r::UInt64 = (Base.box)(UInt64,(Base.and_int)((Base.box)(UInt64,#temp#@_11::Float64),0x000fffffffffffff)) # line 1131:\n",
      "      rabs::Int64 = (Base.box)(Int64,(Base.check_top_bit)((Base.select_value)((Base.sle_int)(0,1)::Bool,(Base.box)(UInt64,(Base.lshr_int)(r::UInt64,(Base.box)(UInt64,1))),(Base.box)(UInt64,(Base.shl_int)(r::UInt64,(Base.box)(UInt64,(Base.box)(Int64,(Base.neg_int)(1))))))::UInt64)) # line 1132:\n",
      "      idx::Int64 = (Base.box)(Int64,(Base.and_int)(rabs::Int64,(Base.box)(Int64,(Base.zext_int)(Int64,0xff)))) # line 1133:\n",
      "      $(Expr(:inbounds, false))\n",
      "      # meta: location int.jl rem 236\n",
      "      # meta: location promotion.jl & 199\n",
      "      SSAValue(6) = (Base.box)(UInt64,(Base.check_top_bit)(1))\n",
      "      # meta: pop location\n",
      "      # meta: pop location\n",
      "      $(Expr(:inbounds, :pop))\n",
      "      x@_9::Float64 = (Base.box)(Base.Float64,(Base.mul_float)((Base.box)(Float64,(Base.sitofp)(Float64,(Base.select_value)((Base.box)(Base.Bool,(Base.not_int)((Base.box)(Base.Bool,(Base.and_int)((Base.sle_int)(0,0)::Bool,((Base.box)(UInt64,(Base.and_int)(r::UInt64,SSAValue(6))) === (Base.box)(UInt64,0))::Bool)))),(Base.box)(Int64,(Base.neg_int)(rabs::Int64)),rabs::Int64)::Int64)),(Base.arrayref)(Base.Random.wi,(Base.box)(Int64,(Base.add_int)(idx::Int64,1)))::Float64)) # line 1134:\n",
      "      unless (Base.box)(Base.Bool,(Base.or_int)((Base.slt_int)(rabs::Int64,0)::Bool,(Base.ult_int)((Base.box)(UInt64,rabs::Int64),(Base.arrayref)(Base.Random.ki,(Base.box)(Int64,(Base.add_int)(idx::Int64,1)))::UInt64)::Bool)) goto 84\n",
      "      #temp#@_12::Float64 = x@_9::Float64\n",
      "      goto 89\n",
      "      84:  # line 1135:\n",
      "      #temp#@_12::Float64 = $(Expr(:invoke, LambdaInfo for randn_unlikely(::MersenneTwister, ::Int64, ::Int64, ::Float64), :(Base.Random.randn_unlikely), :(Base.Random.GLOBAL_RNG), :(idx), :(rabs), :(x@_9)))\n",
      "      goto 89\n",
      "      $(Expr(:inbounds, :pop))\n",
      "      89: \n",
      "      # meta: pop location\n",
      "      $(Expr(:inbounds, :pop))\n",
      "      # meta: pop location\n",
      "      $(Expr(:inbounds, :pop))\n",
      "      x@_3::Float64 = (Base.box)(Base.Float64,(Base.add_float)(x@_3::Float64,#temp#@_12::Float64))\n",
      "      95: \n",
      "      goto 5\n",
      "      97:  # line 6:\n",
      "      return x@_3::Float64\n",
      "  end::Float64\n"
     ]
    }
   ],
   "source": [
    "@code_warntype loop(10)"
   ]
  },
  {
   "cell_type": "code",
   "execution_count": 15,
   "metadata": {
    "collapsed": false
   },
   "outputs": [
    {
     "name": "stdout",
     "output_type": "stream",
     "text": [
      "\n",
      "define double @julia_loop_71993(i64) #0 {\n",
      "top:\n",
      "  %1 = call %jl_value_t*** @jl_get_ptls_states() #1\n",
      "  %2 = alloca [6 x %jl_value_t*], align 8\n",
      "  %.sub = getelementptr inbounds [6 x %jl_value_t*], [6 x %jl_value_t*]* %2, i64 0, i64 0\n",
      "  %3 = getelementptr [6 x %jl_value_t*], [6 x %jl_value_t*]* %2, i64 0, i64 2\n",
      "  %4 = bitcast [6 x %jl_value_t*]* %2 to i64*\n",
      "  %5 = bitcast %jl_value_t** %3 to i8*\n",
      "  call void @llvm.memset.p0i8.i64(i8* %5, i8 0, i64 32, i32 8, i1 false)\n",
      "  store i64 8, i64* %4, align 8\n",
      "  %6 = bitcast %jl_value_t*** %1 to i64*\n",
      "  %7 = load i64, i64* %6, align 8\n",
      "  %8 = getelementptr [6 x %jl_value_t*], [6 x %jl_value_t*]* %2, i64 0, i64 1\n",
      "  %9 = bitcast %jl_value_t** %8 to i64*\n",
      "  store i64 %7, i64* %9, align 8\n",
      "  store %jl_value_t** %.sub, %jl_value_t*** %1, align 8\n",
      "  %10 = icmp slt i64 %0, 1\n",
      "  br i1 %10, label %L11, label %if.lr.ph\n",
      "\n",
      "if.lr.ph:                                         ; preds = %top\n",
      "  %11 = getelementptr [6 x %jl_value_t*], [6 x %jl_value_t*]* %2, i64 0, i64 3\n",
      "  %12 = getelementptr [6 x %jl_value_t*], [6 x %jl_value_t*]* %2, i64 0, i64 4\n",
      "  %13 = getelementptr [6 x %jl_value_t*], [6 x %jl_value_t*]* %2, i64 0, i64 5\n",
      "  br label %if\n",
      "\n",
      "L8:                                               ; preds = %pass\n",
      "  %14 = call double @julia_randn_unlikely_71722(%jl_value_t* inttoptr (i64 4616366032 to %jl_value_t*), i64 %39, i64 %38, double %48) #0\n",
      "  br label %L9\n",
      "\n",
      "L9:                                               ; preds = %pass, %L8\n",
      "  %\"#temp#4.sroa.0.0.in\" = phi double [ %14, %L8 ], [ %48, %pass ]\n",
      "  %15 = add i64 %\"#temp#.020\", 1\n",
      "  %16 = fadd double %x.021, %\"#temp#4.sroa.0.0.in\"\n",
      "  %17 = icmp eq i64 %\"#temp#.020\", %0\n",
      "  br i1 %17, label %L11.loopexit, label %if\n",
      "\n",
      "L11.loopexit:                                     ; preds = %L9\n",
      "  br label %L11\n",
      "\n",
      "L11:                                              ; preds = %L11.loopexit, %top\n",
      "  %x.0.lcssa = phi double [ 0.000000e+00, %top ], [ %16, %L11.loopexit ]\n",
      "  %18 = load i64, i64* %9, align 8\n",
      "  store i64 %18, i64* %6, align 8\n",
      "  ret double %x.0.lcssa\n",
      "\n",
      "if:                                               ; preds = %if.lr.ph, %L9\n",
      "  %x.021 = phi double [ 0.000000e+00, %if.lr.ph ], [ %16, %L9 ]\n",
      "  %\"#temp#.020\" = phi i64 [ 1, %if.lr.ph ], [ %15, %L9 ]\n",
      "  %19 = load i64, i64* inttoptr (i64 4616366056 to i64*), align 8\n",
      "  %20 = icmp eq i64 %19, 382\n",
      "  br i1 %20, label %if12, label %if.pass_crit_edge\n",
      "\n",
      "if.pass_crit_edge:                                ; preds = %if\n",
      "  %.pre = load i64, i64* inttoptr (i64 4616366056 to i64*), align 8\n",
      "  br label %pass\n",
      "\n",
      "if12:                                             ; preds = %if\n",
      "  %21 = load %jl_value_t*, %jl_value_t** inttoptr (i64 4616366040 to %jl_value_t**), align 8\n",
      "  store %jl_value_t* %21, %jl_value_t** %3, align 8\n",
      "  %22 = load %jl_value_t*, %jl_value_t** inttoptr (i64 4616366048 to %jl_value_t**), align 32\n",
      "  store %jl_value_t* %22, %jl_value_t** %11, align 8\n",
      "  %23 = bitcast %jl_value_t* %22 to double**\n",
      "  %24 = load double*, double** %23, align 8\n",
      "  %25 = load %jl_value_t*, %jl_value_t** inttoptr (i64 4616366048 to %jl_value_t**), align 32\n",
      "  store %jl_value_t* %25, %jl_value_t** %12, align 8\n",
      "  %26 = getelementptr inbounds %jl_value_t, %jl_value_t* %25, i64 1\n",
      "  %27 = bitcast %jl_value_t* %26 to i64*\n",
      "  %28 = load i64, i64* %27, align 8\n",
      "  call void @\"jlsys_dsfmt_fill_array_close1_open2!_42843\"(%jl_value_t* %21, double* %24, i64 %28)\n",
      "  store i64 0, i64* inttoptr (i64 4616366056 to i64*), align 8\n",
      "  br label %pass\n",
      "\n",
      "pass:                                             ; preds = %if.pass_crit_edge, %if12\n",
      "  %29 = phi i64 [ %.pre, %if.pass_crit_edge ], [ 0, %if12 ]\n",
      "  %30 = load %jl_value_t*, %jl_value_t** inttoptr (i64 4616366048 to %jl_value_t**), align 32\n",
      "  store %jl_value_t* %30, %jl_value_t** %13, align 8\n",
      "  %31 = add i64 %29, 1\n",
      "  store i64 %31, i64* inttoptr (i64 4616366056 to i64*), align 8\n",
      "  %32 = bitcast %jl_value_t* %30 to double**\n",
      "  %33 = load double*, double** %32, align 8\n",
      "  %34 = getelementptr double, double* %33, i64 %29\n",
      "  %35 = bitcast double* %34 to i64*\n",
      "  %36 = load i64, i64* %35, align 8\n",
      "  %37 = lshr i64 %36, 1\n",
      "  %38 = and i64 %37, 2251799813685247\n",
      "  %39 = and i64 %37, 255\n",
      "  %40 = and i64 %36, 1\n",
      "  %41 = icmp eq i64 %40, 0\n",
      "  %42 = sub nsw i64 0, %38\n",
      "  %43 = select i1 %41, i64 %38, i64 %42\n",
      "  %44 = sitofp i64 %43 to double\n",
      "  %45 = load double*, double** inttoptr (i64 140429554552896 to double**), align 64\n",
      "  %46 = getelementptr double, double* %45, i64 %39\n",
      "  %47 = load double, double* %46, align 8\n",
      "  %48 = fmul double %47, %44\n",
      "  %49 = load i64*, i64** inttoptr (i64 140429554550336 to i64**), align 64\n",
      "  %50 = getelementptr i64, i64* %49, i64 %39\n",
      "  %51 = load i64, i64* %50, align 8\n",
      "  %52 = icmp ult i64 %38, %51\n",
      "  br i1 %52, label %L9, label %L8\n",
      "}\n"
     ]
    }
   ],
   "source": [
    "@code_llvm loop(10)"
   ]
  },
  {
   "cell_type": "code",
   "execution_count": 16,
   "metadata": {
    "collapsed": false
   },
   "outputs": [
    {
     "name": "stdout",
     "output_type": "stream",
     "text": [
      "\t.section\t__TEXT,__text,regular,pure_instructions\n",
      "Filename: In[11]\n",
      "\tpushq\t%rbp\n",
      "\tmovq\t%rsp, %rbp\n",
      "\tpushq\t%r15\n",
      "\tpushq\t%r14\n",
      "\tpushq\t%r13\n",
      "\tpushq\t%r12\n",
      "\tpushq\t%rbx\n",
      "\tsubq\t$72, %rsp\n",
      "\tmovq\t%rdi, %rbx\n",
      "\tmovabsq\t$jl_get_ptls_states_fast, %rax\n",
      "\tcallq\t*%rax\n",
      "\tmovq\t%rax, -104(%rbp)\n",
      "\tmovq\t$0, -48(%rbp)\n",
      "\tmovq\t$0, -56(%rbp)\n",
      "\tmovq\t$0, -64(%rbp)\n",
      "\tmovq\t$0, -72(%rbp)\n",
      "\tmovq\t$8, -88(%rbp)\n",
      "\tmovq\t(%rax), %rcx\n",
      "\tmovq\t%rcx, -80(%rbp)\n",
      "\tleaq\t-88(%rbp), %rcx\n",
      "\tmovq\t%rcx, (%rax)\n",
      "\txorpd\t%xmm0, %xmm0\n",
      "Source line: 3\n",
      "\ttestq\t%rbx, %rbx\n",
      "\tjle\tL330\n",
      "\txorpd\t%xmm0, %xmm0\n",
      "\tmovabsq\t$4616366056, %r15       ## imm = 0x1132827E8\n",
      "\tmovabsq\t$140429554550336, %r12  ## imm = 0x7FB84DB70640\n",
      "Source line: 1131\n",
      "\tmovabsq\t$2251799813685247, %r14 ## imm = 0x7FFFFFFFFFFFF\n",
      "Source line: 1135\n",
      "\tmovabsq\t$randn_unlikely, %r13\n",
      "\tnopw\t%cs:(%rax,%rax)\n",
      "L160:\n",
      "\tmovsd\t%xmm0, -96(%rbp)\n",
      "Source line: 111\n",
      "\tmovq\t(%r15), %rax\n",
      "\tcmpq\t$382, %rax              ## imm = 0x17E\n",
      "\tjne\tL224\n",
      "Source line: 107\n",
      "\tmovq\t-16(%r15), %rdi\n",
      "\tmovq\t%rdi, -72(%rbp)\n",
      "\tmovq\t-8(%r15), %rax\n",
      "\tmovq\t%rax, -64(%rbp)\n",
      "\tmovq\t(%rax), %rsi\n",
      "\tmovq\t%rax, -56(%rbp)\n",
      "\tmovq\t8(%rax), %rdx\n",
      "\tmovabsq\t$\"dsfmt_fill_array_close1_open2!\", %rax\n",
      "\tcallq\t*%rax\n",
      "Source line: 102\n",
      "\tmovq\t$0, (%r15)\n",
      "\txorl\t%eax, %eax\n",
      "Source line: 104\n",
      "L224:\n",
      "\tmovq\t-8(%r15), %rcx\n",
      "\tmovq\t%rcx, -48(%rbp)\n",
      "\tleaq\t1(%rax), %rdx\n",
      "\tmovq\t%rdx, (%r15)\n",
      "\tmovq\t(%rcx), %rcx\n",
      "\tmovq\t(%rcx,%rax,8), %rax\n",
      "Source line: 1131\n",
      "\tmovq\t%rax, %rcx\n",
      "\tshrq\t%rcx\n",
      "Source line: 1132\n",
      "\tmovzbl\t%cl, %esi\n",
      "Source line: 1131\n",
      "\tmovq\t%rcx, %rdx\n",
      "\tandq\t%r14, %rdx\n",
      "Source line: 1133\n",
      "\tmovq\t%rdx, %rcx\n",
      "\tnegq\t%rcx\n",
      "\ttestb\t$1, %al\n",
      "\tcmoveq\t%rdx, %rcx\n",
      "\tcvtsi2sdq\t%rcx, %xmm0\n",
      "\tmovq\t2560(%r12), %rax\n",
      "\tmulsd\t(%rax,%rsi,8), %xmm0\n",
      "Source line: 1134\n",
      "\tmovq\t(%r12), %rax\n",
      "\tcmpq\t(%rax,%rsi,8), %rdx\n",
      "\tjb\tL308\n",
      "Source line: 1135\n",
      "\tleaq\t-24(%r15), %rdi\n",
      "\tcallq\t*%r13\n",
      "L308:\n",
      "\tmovsd\t-96(%rbp), %xmm1        ## xmm1 = mem[0],zero\n",
      "Source line: 4\n",
      "\taddsd\t%xmm0, %xmm1\n",
      "\tmovapd\t%xmm1, %xmm0\n",
      "Source line: 3\n",
      "\tdecq\t%rbx\n",
      "\tjne\tL160\n",
      "Source line: 6\n",
      "L330:\n",
      "\tmovq\t-80(%rbp), %rax\n",
      "\tmovq\t-104(%rbp), %rcx\n",
      "\tmovq\t%rax, (%rcx)\n",
      "\taddq\t$72, %rsp\n",
      "\tpopq\t%rbx\n",
      "\tpopq\t%r12\n",
      "\tpopq\t%r13\n",
      "\tpopq\t%r14\n",
      "\tpopq\t%r15\n",
      "\tpopq\t%rbp\n",
      "\tretq\n",
      "\tnopw\t%cs:(%rax,%rax)\n"
     ]
    }
   ],
   "source": [
    "@code_native loop(10)"
   ]
  },
  {
   "cell_type": "code",
   "execution_count": null,
   "metadata": {
    "collapsed": true
   },
   "outputs": [],
   "source": []
  }
 ],
 "metadata": {
  "kernelspec": {
   "display_name": "Julia 0.5.1",
   "language": "julia",
   "name": "julia-0.5"
  },
  "language_info": {
   "file_extension": ".jl",
   "mimetype": "application/julia",
   "name": "julia",
   "version": "0.5.1"
  }
 },
 "nbformat": 4,
 "nbformat_minor": 0
}
