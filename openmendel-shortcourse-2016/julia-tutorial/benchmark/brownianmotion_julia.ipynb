{
 "cells": [
  {
   "cell_type": "markdown",
   "metadata": {},
   "source": [
    "# John Myles White's Brownian Motion Example\n",
    "\n",
    "##### [OpenMendel short course](http://www.genetics.ucla.edu/courses/statgene/Mendel/)\n",
    "##### Dr. Hua Zhou, [huazhou@ucla.edu](mailto: huazhou@ucla.edu)\n",
    "##### Department of Biostatistics, UCLA\n",
    "##### Aug 25, 2016"
   ]
  },
  {
   "cell_type": "markdown",
   "metadata": {},
   "source": [
    "This example is taken from John Myles White's talk at [Multithreaded Data event](http://multithreaded.stitchfix.com/blog/2015/03/05/john-myles-white-on-julia/). This is a naive implementation of Brownian motion in R:"
   ]
  },
  {
   "cell_type": "code",
   "execution_count": 9,
   "metadata": {
    "collapsed": false
   },
   "outputs": [
    {
     "data": {
      "text/plain": [
       "RCall.RObject{RCall.ClosSxp}\n"
      ]
     },
     "execution_count": 9,
     "metadata": {},
     "output_type": "execute_result"
    }
   ],
   "source": [
    "using RCall\n",
    "R\"\"\"\n",
    "loop <- function (n) {\n",
    "    x <- 0.0\n",
    "    for (i in 1:n) {\n",
    "       x <- x + rnorm(1)\n",
    "    }\n",
    "    return(x)\n",
    "}\n",
    "\"\"\""
   ]
  },
  {
   "cell_type": "markdown",
   "metadata": {},
   "source": [
    "Computing a single sample from this process for n = 10,000,000 takes around 35 seconds in `R`."
   ]
  },
  {
   "cell_type": "code",
   "execution_count": 10,
   "metadata": {
    "collapsed": false
   },
   "outputs": [
    {
     "name": "stderr",
     "output_type": "stream",
     "text": [
      "WARNING: Error in function (x, ...)  : invalid generic function in 'usemethod'\n"
     ]
    },
    {
     "data": {
      "text/plain": [
       "32.843564774"
      ]
     },
     "execution_count": 10,
     "metadata": {},
     "output_type": "execute_result"
    }
   ],
   "source": [
    "@elapsed R\"\"\"\n",
    "loop(10000000)\n",
    "\"\"\""
   ]
  },
  {
   "cell_type": "markdown",
   "metadata": {},
   "source": [
    "Here’s a translation of that R code into Julia:"
   ]
  },
  {
   "cell_type": "code",
   "execution_count": 11,
   "metadata": {
    "collapsed": false
   },
   "outputs": [
    {
     "data": {
      "text/plain": [
       "loop (generic function with 1 method)"
      ]
     },
     "execution_count": 11,
     "metadata": {},
     "output_type": "execute_result"
    }
   ],
   "source": [
    "function loop(n)\n",
    "    x = 0.0\n",
    "    for i in 1:n\n",
    "        x = x + randn()\n",
    "    end\n",
    "    return x\n",
    "end"
   ]
  },
  {
   "cell_type": "markdown",
   "metadata": {},
   "source": [
    "This implementation takes only 0.07 seconds to run - a whopping 500x faster than `R`."
   ]
  },
  {
   "cell_type": "code",
   "execution_count": 12,
   "metadata": {
    "collapsed": false
   },
   "outputs": [
    {
     "data": {
      "text/plain": [
       "0.070060761"
      ]
     },
     "execution_count": 12,
     "metadata": {},
     "output_type": "execute_result"
    }
   ],
   "source": [
    "@elapsed loop(10000000)"
   ]
  },
  {
   "cell_type": "markdown",
   "metadata": {},
   "source": [
    "Some of the main reasons why the R interpreter executes so much more slowly than the Julia compiler include:\n",
    "\n",
    "* Numerical values in R are subject to indirection because R almost never assumes that the type of a variable is constant throughout the body of a function.\n",
    "\n",
    "* Scalar values in R don’t exist, which imposes additional indirection when you only want to work with a single scalar value.\n",
    "\n",
    "* Because scalar values don’t exist in R, every single addition step in the main loop of this function has to allocate a new chunk of memory in which to store a vector.\n",
    "\n",
    "* Because R allows function calls within a function to change the semantics of almost any construct in the language, every operation must check whether its semantics are unaltered at every iteration in the loop."
   ]
  },
  {
   "cell_type": "markdown",
   "metadata": {},
   "source": [
    "So what makes Julia so efficient?\n",
    "\n",
    "* Julia infers the types of all variables inside the body of the loop function, conditional on knowing the types of the input arguments `n`.\n",
    "\n",
    "* With the results of type inference in hand, Julia is able to ask LLVM to generate machine code at run-time. This code corresponds to what a simple translation of the type-annotated Julia code into C would compile into.\n",
    "\n",
    "* Julia then executes the function body using the run-time compiled code rather than interpreting the raw source code."
   ]
  },
  {
   "cell_type": "code",
   "execution_count": 15,
   "metadata": {
    "collapsed": false
   },
   "outputs": [
    {
     "data": {
      "text/plain": [
       "1-element Array{Any,1}:\n",
       " :($(Expr(:lambda, Any[:n], Any[Any[Any[:n,:Any,0],Any[:x,:Any,2],Any[symbol(\"#s52\"),:Any,2],Any[:i,:Any,18]],Any[],2,Any[]], :(begin  # In[11], line 2:\n",
       "        x = 0.0 # In[11], line 3:\n",
       "        GenSym(0) = (Main.colon)(1,n)\n",
       "        #s52 = (top(start))(GenSym(0))\n",
       "        unless (top(!))((top(done))(GenSym(0),#s52)) goto 1\n",
       "        2: \n",
       "        GenSym(1) = (top(next))(GenSym(0),#s52)\n",
       "        i = (top(getfield))(GenSym(1),1)\n",
       "        #s52 = (top(getfield))(GenSym(1),2) # In[11], line 4:\n",
       "        x = x + (Main.randn)()\n",
       "        3: \n",
       "        unless (top(!))((top(!))((top(done))(GenSym(0),#s52))) goto 2\n",
       "        1: \n",
       "        0:  # In[11], line 6:\n",
       "        return x\n",
       "    end))))"
      ]
     },
     "execution_count": 15,
     "metadata": {},
     "output_type": "execute_result"
    }
   ],
   "source": [
    "@code_lowered loop(Int)"
   ]
  },
  {
   "cell_type": "code",
   "execution_count": 16,
   "metadata": {
    "collapsed": false
   },
   "outputs": [
    {
     "name": "stdout",
     "output_type": "stream",
     "text": [
      "Variables:\n",
      "  n::Int64\n",
      "  x::Float64\n",
      "  #s52::Int64\n",
      "  i::Int64\n",
      "  ####r#7687#7713::UInt64\n",
      "  ####rabs#7688#7714::Int64\n",
      "  ####idx#7689#7715::Int64\n",
      "  ####x#7690#7716::Float64\n",
      "  ########_var0#7679#7685#7691#7717::UNION{BOOL,INT64}\n",
      "  ############_var0#7100#7678#7680#7686#7692#7718::Float64\n",
      "  ##_var0#7719::Float64\n",
      "\n",
      "Body:\n",
      "  begin  # In[11], line 2:\n",
      "      x = 0.0 # In[11], line 3:\n",
      "      GenSym(0) = $(Expr(:new, UnitRange{Int64}, 1, :(((top(getfield))(Base.Intrinsics,:select_value)::I)((Base.sle_int)(1,n::Int64)::Bool,n::Int64,(Base.box)(Int64,(Base.sub_int)(1,1)))::Int64)))\n",
      "      #s52 = (top(getfield))(GenSym(0),:start)::Int64\n",
      "      unless (Base.box)(Base.Bool,(Base.not_int)(#s52::Int64 === (Base.box)(Base.Int,(Base.add_int)((top(getfield))(GenSym(0),:stop)::Int64,1))::Bool)) goto 1\n",
      "      2: \n",
      "      GenSym(4) = #s52::Int64\n",
      "      GenSym(5) = (Base.box)(Base.Int,(Base.add_int)(#s52::Int64,1))\n",
      "      i = GenSym(4)\n",
      "      #s52 = GenSym(5) # In[11], line 4:\n",
      "      $(Expr(:boundscheck, false))\n",
      "      unless (top(getfield))(Base.Random.GLOBAL_RNG,:idx)::Int64 === (Base.box)(Int64,(Base.sext_int)(Int64,Base.Random.MTCacheLength))::Bool goto 10\n",
      "      ########_var0#7679#7685#7691#7717 = (Base.Random.gen_rand)(Base.Random.GLOBAL_RNG)::Int64\n",
      "      goto 11\n",
      "      10: \n",
      "      ########_var0#7679#7685#7691#7717 = false\n",
      "      11: \n",
      "      ########_var0#7679#7685#7691#7717::UNION{BOOL,INT64}\n",
      "      $(Expr(:boundscheck, false))\n",
      "      GenSym(3) = (top(getfield))(Base.Random.GLOBAL_RNG,:vals)::Array{Float64,1}\n",
      "      GenSym(2) = (top(setfield!))(Base.Random.GLOBAL_RNG,:idx,(Base.box)(Base.Int,(Base.add_int)((top(getfield))(Base.Random.GLOBAL_RNG,:idx)::Int64,1)))::Int64\n",
      "      ############_var0#7100#7678#7680#7686#7692#7718 = (Base.arrayref)(GenSym(3),GenSym(2))::Float64\n",
      "      goto 12\n",
      "      ############_var0#7100#7678#7680#7686#7692#7718 = $(Expr(:boundscheck, :((top(getfield))(Base,:pop))))\n",
      "      12: \n",
      "      ####r#7687#7713 = (Base.box)(UInt64,(Base.and_int)((Base.box)(UInt64,############_var0#7100#7678#7680#7686#7692#7718::Float64),0x000fffffffffffff))\n",
      "      ####rabs#7688#7714 = (Base.box)(Int64,(Base.check_top_bit)((Base.box)(UInt64,(Base.lshr_int)(####r#7687#7713::UInt64,1))))\n",
      "      ####idx#7689#7715 = (Base.box)(Int64,(Base.and_int)(####rabs#7688#7714::Int64,(Base.box)(Int64,(Base.zext_int)(Int64,0xff))))\n",
      "      ####x#7690#7716 = (Base.box)(Base.Float64,(Base.mul_float)((Base.box)(Float64,(Base.sitofp)(Float64,((top(getfield))(Base.Intrinsics,:select_value)::I)((Base.box)(Base.Bool,(Base.not_int)((Base.box)(Base.Bool,(Base.and_int)((Base.sle_int)(0,0)::Bool,(Base.box)(UInt64,(Base.and_int)(####r#7687#7713::UInt64,(Base.box)(UInt64,(Base.check_top_bit)(1)))) === (Base.box)(UInt64,0)::Bool)))),(Base.box)(Int64,(Base.neg_int)(####rabs#7688#7714::Int64)),####rabs#7688#7714::Int64)::Int64)),(Base.arrayref)(Base.Random.wi,(Base.box)(Base.Int,(Base.add_int)(####idx#7689#7715::Int64,1)))::Float64))\n",
      "      unless (Base.box)(Base.Bool,(Base.or_int)((Base.slt_int)(####rabs#7688#7714::Int64,0)::Bool,(Base.ult_int)((Base.box)(UInt64,####rabs#7688#7714::Int64),(Base.arrayref)(Base.Random.ki,(Base.box)(Base.Int,(Base.add_int)(####idx#7689#7715::Int64,1)))::UInt64)::Bool)) goto 13\n",
      "      ##_var0#7719 = ####x#7690#7716::Float64\n",
      "      goto 14\n",
      "      13: \n",
      "      ##_var0#7719 = (Base.Random.randn_unlikely)(Base.Random.GLOBAL_RNG,####idx#7689#7715::Int64,####rabs#7688#7714::Int64,####x#7690#7716::Float64)::Float64\n",
      "      goto 14\n",
      "      ##_var0#7719 = $(Expr(:boundscheck, :((top(getfield))(Base,:pop))))\n",
      "      14: \n",
      "      x = (Base.box)(Base.Float64,(Base.add_float)(x::Float64,##_var0#7719::Float64))\n",
      "      3: \n",
      "      unless (Base.box)(Base.Bool,(Base.not_int)((Base.box)(Base.Bool,(Base.not_int)(#s52::Int64 === (Base.box)(Base.Int,(Base.add_int)((top(getfield))(GenSym(0),:stop)::Int64,1))::Bool)))) goto 2\n",
      "      1: \n",
      "      0:  # In[11], line 6:\n",
      "      return x::Float64\n",
      "  end::Float64\n"
     ]
    }
   ],
   "source": [
    "@code_warntype loop(10)"
   ]
  },
  {
   "cell_type": "code",
   "execution_count": 17,
   "metadata": {
    "collapsed": false
   },
   "outputs": [
    {
     "name": "stdout",
     "output_type": "stream",
     "text": [
      "\n",
      "define double @julia_loop_22420(i64) {\n",
      "top:\n",
      "  %1 = alloca [4 x %jl_value_t*], align 8\n",
      "  %.sub = getelementptr inbounds [4 x %jl_value_t*]* %1, i64 0, i64 0\n",
      "  %2 = getelementptr [4 x %jl_value_t*]* %1, i64 0, i64 2\n",
      "  store %jl_value_t* inttoptr (i64 4 to %jl_value_t*), %jl_value_t** %.sub, align 8\n",
      "  %3 = load %jl_value_t*** @jl_pgcstack, align 8\n",
      "  %4 = getelementptr [4 x %jl_value_t*]* %1, i64 0, i64 1\n",
      "  %.c = bitcast %jl_value_t** %3 to %jl_value_t*\n",
      "  store %jl_value_t* %.c, %jl_value_t** %4, align 8\n",
      "  store %jl_value_t** %.sub, %jl_value_t*** @jl_pgcstack, align 8\n",
      "  store %jl_value_t* null, %jl_value_t** %2, align 8\n",
      "  %5 = getelementptr [4 x %jl_value_t*]* %1, i64 0, i64 3\n",
      "  store %jl_value_t* null, %jl_value_t** %5, align 8\n",
      "  %6 = icmp sgt i64 %0, 0\n",
      "  %7 = select i1 %6, i64 %0, i64 0\n",
      "  %8 = icmp eq i64 %7, 0\n",
      "  br i1 %8, label %L15, label %L\n",
      "\n",
      "L:                                                ; preds = %L12, %top\n",
      "  %\"#s52.0\" = phi i64 [ %56, %L12 ], [ 1, %top ]\n",
      "  %x.0 = phi double [ %57, %L12 ], [ 0.000000e+00, %top ]\n",
      "  %9 = load %jl_value_t** inttoptr (i64 4541175352 to %jl_value_t**), align 8\n",
      "  %10 = getelementptr %jl_value_t* %9, i64 2\n",
      "  %11 = bitcast %jl_value_t* %10 to i64*\n",
      "  %12 = load i64* %11, align 16\n",
      "  %13 = icmp eq i64 %12, 382\n",
      "  br i1 %13, label %if1, label %L2\n",
      "\n",
      "if1:                                              ; preds = %L\n",
      "  %14 = call i64 @julia_gen_rand_21592(%jl_value_t* %9)\n",
      "  %15 = call %jl_value_t* @jl_box_int64(i64 signext %14)\n",
      "  br label %pass\n",
      "\n",
      "L2:                                               ; preds = %L\n",
      "  %16 = load %jl_value_t** @jl_false, align 8\n",
      "  br label %pass\n",
      "\n",
      "pass:                                             ; preds = %L2, %if1\n",
      "  %storemerge = phi %jl_value_t* [ %16, %L2 ], [ %15, %if1 ]\n",
      "  store %jl_value_t* %storemerge, %jl_value_t** %2, align 8\n",
      "  %17 = load %jl_value_t** inttoptr (i64 4541175352 to %jl_value_t**), align 8\n",
      "  %18 = getelementptr inbounds %jl_value_t* %17, i64 1, i32 0\n",
      "  %19 = load %jl_value_t** %18, align 8\n",
      "  store %jl_value_t* %19, %jl_value_t** %5, align 8\n",
      "  %20 = load %jl_value_t** inttoptr (i64 4541175352 to %jl_value_t**), align 8\n",
      "  %21 = getelementptr %jl_value_t* %20, i64 2\n",
      "  %22 = bitcast %jl_value_t* %21 to i64*\n",
      "  %23 = load i64* %22, align 16\n",
      "  %24 = add i64 %23, 1\n",
      "  %25 = getelementptr inbounds %jl_value_t* %20, i64 2, i32 0\n",
      "  %.c16 = inttoptr i64 %24 to %jl_value_t*\n",
      "  store %jl_value_t* %.c16, %jl_value_t** %25, align 16\n",
      "  %26 = bitcast %jl_value_t* %19 to i8**\n",
      "  %27 = load i8** %26, align 8\n",
      "  %28 = bitcast i8* %27 to double*\n",
      "  %29 = getelementptr double* %28, i64 %23\n",
      "  %30 = load double* %29, align 8\n",
      "  %31 = bitcast double %30 to i64\n",
      "  %32 = lshr i64 %31, 1\n",
      "  %33 = and i64 %32, 2251799813685247\n",
      "  %34 = and i64 %32, 255\n",
      "  %35 = and i64 %31, 1\n",
      "  %36 = icmp eq i64 %35, 0\n",
      "  %37 = sub i64 0, %33\n",
      "  %38 = select i1 %36, i64 %33, i64 %37\n",
      "  %39 = sitofp i64 %38 to double\n",
      "  %40 = load %jl_value_t** inttoptr (i64 4541174872 to %jl_value_t**), align 8\n",
      "  %41 = bitcast %jl_value_t* %40 to i8**\n",
      "  %42 = load i8** %41, align 8\n",
      "  %43 = bitcast i8* %42 to double*\n",
      "  %44 = getelementptr double* %43, i64 %34\n",
      "  %45 = load double* %44, align 8\n",
      "  %46 = fmul double %45, %39\n",
      "  %47 = load %jl_value_t** inttoptr (i64 4541179528 to %jl_value_t**), align 8\n",
      "  %48 = bitcast %jl_value_t* %47 to i8**\n",
      "  %49 = load i8** %48, align 8\n",
      "  %50 = bitcast i8* %49 to i64*\n",
      "  %51 = getelementptr i64* %50, i64 %34\n",
      "  %52 = load i64* %51, align 8\n",
      "  %53 = icmp ult i64 %33, %52\n",
      "  br i1 %53, label %L12, label %L10\n",
      "\n",
      "L10:                                              ; preds = %pass\n",
      "  %54 = load %jl_value_t** inttoptr (i64 4541175352 to %jl_value_t**), align 8\n",
      "  %55 = call double @julia_randn_unlikely_22161(%jl_value_t* %54, i64 %34, i64 %33, double %46)\n",
      "  br label %L12\n",
      "\n",
      "L12:                                              ; preds = %L10, %pass\n",
      "  %\"##_var0#7719.0\" = phi double [ %55, %L10 ], [ %46, %pass ]\n",
      "  %56 = add i64 %\"#s52.0\", 1\n",
      "  %57 = fadd double %x.0, %\"##_var0#7719.0\"\n",
      "  %58 = icmp eq i64 %\"#s52.0\", %7\n",
      "  br i1 %58, label %L15, label %L\n",
      "\n",
      "L15:                                              ; preds = %L12, %top\n",
      "  %x.1 = phi double [ 0.000000e+00, %top ], [ %57, %L12 ]\n",
      "  %59 = load %jl_value_t** %4, align 8\n",
      "  %60 = getelementptr inbounds %jl_value_t* %59, i64 0, i32 0\n",
      "  store %jl_value_t** %60, %jl_value_t*** @jl_pgcstack, align 8\n",
      "  ret double %x.1\n",
      "}\n"
     ]
    }
   ],
   "source": [
    "@code_llvm loop(10)"
   ]
  },
  {
   "cell_type": "code",
   "execution_count": 18,
   "metadata": {
    "collapsed": false
   },
   "outputs": [
    {
     "name": "stdout",
     "output_type": "stream",
     "text": [
      "\t.section\t__TEXT,__text,regular,pure_instructions\n",
      "Filename: In[11]\n",
      "Source line: 2\n",
      "\tpushq\t%rbp\n",
      "\tmovq\t%rsp, %rbp\n",
      "Source line: 2\n",
      "\tpushq\t%r15\n",
      "\tpushq\t%r14\n",
      "\tpushq\t%r13\n",
      "\tpushq\t%r12\n",
      "\tpushq\t%rbx\n",
      "\tsubq\t$40, %rsp\n",
      "\tmovq\t$4, -72(%rbp)\n",
      "\tmovabsq\t$jl_pgcstack, %rcx\n",
      "\tmovq\t(%rcx), %rax\n",
      "\tmovq\t%rax, -64(%rbp)\n",
      "\tleaq\t-72(%rbp), %rax\n",
      "\tmovq\t%rax, (%rcx)\n",
      "\txorps\t%xmm0, %xmm0\n",
      "\tmovups\t%xmm0, -56(%rbp)\n",
      "\txorl\t%ebx, %ebx\n",
      "\ttestq\t%rdi, %rdi\n",
      "\tmovl\t$0, %eax\n",
      "Source line: 3\n",
      "\tcmovnsq\t%rdi, %rax\n",
      "\txorps\t%xmm0, %xmm0\n",
      "\ttestq\t%rax, %rax\n",
      "\tje\tL335\n",
      "\ttestq\t%rdi, %rdi\n",
      "\tcmovnsq\t%rdi, %rbx\n",
      "\txorps\t%xmm0, %xmm0\n",
      "\tmovabsq\t$4541175352, %r15       ## imm = 0x10EACD638\n",
      "\tmovabsq\t$4541179528, %r13       ## imm = 0x10EACE688\n",
      "Source line: 4\n",
      "\tmovabsq\t$13357183728, %r14      ## imm = 0x31C2672F0\n",
      "\tmovabsq\t$jl_false, %r12\n",
      "L132:\tmovsd\t%xmm0, -80(%rbp)\n",
      "\tmovq\t(%r15), %rdi\n",
      "\tcmpq\t$382, 16(%rdi)          ## imm = 0x17E\n",
      "\tjne\tL186\n",
      "\tmovabsq\t$13357177264, %rax      ## imm = 0x31C2659B0\n",
      "\tcallq\t*%rax\n",
      "\tmovq\t%rax, %rdi\n",
      "\tmovabsq\t$jl_box_int64, %rax\n",
      "\tcallq\t*%rax\n",
      "\tjmpq\tL190\n",
      "L186:\tmovq\t(%r12), %rax\n",
      "L190:\tmovq\t%rax, -56(%rbp)\n",
      "\tmovq\t(%r15), %rax\n",
      "\tmovq\t8(%rax), %rax\n",
      "\tmovq\t%rax, -48(%rbp)\n",
      "\tmovq\t(%r15), %rdx\n",
      "\tmovq\t16(%rdx), %rcx\n",
      "\tleaq\t1(%rcx), %rsi\n",
      "\tmovq\t%rsi, 16(%rdx)\n",
      "\tmovq\t(%rax), %rax\n",
      "\tmovq\t(%rax,%rcx,8), %rcx\n",
      "\tmovq\t%rcx, %rax\n",
      "\tshrq\t%rax\n",
      "\tmovq\t%rax, %rdx\n",
      "\tmovabsq\t$2251799813685247, %rsi ## imm = 0x7FFFFFFFFFFFF\n",
      "\tandq\t%rsi, %rdx\n",
      "\tmovq\t%rdx, %rsi\n",
      "\tnegq\t%rsi\n",
      "\ttestb\t$1, %cl\n",
      "\tcmoveq\t%rdx, %rsi\n",
      "\tcvtsi2sdq\t%rsi, %xmm0\n",
      "\tmovzbl\t%al, %esi\n",
      "\tmovq\t(%r13), %rax\n",
      "\tmovabsq\t$4541174872, %rcx       ## imm = 0x10EACD458\n",
      "\tmovq\t(%rcx), %rcx\n",
      "\tmovq\t(%rcx), %rcx\n",
      "\tmulsd\t(%rcx,%rsi,8), %xmm0\n",
      "\tmovq\t(%rax), %rax\n",
      "\tcmpq\t(%rax,%rsi,8), %rdx\n",
      "\tjb\tL314\n",
      "\tmovq\t(%r15), %rdi\n",
      "\tcallq\t*%r14\n",
      "L314:\tmovsd\t-80(%rbp), %xmm1\n",
      "\taddsd\t%xmm0, %xmm1\n",
      "\tmovaps\t%xmm1, %xmm0\n",
      "\tdecq\t%rbx\n",
      "\tjne\tL132\n",
      "Source line: 6\n",
      "L335:\tmovq\t-64(%rbp), %rax\n",
      "Source line: 2\n",
      "\tmovabsq\t$jl_pgcstack, %rcx\n",
      "Source line: 6\n",
      "\tmovq\t%rax, (%rcx)\n",
      "\taddq\t$40, %rsp\n",
      "\tpopq\t%rbx\n",
      "\tpopq\t%r12\n",
      "\tpopq\t%r13\n",
      "\tpopq\t%r14\n",
      "\tpopq\t%r15\n",
      "\tpopq\t%rbp\n",
      "\tret\n"
     ]
    }
   ],
   "source": [
    "@code_native loop(10)"
   ]
  },
  {
   "cell_type": "code",
   "execution_count": null,
   "metadata": {
    "collapsed": true
   },
   "outputs": [],
   "source": []
  }
 ],
 "metadata": {
  "kernelspec": {
   "display_name": "Julia 0.4.6",
   "language": "julia",
   "name": "julia-0.4"
  },
  "language_info": {
   "file_extension": ".jl",
   "mimetype": "application/julia",
   "name": "julia",
   "version": "0.4.6"
  }
 },
 "nbformat": 4,
 "nbformat_minor": 0
}
